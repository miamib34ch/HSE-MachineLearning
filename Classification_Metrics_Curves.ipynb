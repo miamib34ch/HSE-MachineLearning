{
  "cells": [
    {
      "cell_type": "markdown",
      "source": [
        "Классификация: является ли мошенничеством, да/нет"
      ],
      "metadata": {
        "id": "V259ZAu6s1Dr"
      },
      "id": "V259ZAu6s1Dr"
    },
    {
      "cell_type": "markdown",
      "source": [
        "# Подготовка"
      ],
      "metadata": {
        "id": "4W2h8wzut5KA"
      },
      "id": "4W2h8wzut5KA"
    },
    {
      "cell_type": "code",
      "execution_count": null,
      "id": "0edcc893-16f2-4b33-9ece-d8ba592770a7",
      "metadata": {
        "id": "0edcc893-16f2-4b33-9ece-d8ba592770a7"
      },
      "outputs": [],
      "source": [
        "import pandas as pd\n",
        "import numpy as np\n",
        "import matplotlib.pyplot as plt"
      ]
    },
    {
      "cell_type": "code",
      "execution_count": null,
      "id": "11236687-8aa9-40ce-bbb2-7b7db28c7385",
      "metadata": {
        "id": "11236687-8aa9-40ce-bbb2-7b7db28c7385"
      },
      "outputs": [],
      "source": [
        "data = pd.read_csv('DataSet2_1.csv', sep = \"|\")\n",
        "data = data.dropna()"
      ]
    },
    {
      "cell_type": "code",
      "execution_count": null,
      "id": "0920b963-235b-4232-9f24-16bc1d7094db",
      "metadata": {
        "colab": {
          "base_uri": "https://localhost:8080/",
          "height": 476
        },
        "id": "0920b963-235b-4232-9f24-16bc1d7094db",
        "outputId": "9bbc92a3-7c18-4df8-8d03-ebe340a4256d"
      },
      "outputs": [
        {
          "output_type": "execute_result",
          "data": {
            "text/plain": [
              "      trustLevel  totalScanTimeInSeconds  grandTotal  lineItemVoids  \\\n",
              "0              5                    1054       54.70              7   \n",
              "1              3                     108       27.36              5   \n",
              "2              3                    1516       62.16              3   \n",
              "3              6                    1791       92.31              8   \n",
              "4              5                     430       81.53              3   \n",
              "...          ...                     ...         ...            ...   \n",
              "1874           1                     321       76.03              8   \n",
              "1875           1                     397       41.89              5   \n",
              "1876           4                     316       41.83              5   \n",
              "1877           2                     685       62.68              1   \n",
              "1878           4                    1140       38.03              2   \n",
              "\n",
              "      scansWithoutRegistration  quantityModifications  \\\n",
              "0                            0                      3   \n",
              "1                            2                      4   \n",
              "2                           10                      5   \n",
              "3                            4                      4   \n",
              "4                            7                      2   \n",
              "...                        ...                    ...   \n",
              "1874                         7                      2   \n",
              "1875                         5                      0   \n",
              "1876                         8                      1   \n",
              "1877                         6                      2   \n",
              "1878                         2                      3   \n",
              "\n",
              "      scannedLineItemsPerSecond  valuePerSecond  lineItemVoidsPerPosition  \\\n",
              "0                      0.027514        0.051898                  0.241379   \n",
              "1                      0.129630        0.253333                  0.357143   \n",
              "2                      0.008575        0.041003                  0.230769   \n",
              "3                      0.016192        0.051541                  0.275862   \n",
              "4                      0.062791        0.189605                  0.111111   \n",
              "...                         ...             ...                       ...   \n",
              "1874                   0.071651        0.236854                  0.347826   \n",
              "1875                   0.065491        0.105516                  0.192308   \n",
              "1876                   0.094937        0.132373                  0.166667   \n",
              "1877                   0.035036        0.091504                  0.041667   \n",
              "1878                   0.016667        0.033360                  0.105263   \n",
              "\n",
              "      fraud  \n",
              "0         0  \n",
              "1         0  \n",
              "2         0  \n",
              "3         0  \n",
              "4         0  \n",
              "...     ...  \n",
              "1874      0  \n",
              "1875      1  \n",
              "1876      0  \n",
              "1877      0  \n",
              "1878      0  \n",
              "\n",
              "[1879 rows x 10 columns]"
            ],
            "text/html": [
              "\n",
              "  <div id=\"df-0df36473-5810-4f2f-820c-f5f1586b1dbf\">\n",
              "    <div class=\"colab-df-container\">\n",
              "      <div>\n",
              "<style scoped>\n",
              "    .dataframe tbody tr th:only-of-type {\n",
              "        vertical-align: middle;\n",
              "    }\n",
              "\n",
              "    .dataframe tbody tr th {\n",
              "        vertical-align: top;\n",
              "    }\n",
              "\n",
              "    .dataframe thead th {\n",
              "        text-align: right;\n",
              "    }\n",
              "</style>\n",
              "<table border=\"1\" class=\"dataframe\">\n",
              "  <thead>\n",
              "    <tr style=\"text-align: right;\">\n",
              "      <th></th>\n",
              "      <th>trustLevel</th>\n",
              "      <th>totalScanTimeInSeconds</th>\n",
              "      <th>grandTotal</th>\n",
              "      <th>lineItemVoids</th>\n",
              "      <th>scansWithoutRegistration</th>\n",
              "      <th>quantityModifications</th>\n",
              "      <th>scannedLineItemsPerSecond</th>\n",
              "      <th>valuePerSecond</th>\n",
              "      <th>lineItemVoidsPerPosition</th>\n",
              "      <th>fraud</th>\n",
              "    </tr>\n",
              "  </thead>\n",
              "  <tbody>\n",
              "    <tr>\n",
              "      <th>0</th>\n",
              "      <td>5</td>\n",
              "      <td>1054</td>\n",
              "      <td>54.70</td>\n",
              "      <td>7</td>\n",
              "      <td>0</td>\n",
              "      <td>3</td>\n",
              "      <td>0.027514</td>\n",
              "      <td>0.051898</td>\n",
              "      <td>0.241379</td>\n",
              "      <td>0</td>\n",
              "    </tr>\n",
              "    <tr>\n",
              "      <th>1</th>\n",
              "      <td>3</td>\n",
              "      <td>108</td>\n",
              "      <td>27.36</td>\n",
              "      <td>5</td>\n",
              "      <td>2</td>\n",
              "      <td>4</td>\n",
              "      <td>0.129630</td>\n",
              "      <td>0.253333</td>\n",
              "      <td>0.357143</td>\n",
              "      <td>0</td>\n",
              "    </tr>\n",
              "    <tr>\n",
              "      <th>2</th>\n",
              "      <td>3</td>\n",
              "      <td>1516</td>\n",
              "      <td>62.16</td>\n",
              "      <td>3</td>\n",
              "      <td>10</td>\n",
              "      <td>5</td>\n",
              "      <td>0.008575</td>\n",
              "      <td>0.041003</td>\n",
              "      <td>0.230769</td>\n",
              "      <td>0</td>\n",
              "    </tr>\n",
              "    <tr>\n",
              "      <th>3</th>\n",
              "      <td>6</td>\n",
              "      <td>1791</td>\n",
              "      <td>92.31</td>\n",
              "      <td>8</td>\n",
              "      <td>4</td>\n",
              "      <td>4</td>\n",
              "      <td>0.016192</td>\n",
              "      <td>0.051541</td>\n",
              "      <td>0.275862</td>\n",
              "      <td>0</td>\n",
              "    </tr>\n",
              "    <tr>\n",
              "      <th>4</th>\n",
              "      <td>5</td>\n",
              "      <td>430</td>\n",
              "      <td>81.53</td>\n",
              "      <td>3</td>\n",
              "      <td>7</td>\n",
              "      <td>2</td>\n",
              "      <td>0.062791</td>\n",
              "      <td>0.189605</td>\n",
              "      <td>0.111111</td>\n",
              "      <td>0</td>\n",
              "    </tr>\n",
              "    <tr>\n",
              "      <th>...</th>\n",
              "      <td>...</td>\n",
              "      <td>...</td>\n",
              "      <td>...</td>\n",
              "      <td>...</td>\n",
              "      <td>...</td>\n",
              "      <td>...</td>\n",
              "      <td>...</td>\n",
              "      <td>...</td>\n",
              "      <td>...</td>\n",
              "      <td>...</td>\n",
              "    </tr>\n",
              "    <tr>\n",
              "      <th>1874</th>\n",
              "      <td>1</td>\n",
              "      <td>321</td>\n",
              "      <td>76.03</td>\n",
              "      <td>8</td>\n",
              "      <td>7</td>\n",
              "      <td>2</td>\n",
              "      <td>0.071651</td>\n",
              "      <td>0.236854</td>\n",
              "      <td>0.347826</td>\n",
              "      <td>0</td>\n",
              "    </tr>\n",
              "    <tr>\n",
              "      <th>1875</th>\n",
              "      <td>1</td>\n",
              "      <td>397</td>\n",
              "      <td>41.89</td>\n",
              "      <td>5</td>\n",
              "      <td>5</td>\n",
              "      <td>0</td>\n",
              "      <td>0.065491</td>\n",
              "      <td>0.105516</td>\n",
              "      <td>0.192308</td>\n",
              "      <td>1</td>\n",
              "    </tr>\n",
              "    <tr>\n",
              "      <th>1876</th>\n",
              "      <td>4</td>\n",
              "      <td>316</td>\n",
              "      <td>41.83</td>\n",
              "      <td>5</td>\n",
              "      <td>8</td>\n",
              "      <td>1</td>\n",
              "      <td>0.094937</td>\n",
              "      <td>0.132373</td>\n",
              "      <td>0.166667</td>\n",
              "      <td>0</td>\n",
              "    </tr>\n",
              "    <tr>\n",
              "      <th>1877</th>\n",
              "      <td>2</td>\n",
              "      <td>685</td>\n",
              "      <td>62.68</td>\n",
              "      <td>1</td>\n",
              "      <td>6</td>\n",
              "      <td>2</td>\n",
              "      <td>0.035036</td>\n",
              "      <td>0.091504</td>\n",
              "      <td>0.041667</td>\n",
              "      <td>0</td>\n",
              "    </tr>\n",
              "    <tr>\n",
              "      <th>1878</th>\n",
              "      <td>4</td>\n",
              "      <td>1140</td>\n",
              "      <td>38.03</td>\n",
              "      <td>2</td>\n",
              "      <td>2</td>\n",
              "      <td>3</td>\n",
              "      <td>0.016667</td>\n",
              "      <td>0.033360</td>\n",
              "      <td>0.105263</td>\n",
              "      <td>0</td>\n",
              "    </tr>\n",
              "  </tbody>\n",
              "</table>\n",
              "<p>1879 rows × 10 columns</p>\n",
              "</div>\n",
              "      <button class=\"colab-df-convert\" onclick=\"convertToInteractive('df-0df36473-5810-4f2f-820c-f5f1586b1dbf')\"\n",
              "              title=\"Convert this dataframe to an interactive table.\"\n",
              "              style=\"display:none;\">\n",
              "        \n",
              "  <svg xmlns=\"http://www.w3.org/2000/svg\" height=\"24px\"viewBox=\"0 0 24 24\"\n",
              "       width=\"24px\">\n",
              "    <path d=\"M0 0h24v24H0V0z\" fill=\"none\"/>\n",
              "    <path d=\"M18.56 5.44l.94 2.06.94-2.06 2.06-.94-2.06-.94-.94-2.06-.94 2.06-2.06.94zm-11 1L8.5 8.5l.94-2.06 2.06-.94-2.06-.94L8.5 2.5l-.94 2.06-2.06.94zm10 10l.94 2.06.94-2.06 2.06-.94-2.06-.94-.94-2.06-.94 2.06-2.06.94z\"/><path d=\"M17.41 7.96l-1.37-1.37c-.4-.4-.92-.59-1.43-.59-.52 0-1.04.2-1.43.59L10.3 9.45l-7.72 7.72c-.78.78-.78 2.05 0 2.83L4 21.41c.39.39.9.59 1.41.59.51 0 1.02-.2 1.41-.59l7.78-7.78 2.81-2.81c.8-.78.8-2.07 0-2.86zM5.41 20L4 18.59l7.72-7.72 1.47 1.35L5.41 20z\"/>\n",
              "  </svg>\n",
              "      </button>\n",
              "      \n",
              "  <style>\n",
              "    .colab-df-container {\n",
              "      display:flex;\n",
              "      flex-wrap:wrap;\n",
              "      gap: 12px;\n",
              "    }\n",
              "\n",
              "    .colab-df-convert {\n",
              "      background-color: #E8F0FE;\n",
              "      border: none;\n",
              "      border-radius: 50%;\n",
              "      cursor: pointer;\n",
              "      display: none;\n",
              "      fill: #1967D2;\n",
              "      height: 32px;\n",
              "      padding: 0 0 0 0;\n",
              "      width: 32px;\n",
              "    }\n",
              "\n",
              "    .colab-df-convert:hover {\n",
              "      background-color: #E2EBFA;\n",
              "      box-shadow: 0px 1px 2px rgba(60, 64, 67, 0.3), 0px 1px 3px 1px rgba(60, 64, 67, 0.15);\n",
              "      fill: #174EA6;\n",
              "    }\n",
              "\n",
              "    [theme=dark] .colab-df-convert {\n",
              "      background-color: #3B4455;\n",
              "      fill: #D2E3FC;\n",
              "    }\n",
              "\n",
              "    [theme=dark] .colab-df-convert:hover {\n",
              "      background-color: #434B5C;\n",
              "      box-shadow: 0px 1px 3px 1px rgba(0, 0, 0, 0.15);\n",
              "      filter: drop-shadow(0px 1px 2px rgba(0, 0, 0, 0.3));\n",
              "      fill: #FFFFFF;\n",
              "    }\n",
              "  </style>\n",
              "\n",
              "      <script>\n",
              "        const buttonEl =\n",
              "          document.querySelector('#df-0df36473-5810-4f2f-820c-f5f1586b1dbf button.colab-df-convert');\n",
              "        buttonEl.style.display =\n",
              "          google.colab.kernel.accessAllowed ? 'block' : 'none';\n",
              "\n",
              "        async function convertToInteractive(key) {\n",
              "          const element = document.querySelector('#df-0df36473-5810-4f2f-820c-f5f1586b1dbf');\n",
              "          const dataTable =\n",
              "            await google.colab.kernel.invokeFunction('convertToInteractive',\n",
              "                                                     [key], {});\n",
              "          if (!dataTable) return;\n",
              "\n",
              "          const docLinkHtml = 'Like what you see? Visit the ' +\n",
              "            '<a target=\"_blank\" href=https://colab.research.google.com/notebooks/data_table.ipynb>data table notebook</a>'\n",
              "            + ' to learn more about interactive tables.';\n",
              "          element.innerHTML = '';\n",
              "          dataTable['output_type'] = 'display_data';\n",
              "          await google.colab.output.renderOutput(dataTable, element);\n",
              "          const docLink = document.createElement('div');\n",
              "          docLink.innerHTML = docLinkHtml;\n",
              "          element.appendChild(docLink);\n",
              "        }\n",
              "      </script>\n",
              "    </div>\n",
              "  </div>\n",
              "  "
            ]
          },
          "metadata": {},
          "execution_count": 4
        }
      ],
      "source": [
        "data"
      ]
    },
    {
      "cell_type": "code",
      "execution_count": null,
      "id": "db0d9f95-4ace-4cf1-bb5d-97f60bea829b",
      "metadata": {
        "id": "db0d9f95-4ace-4cf1-bb5d-97f60bea829b"
      },
      "outputs": [],
      "source": [
        "from sklearn.model_selection import train_test_split"
      ]
    },
    {
      "cell_type": "code",
      "execution_count": null,
      "id": "3c77b3e7-2fa1-4bb7-8d7c-3023f727b6be",
      "metadata": {
        "id": "3c77b3e7-2fa1-4bb7-8d7c-3023f727b6be"
      },
      "outputs": [],
      "source": [
        "data_train, data_test = train_test_split(data, stratify = data[\"fraud\"])"
      ]
    },
    {
      "cell_type": "code",
      "source": [
        "X = data_train.drop(columns=['fraud'])\n",
        "y = data_train['fraud']\n",
        "X_test = data_test.drop(columns=['fraud'])\n",
        "y_test = data_test['fraud']"
      ],
      "metadata": {
        "id": "eKvzlWfiDmAQ"
      },
      "id": "eKvzlWfiDmAQ",
      "execution_count": null,
      "outputs": []
    },
    {
      "cell_type": "markdown",
      "source": [
        "# Logreg\n"
      ],
      "metadata": {
        "id": "YFo4NpZ2t90L"
      },
      "id": "YFo4NpZ2t90L"
    },
    {
      "cell_type": "code",
      "execution_count": null,
      "id": "6bd5b322-3c7f-41b2-9065-ec31ca6aac4f",
      "metadata": {
        "colab": {
          "base_uri": "https://localhost:8080/"
        },
        "id": "6bd5b322-3c7f-41b2-9065-ec31ca6aac4f",
        "outputId": "be2b6e75-c2a4-49e1-ef4a-1533b34bccf8"
      },
      "outputs": [
        {
          "output_type": "execute_result",
          "data": {
            "text/plain": [
              "LogisticRegression(solver='liblinear')"
            ]
          },
          "metadata": {},
          "execution_count": 8
        }
      ],
      "source": [
        "from sklearn.linear_model import LogisticRegression\n",
        "\n",
        "logreg = LogisticRegression(solver = \"liblinear\")\n",
        "\n",
        "logreg.fit(X, y)"
      ]
    },
    {
      "cell_type": "code",
      "source": [
        "from sklearn.metrics import accuracy_score, precision_score, recall_score, f1_score\n",
        "logreg_labels, logreg_predictions = y_test, logreg.predict(X_test)\n",
        "print(accuracy_score(logreg_labels, logreg_predictions))\n",
        "print(precision_score(logreg_labels, logreg_predictions))\n",
        "print(recall_score(logreg_labels, logreg_predictions))\n",
        "print(f1_score(logreg_labels, logreg_predictions))"
      ],
      "metadata": {
        "colab": {
          "base_uri": "https://localhost:8080/"
        },
        "id": "BvxOhG2UD3Xq",
        "outputId": "9a94381e-5079-4ef6-aaff-f9f47c2c80f8"
      },
      "id": "BvxOhG2UD3Xq",
      "execution_count": null,
      "outputs": [
        {
          "output_type": "stream",
          "name": "stdout",
          "text": [
            "0.9680851063829787\n",
            "0.8235294117647058\n",
            "0.5384615384615384\n",
            "0.6511627906976744\n"
          ]
        }
      ]
    },
    {
      "cell_type": "markdown",
      "source": [
        "# SVM"
      ],
      "metadata": {
        "id": "4BvQClQvDoWu"
      },
      "id": "4BvQClQvDoWu"
    },
    {
      "cell_type": "code",
      "source": [
        "from sklearn import svm\n",
        "\n",
        "SVMmodel = svm.SVC(kernel=\"linear\")\n",
        "\n",
        "SVMmodel.fit(X, y)"
      ],
      "metadata": {
        "colab": {
          "base_uri": "https://localhost:8080/"
        },
        "id": "SlgzdTw5t0Q-",
        "outputId": "fef24716-f38e-4fd9-b8fc-f5451b6331a1"
      },
      "id": "SlgzdTw5t0Q-",
      "execution_count": null,
      "outputs": [
        {
          "output_type": "execute_result",
          "data": {
            "text/plain": [
              "SVC(kernel='linear')"
            ]
          },
          "metadata": {},
          "execution_count": 26
        }
      ]
    },
    {
      "cell_type": "code",
      "source": [
        "from sklearn.metrics import accuracy_score, precision_score, recall_score, f1_score\n",
        "SVMlabels, SVMpredictions = y_test, SVMmodel.predict(X_test)\n",
        "print(accuracy_score(SVMlabels, SVMpredictions))\n",
        "print(precision_score(SVMlabels, SVMpredictions))\n",
        "print(recall_score(SVMlabels, SVMpredictions))\n",
        "print(f1_score(SVMlabels, SVMpredictions))"
      ],
      "metadata": {
        "colab": {
          "base_uri": "https://localhost:8080/"
        },
        "id": "1nziQAQgEEHS",
        "outputId": "4c3b98e3-745c-4120-8d28-5f268f5e489b"
      },
      "id": "1nziQAQgEEHS",
      "execution_count": null,
      "outputs": [
        {
          "output_type": "stream",
          "name": "stdout",
          "text": [
            "0.9723404255319149\n",
            "0.9333333333333333\n",
            "0.5384615384615384\n",
            "0.6829268292682926\n"
          ]
        }
      ]
    },
    {
      "cell_type": "markdown",
      "source": [
        "# Decision tree"
      ],
      "metadata": {
        "id": "03TG41OoDsCN"
      },
      "id": "03TG41OoDsCN"
    },
    {
      "cell_type": "code",
      "source": [
        "from sklearn import tree\n",
        "\n",
        "DTmodel = tree.DecisionTreeClassifier()\n",
        "\n",
        "DTmodel.fit(X,y)"
      ],
      "metadata": {
        "colab": {
          "base_uri": "https://localhost:8080/"
        },
        "id": "AmRJsrqTt1rj",
        "outputId": "9bed83e9-9fba-4308-d0d0-382f24fe3043"
      },
      "id": "AmRJsrqTt1rj",
      "execution_count": null,
      "outputs": [
        {
          "output_type": "execute_result",
          "data": {
            "text/plain": [
              "DecisionTreeClassifier()"
            ]
          },
          "metadata": {},
          "execution_count": 18
        }
      ]
    },
    {
      "cell_type": "code",
      "source": [
        "from sklearn.metrics import accuracy_score, precision_score, recall_score, f1_score\n",
        "DTlabels, DTpredictions = y_test, DTmodel.predict(X_test)\n",
        "print(accuracy_score(DTlabels, DTpredictions))\n",
        "print(precision_score(DTlabels, DTpredictions))\n",
        "print(recall_score(DTlabels, DTpredictions))\n",
        "print(f1_score(DTlabels, DTpredictions))"
      ],
      "metadata": {
        "colab": {
          "base_uri": "https://localhost:8080/"
        },
        "id": "5IuL9zjxEFLC",
        "outputId": "02dd1af4-c444-4879-d8d9-495c1bad93ae"
      },
      "id": "5IuL9zjxEFLC",
      "execution_count": null,
      "outputs": [
        {
          "output_type": "stream",
          "name": "stdout",
          "text": [
            "0.9553191489361702\n",
            "0.6190476190476191\n",
            "0.5\n",
            "0.5531914893617021\n"
          ]
        }
      ]
    },
    {
      "cell_type": "markdown",
      "source": [
        "# Метрики"
      ],
      "metadata": {
        "id": "dgUIHPKMMTrx"
      },
      "id": "dgUIHPKMMTrx"
    },
    {
      "cell_type": "markdown",
      "source": [
        "![image.png](data:image/png;base64,iVBORw0KGgoAAAANSUhEUgAAA7gAAAEuCAYAAACkmb4sAAAMQmlDQ1BJQ0MgUHJvZmlsZQAASImVVwdYU8kWnluSkEBooUsJvQkCUgJICaEFkF4EUQlJgFBiDAQVO7Ko4FpQsYANXRVR7IBYUESxsCj2vlhQUdbFgl15kwK67ivfm++bO//958x/zpw7984dANROcESiXFQdgDxhgTg2JIA+LjmFTnoClAEV6AIbgHG4+SJmdHQEgGWo/Xt5dx0g0vaKg1Trn/3/tWjw+PlcAJBoiNN5+dw8iA8CgFdzReICAIhS3nxqgUiKYQVaYhggxAulOFOOq6U4XY73ymziY1kQtwGgpMLhiDMBUL0EeXohNxNqqPZD7CTkCYQAqNEh9s3Lm8yDOA1iG2gjgliqz0j/QSfzb5rpw5ocTuYwls9FVpQCBfmiXM70/zMd/7vk5UqGfFjBqpIlDo2Vzhnm7WbO5HApVoG4T5geGQWxJsQfBDyZPcQoJUsSmiC3Rw25+SyYM6ADsROPExgOsSHEwcLcyAgFn54hCGZDDFcIOk1QwI6HWA/ihfz8oDiFzSbx5FiFL7QhQ8xiKvizHLHMr9TXfUlOAlOh/zqLz1boY6pFWfFJEFMgtigUJEZCrAqxY35OXLjCZkxRFityyEYsiZXGbwFxLF8YEiDXxwozxMGxCvuyvPyh+WKbsgTsSAXeX5AVHyrPD9bG5cjih3PBLvGFzIQhHX7+uIihufD4gUHyuWPP+MKEOIXOB1FBQKx8LE4R5UYr7HEzfm6IlDeD2DW/ME4xFk8sgAtSro9niAqi4+Vx4kXZnLBoeTz4MhABWCAQ0IEE1nQwGWQDQWdfYx+8k/cEAw4Qg0zABw4KZmhEkqxHCK9xoAj8CREf5A+PC5D18kEh5L8Os/KrA8iQ9RbKRuSAJxDngXCQC+8lslHCYW+J4DFkBP/wzoGVC+PNhVXa/+/5IfY7w4RMhIKRDHmkqw1ZEoOIgcRQYjDRFjfAfXFvPAJe/WF1wRm459A8vtsTnhC6CA8J1wjdhFuTBMXin6IcC7qhfrAiF+k/5gK3gppueADuA9WhMq6DGwAH3BX6YeJ+0LMbZFmKuKVZof+k/bcZ/PA0FHZkJzJK1iX7k21+Hqlqp+o2rCLN9Y/5kceaPpxv1nDPz/5ZP2SfB9vwny2xhdgBrB07iZ3DjmKNgI61YE1YB3ZMiodX12PZ6hryFiuLJwfqCP7hb+jJSjOZ71Tn1Ov0Rd5XwJ8m/UYD1mTRdLEgM6uAzoQ7Ap/OFnIdR9JdnFxcAJDuL/LP15sY2b6B6HR85+b/AYBPy+Dg4JHvXFgLAPs84Ot/+Dtnw4BbhzIAZw9zJeJCOYdLLwT4lVCDb5o+MAbmcP9yAC7AHXgDfxAEwkAUiAfJYCKMPguuczGYCmaCeaAUlINlYBVYBzaCLWAH2A32g0ZwFJwEZ8AFcAlcA3fg6ukBL0A/eAc+IwhCQqgIDdFHTBBLxB5xQRiILxKERCCxSDKShmQiQkSCzETmI+VIBbIO2YzUIvuQw8hJ5BzShdxCHiC9yGvkE4qhKqgWaoRaoaNQBspEw9F4dAKaiU5Bi9ASdAm6Bq1Bd6EN6En0AnoN7UZfoAMYwJQxHcwUc8AYGAuLwlKwDEyMzcbKsEqsBqvHmuFzvoJ1Y33YR5yI03A67gBXcCiegHPxKfhsfDG+Dt+BN+Bt+BX8Ad6PfyNQCYYEe4IXgU0YR8gkTCWUEioJ2wiHCKfhu9RDeEckEnWI1kQP+C4mE7OJM4iLieuJe4gniF3ER8QBEomkT7In+ZCiSBxSAamUtJa0i9RCukzqIX1QUlYyUXJRClZKURIqFStVKu1UOq50Wemp0meyOtmS7EWOIvPI08lLyVvJzeSL5B7yZ4oGxZriQ4mnZFPmUdZQ6imnKXcpb5SVlc2UPZVjlAXKc5XXKO9VPqv8QPmjiqaKnQpLJVVForJEZbvKCZVbKm+oVKoV1Z+aQi2gLqHWUk9R71M/qNJUHVXZqjzVOapVqg2ql1VfqpHVLNWYahPVitQq1Q6oXVTrUyerW6mz1Dnqs9Wr1A+r31Af0KBpOGtEaeRpLNbYqXFO45kmSdNKM0iTp1miuUXzlOYjGkYzp7FoXNp82lbaaVqPFlHLWoutla1VrrVbq1OrX1tT21U7UXuadpX2Me1uHUzHSoetk6uzVGe/znWdT7pGukxdvu4i3Xrdy7rv9Ubo+evx9cr09uhd0/ukT9cP0s/RX67fqH/PADewM4gxmGqwweC0Qd8IrRHeI7gjykbsH3HbEDW0M4w1nGG4xbDDcMDI2CjESGS01uiUUZ+xjrG/cbbxSuPjxr0mNBNfE4HJSpMWk+d0bTqTnktfQ2+j95samoaaSkw3m3aafjazNkswKzbbY3bPnGLOMM8wX2neat5vYWIx1mKmRZ3FbUuyJcMyy3K1ZbvleytrqySrBVaNVs+s9azZ1kXWddZ3bag2fjZTbGpsrtoSbRm2ObbrbS/ZoXZudll2VXYX7VF7d3uB/Xr7rpGEkZ4jhSNrRt5wUHFgOhQ61Dk8cNRxjHAsdmx0fDnKYlTKqOWj2kd9c3JzynXa6nTHWdM5zLnYudn5tYudC9elyuXqaOro4NFzRjeNfuVq78p33eB6043mNtZtgVur21d3D3exe717r4eFR5pHtccNhhYjmrGYcdaT4BngOcfzqOdHL3evAq/9Xn95O3jneO/0fjbGegx/zNYxj3zMfDg+m326fem+ab6bfLv9TP04fjV+D/3N/Xn+2/yfMm2Z2cxdzJcBTgHigEMB71lerFmsE4FYYEhgWWBnkGZQQtC6oPvBZsGZwXXB/SFuITNCToQSQsNDl4feYBuxuexadn+YR9issLZwlfC48HXhDyPsIsQRzWPRsWFjV4y9G2kZKYxsjAJR7KgVUfeiraOnRB+JIcZEx1TFPIl1jp0Z2x5Hi5sUtzPuXXxA/NL4Owk2CZKE1kS1xNTE2sT3SYFJFUnd40aNmzXuQrJBsiC5KYWUkpiyLWVgfND4VeN7Ut1SS1OvT7CeMG3CuYkGE3MnHpukNokz6UAaIS0pbWfaF04Up4YzkM5Or07v57K4q7kveP68lbxevg+/gv80wyejIuNZpk/miszeLL+syqw+AUuwTvAqOzR7Y/b7nKic7TmDuUm5e/KU8tLyDgs1hTnCtsnGk6dN7hLZi0pF3VO8pqya0i8OF2/LR/In5DcVaMEf+Q6JjeQXyYNC38Kqwg9TE6cemKYxTTitY7rd9EXTnxYFF/02A5/BndE603TmvJkPZjFnbZ6NzE6f3TrHfE7JnJ65IXN3zKPMy5n3e7FTcUXx2/lJ85tLjErmljz6JeSXulLVUnHpjQXeCzYuxBcKFnYuGr1o7aJvZbyy8+VO5ZXlXxZzF5//1fnXNb8OLslY0rnUfemGZcRlwmXXl/st31GhUVFU8WjF2BUNK+kry1a+XTVp1blK18qNqymrJau710SsaVprsXbZ2i/rstZdqwqo2lNtWL2o+v163vrLG/w31G802li+8dMmwaabm0M2N9RY1VRuIW4p3PJka+LW9t8Yv9VuM9hWvu3rduH27h2xO9pqPWprdxruXFqH1knqenel7rq0O3B3U71D/eY9OnvK94K9kr3P96Xtu74/fH/rAcaB+oOWB6sP0Q6VNSAN0xv6G7Mau5uSm7oOhx1ubfZuPnTE8cj2o6ZHq45pH1t6nHK85PhgS1HLwAnRib6TmScftU5qvXNq3KmrbTFtnafDT589E3zmVDuzveWsz9mj57zOHT7PON94wf1CQ4dbx6Hf3X4/1One2XDR42LTJc9LzV1juo5f9rt88krglTNX2VcvXIu81nU94frNG6k3um/ybj67lXvr1e3C25/vzL1LuFt2T/1e5X3D+zV/2P6xp9u9+9iDwAcdD+Me3nnEffTicf7jLz0lT6hPKp+aPK195vLsaG9w76Xn45/3vBC9+NxX+qfGn9UvbV4e/Mv/r47+cf09r8SvBl8vfqP/Zvtb17etA9ED99/lvfv8vuyD/ocdHxkf2z8lfXr6eeoX0pc1X22/Nn8L/3Z3MG9wUMQRc2S/AhisaEYGAK+3A0BNBoAGz2eU8fLzn6wg8jOrDIH/hOVnRFlxB6Ae/r/H9MG/mxsA7N0Kj19QXy0VgGgqAPGeAB09ergOndVk50ppIcJzwCb21/S8dPBvivzM+UPcP7dAquoKfm7/BddQfFsU/O+kAAAAimVYSWZNTQAqAAAACAAEARoABQAAAAEAAAA+ARsABQAAAAEAAABGASgAAwAAAAEAAgAAh2kABAAAAAEAAABOAAAAAAAAAJAAAAABAAAAkAAAAAEAA5KGAAcAAAASAAAAeKACAAQAAAABAAADuKADAAQAAAABAAABLgAAAABBU0NJSQAAAFNjcmVlbnNob3TfN77sAAAACXBIWXMAABYlAAAWJQFJUiTwAAAB1mlUWHRYTUw6Y29tLmFkb2JlLnhtcAAAAAAAPHg6eG1wbWV0YSB4bWxuczp4PSJhZG9iZTpuczptZXRhLyIgeDp4bXB0az0iWE1QIENvcmUgNi4wLjAiPgogICA8cmRmOlJERiB4bWxuczpyZGY9Imh0dHA6Ly93d3cudzMub3JnLzE5OTkvMDIvMjItcmRmLXN5bnRheC1ucyMiPgogICAgICA8cmRmOkRlc2NyaXB0aW9uIHJkZjphYm91dD0iIgogICAgICAgICAgICB4bWxuczpleGlmPSJodHRwOi8vbnMuYWRvYmUuY29tL2V4aWYvMS4wLyI+CiAgICAgICAgIDxleGlmOlBpeGVsWURpbWVuc2lvbj4zMDI8L2V4aWY6UGl4ZWxZRGltZW5zaW9uPgogICAgICAgICA8ZXhpZjpQaXhlbFhEaW1lbnNpb24+OTUyPC9leGlmOlBpeGVsWERpbWVuc2lvbj4KICAgICAgICAgPGV4aWY6VXNlckNvbW1lbnQ+U2NyZWVuc2hvdDwvZXhpZjpVc2VyQ29tbWVudD4KICAgICAgPC9yZGY6RGVzY3JpcHRpb24+CiAgIDwvcmRmOlJERj4KPC94OnhtcG1ldGE+Cqa3LsAAAAAcaURPVAAAAAIAAAAAAAAAlwAAACgAAACXAAAAlwAAc/jM5B0nAABAAElEQVR4AexdBbwVxRc+Kt1Ig5SC0l2CICCCCAIKUhIKIlIiDQLSoShdKt0hSAvSiqAiCNJdSkt3/N9/vtXZtzt3796979373o0z/nCn45s59+23c+bMExHCETtGgBFgBBgBeuKJJzQU+GeRFwMj4D0CLD/eY8YlGAGJAMuPRIKfjID3CKjy8wQTXO9B5BKMACMQmgioP5ChOUoeFSPgHwRYfvyDK9caHgiw/ITHPPMo/YOAKj9McP2DM9fKCDACQYiA+gMZhEPgLjMCsYYAy0+sQc8NhwACLD8hMIk8hFhDQJUfJrixNhXcMCPACAQaAuoPZKD1j/vDCAQyAiw/gTw73LdAR4DlJ9BniPsXyAio8sMEN5Bni/vGCDACMYqA+gMZo41zY4xAkCPA8hPkE8jdj1UEWH5iFX5uPMgRUOWHCW6QTyh3nxFgBHyHgPoD6buauSZGIPQRYPkJ/TnmEfoPAZYf/2HLNYc+Aqr8MMEN/TnnETICjIBDBNQfSIfFOBsjwAgIBFh+eBkwAlFHgOUn6thxSUZAlR8muLwmGAFGgBH4DwH1B5KBYQQYAecIsPw4x4pzMgIqAiw/KiIcZgScI6DKDxNc59hxTkaAEQhxBNQfyBAfLg+PEfApAiw/PoWTKwszBFh+wmzCebg+RUCVHya4PoWXK2MEGIFgRkD9gQzmsXDfGYGYRoDlJ6YR5/ZCCQGWn1CaTR5LTCOgyg8T3JieAW6PEWAEAhYB9QcyYDvKHWMEAhABlp8AnBTuUtAgwPITNFPFHQ1ABFT5YYIbgJPEXWIEGIHYQUD9gYydXnCrjEBwIsDyE5zzxr0ODARYfgJjHrgXwYmAKj9McINzHrnXjAAj4AcE1B9IPzTBVTICIYsAy0/ITi0PLAYQYPmJAZC5iZBFQJUfJrghO9U8MEaAEfAWAfUH0tvynJ8RCGcEWH7CefZ57NFFgOUnughy+XBGQJUfJrjhvBp47IwAI2BCQP2BNCVygBFgBGwRYPmxhYcTGQFbBFh+bOHhREbAFgFVfpjg2sLFiYwAIxBOCKg/kHZjP3fuHK1evZpu3LhBiRIlosqVK1PWrFntinAaIxDSCHgjP0Ygbt++TRs2bKAjR47Q0aNH6dSpU5pMpU+fnooUKUIVK1a0lC3I4PLly+nu3bv01FNPUfHixalkyZLGqr3y//nnn7RlyxZ68OABJUyYkGrUqEEZMmTQ60Df9u3bp4effvppKlWqFMWNG1ePi47nn3/+oR07dmjjQT0YU4kSJSht2rTRqZbLBgkC3srPH3/8QadPn3Y7unjx4tGzzz5LOXPmpCeffNJtPncJ+/fv12TSXbq38XHixKHXXntNW9feluX8jIAnBFT5YYLrCTFOZwQYgbBBQP2BtBt4p06daPjw4XqWRo0a0cyZM/UwexiBcEPAG/kBNiCSEydOpMGDB9OFCxfcwoV6X3nlFerTpw+99NJLer6+fftSv3799HDixInp/PnzlCRJEj3OG0/27Nnp5MmTehHId4cOHbQwPmZVrVpVT5OezJkz0/r16zUSIeOi8vzll1+0j2Q3b940FU+XLh2dOHFCI9ymBA6EHALeyM+sWbOocePGjjDAB9j8+fNTwYIFtQ9GDRo0oGTJknksmzt3bjp48KDHfN5kWLFiBVWrVs2bIpyXEXCEgIv8RLBjBBgBRoAR0BAQv6IR+OfEffzxx1peWaZhw4ZOinEeRiBkEZCy4GSAQvMhIm/evCYZkuXdPcWOZoR44darX7x4sUv52bNn6+neeH799VeXujZu3KhXIYiuS7rspyC+er6oegT5cFv/3r17o1otlwsiBOR6ctJl9e+PLOvkmTJlygjxYSjizp07tk0JDQW3a9JJO1Z5li5datsmJzICUUVArjdZ3tmbnMzNT0aAEWAEQhgB9QfSbqjqCwYTXDu0OC0cEPBGfurUqeP25Tlp0qQR4mu8ZbrxBRkv6Mgr28VTqBVHCerOnTub6hGqyRGPHz/W61Ll3dgm+irUl/W83nrEDrCpbWPd8AvVaW+r5PxBiICcdyddt1uPsh5PT6H+H3HmzBm3zQnVZtt16al+q/Rly5a5bY8TGIHoICDXm6yDVZQFIuwYAUaAEQACLiouNrBAdXHkyJF6DkFwSewe6WH2MALhhoBT+YGcQKXf6HB+/bPPPtPO6CVPnlw7h4ozgFD7nz59Ol27dk3LLl6Q6Y033tCLNm3alGbMmKGH48ePr6k7ow5vnKqeLAgEjRgxQq9ClXc94T9Pt27daOjQoWq0o3Dt2rVJ7Ea7zYuzwVAxZRfaCDiVH6CgrscXX3zRpK5/69Ytwpnus2fPaufbt27dSg8fPnQBEOfchfYCZcmSxSVt9+7ddOjQIZd4GfH999/TtGnTZJDSpElDY8eO1cOqB2fVIbs4i8uOEfA1Ai7yI5kuPxkBRoARCHcExA+u9sXaCQ7qF3TewXWCGucJZQScys+7775r2hkSL8YR4gyuW2iuXLkS0b1794gCBQpEHD9+3JRPnI011YU+iJduUx5Pgd9++82lDsQZnSrvwmiPqYwwBBUhzhQbizjyYwcNqtcSO2HcyhRGPO/gOoIy6DPJNeBkIOp69PT3R5xNj6hSpYq+zmRbeApDZhH379930qwpz5QpU0z1iY8wpnQOMAIxiYBc07JNVlGWSPCTEWAEwh4B9QfSDhBvXzDs6uI0RiAUEHAqP/ny5TO9GA8ZMiTKw3/06FEEyKVsG09vz8R26dLFVD5Hjhwu/VHlXewcR4gdKVO5BQsWuJTzFNGrVy9THSD/qVOnNsUxwfWEYmikyzXsZDTqevREcFHn//73v4jPP//cZd2iXZzJ9dYxwfUWMc7vTwRU+WEVZYEIO0aAEWAEgICLiosNLKqKmK9VlMX5P+2KBqhpwiqsIAWUMWNGmx45SxIvOSR2wbTrWODHVSe5cuWiFClSOKpA/IHS1EeBFa5SMbrff/9ds/iK601ggRP/nLrr16/Trl276NKlS1o59An1RNVFd5xRbTecyzmRH6hJYt1gfUsHNWRVZVmmOXm2a9fOpBoJVUhcIZQqVSonxbWrVGCpWLrevXtT//79ZVB7qvLetWtXOnbsGC1atEjPB0vP69at08OePLAiDdVQowVpWFOuXr06Xb58WS/OKso6FCHtcSI/EgB1PXrz9weWjI1q/qgTsoLruWCJ3KmbOnUqNWvWTM8ONXqsVXaMQGwg4CI//mTTXDcjwAgwAsGEgPhR1nZOnPQ5Kl/QPdX7119/RXz44YcR4j7PCKgqyv7IJ6xfimtSIkaPHq19jfdUnzFd3O+plRVnFF3qRf3i2gjLf+JMlbGaiOeee04vL66p0NIEMdXUR2U/5bNu3bqmsmrgwIEDEcgj7mp0MSqUIEECDYdPP/3UK9VPX41T7SuHPSMg590uJww3iZdofQ2hjCCodkU8ponzhab6UOfXX3/tsRwybN++3aUs1qXqVHkXBDdi1apVprLiBcsrY1Nz5swxlS9cuLDWLO/gquiHR9iJ/Egk1PXoZAdXlsWzQoUKprWHtsePH2/M4tHPO7geIeIMMYiAKj+sohyD4HNTjAAjENgIqD+Qdr2N7guGWveSJUsixFd0l5cO2Sf1WalSpQgQYk9O7JhFgIiq5Z2GmzdvbmoCxFOWxUvS5s2bXSzZynRcA+POffPNNxHifka9LlnG6okzYmKHzV1VWryvx2nbGCdaIiDnzjLRECkM4pjmHSrG0bFCjKqFkShTnWI31dCiey+Iquw3npJkqiVUeUc5kHVxD66pPOKdujJlypjKfvXVV1pRJrhOEQytfHIdOhmVuh69JbhWH4Vq1qzppGk9DxNcHQr2BAACqvwwwQ2ASeEuMAKMQGAgoP5A2vUqui8YxrqxgyXb9uaJHd2dO3caq3LxYwfUmzrVvO+//76pTiPBxVlFGAhSy8hwqVKlTGVlICqEW6hQRxw5ckRW4fL09ThdGuAIjwjIefeUsVWrVi5rRqjqmu649VSHmt6zZ09TnTDcZGe4SpaH9oDsN57Dhg2TSaanKu+SyKrrzqmxKWg9GNvFdUc3b97U2mSCa4I+bAJyPTgZsLoevSW4aOPVV181rUHce4tzuk4dE1ynSHG+mEBAlR8muDGBOrfBCDACQYGA+gNp12lfvGCgftwLKNuVT7ycgwSOGzcuYtOmTRHiGpSINm3aRIgzuC55sYvqzsESLOqS9eJZrlw5TS0TVjPFNRIR4vxjRLp06Ux5sLMKNegxY8ZEnDx50lS9keAa64UfZKFFixYR4gyhpmJdvnx5U1kExPkvU1soJ87qRsyfP19rCy/527ZtixBnu1zyuXuJ88c4XTrOER4RkOvBU8Y9e/ZExIsXz2V+EQeDT+I8tqcqXNL37t3rUh/kx86JM+OmMlAxdncvqCrvkuBCswDl5NjxdGJsCnJiLAPSLx0TXIlEeD3lenAyanU9uvtttKtL/SiE9j1pyhjrY4JrRIP9sY2AKj9McGN7Rrh9RoARCBgE1B9Iu4754gUDFmChxivbxVMYlNJIoFXbePkGGTTmh1/cR2iVPULczWnKi/O7aFN1+/btM1nWBCk+ePCgmk0LuyO4sP569+5dvQwI9L179/QwPGg7T548pj6BDN+4ccOUTwZwjtI4VlzNYmVR1h/jlH3gp3ME5Fw5KQHLyTK/+sRu/SeffOJoB9bYVsGCBU114mOOnVPXzcsvv+w2uyrvkuCigLoT5kk9+urVqy7nkMWdo3rbTHB1KMLKI+XAyaDV9RgVgjt58mSTvKB9nEl36pjgOkWK88UEAqr8MMGNCdS5DUaAEQgKBNQfSLtO++IFQ31BQPvCCqtdsxHCuqrLtSjuzg1WrlzZ9AKzYcMGt3Xj2hM5fjzx8mPlrAjum2++qZ1HtMpvjFMJa/LkybXxGPOo/tKlS5v61bp1azVLhD/G6dIIR3hEQK4fjxlFBnzs6Ny5s2luZXn5hCYBiCTWvBP32WefmerDzqrdOXWjwTS0Kc/AWrWlyruR4EL7QPYZT7Rrp04/cuRIU36scaNjgmtEI3z8cg05GbG6HqNCcDdu3Ghah2gf90o7derfL74H1ylynM8fCKjywwTXHyhznYwAIxCUCKg/kHaD8MULBnZUZZt4wnqyE6fe24myt27dcimaPn16U/23b992ySMjsGNm7EuPHj1kkumpElwY2bl27Zopj7sAdmuNbfTt29ddVj0e6p7GMtgtU50/xqm2wWHPCMh58pwzMgfmVyV0sh75hIXvuXPnRhZy4xPXnLioC48YMcIy944dO0zrCnfaQmXfnVPl3UhwoamgGogzphvrxBnH559/3tQ2jiAYnYqHldaCMT/7QwMBud6djEZdj1EhuFhXsk35XL9+vZPmtTxMcB1DxRljAAG5hmVTTHAlEvxkBBiBsEdA/YG0A8QXLxgqMZs1a5Zdk3oa1IdlX+XT6iUYBm9kOp7uVIFRcZ8+fUx5Bw8erLdn9KgE15sv/i+88IKpDVhg9uT++OMPUxmc81WdP8aptsFhzwjIteY5pzkH1iU+doDIyjqsnjiH7skITtmyZU11uDN01r17d1M+fHyxc6q8qwRWTXdnbOqHH34wtQvDPkbVfvSBCa7dTIRumlzzTkaorreoEFxx57JpLaJ9rE+njgmuU6Q4X0wgoMoPE9yYQJ3bYAQYgaBAQP2BtOt0dF8wYExJtiefOAvr1OGsriyHJ64ZUh3OIBrz4N5Od069umXlypWWWVWC68RSLSqCSqpqWKh27doRsNJs9w/qz8YxxIkTx+UcsT/GaTl4jrRFQM6TbSabRJxNxYcV1eiZrBfPUaNG2dQQETFhwgTTekEZ1VAaKoAFcGO9uJPWzqnyrhJcGM4y1gc/VJdVh6tYjPk6deqkZmGC64JIeETIdeFktOp6jArBnTdvnmkton0+g+sEfc4TiAio8sMENxBnifvECDACsYKA+gNp14novmCo14SgbXlNiF27Mi1nzpyml5Mvv/xSJulP9foh7KCCRKhOPRuLvrizJhtVgnv8+HFTfyXWUXmqqtb+GKeKEYc9IyDn0nNO+xxQt+/Vq1eEutZQf8KECW3Pt+K8LtSNZV/w/Pzzz00N4motY3rixIkj1DVlKiACqryrBBf5sVtsrFc1NgUVaqNVc5zVPXz4sNoUE1wXRMIjQq4dJ6NV12NUCO7QoUNN6xXtHzt2zEnzWh7ewXUMFWeMAQRU+WGCGwOgcxOMACMQHAioP5B2vY7uC8bSpUtNLxd4mffGqef4rAguXqhBCOS48IRaNPJiN3f27NkR77zzjikdebDL5M6ppMPpDi6uOzL2I6p+jFt1/hin2gaHPSMg59RzTmc5cPWP1T3LMCZl56pVq2Zaa0WKFDFlx/ly2Vc8nZADVd6tCO4333xjqlc1NqW2qxJg2UlWUZZIhNdTrkkno1bXo5M1rNb74YcfmtYrftth/d6pY4LrFCnOFxMIqPLzBBoVkewYAUaAEQh7BMQLqYaBk5/FDh06kLCGqmMmXjBIEEY97MkjCB+JO2xN2cRZPBIvGaY4dwGxg0tHjx7Vk8XLNQlVXz0Mj9gRpuzZs5MwnmOKtwsIAkxC3ZLES7ZlNkGYSRjV0dMEwSVx3lAPu/MIskLCyqYpuWPHjiRUrU1xdgGh4ky1atUicbWSKZs/xmlqgAOOEPBGfhxVKDIJTQcqWrQoibO3epH69euTMDqlh1WPUDcm8eHGFC2sGpNQS9biVNkRdzOTIMWm/GpAlXdBcEkQbVM2rENxVzWJHWg9XuYTxIGEQTa6dOmSnrZw4UKqU6eOHpYeQepJ7ETLIInz9S6yoyeyJ2QQ8EZ+1PXo7d8f/I0rUKAA4XdZOnF+nX788UcZ9PicOnUqifvK9Xz4fcdaZccIxAYCLvIDgsuOEWAEGAFGQPvYp33RdoJFdL+gY9dR/BEw/Ttx4oSTprU86k4qdkhVh7tp1TbswlCxhFEnO6e263QHFyqgatsHDhywa8pxmj/G6bhxzqgjIOdXj/CRB9bFZd14erI2DhVnqB0bywwcOFDrjWq0DNaPHzx44LGnqrxb7eCikubNm5valcamYEDO2B9oUjx8+NCyXd7BtYQl5CPl+nAyUHU9eruDC+0d2Z58wpK+N453cL1Bi/P6GwG5jmU7rKIskeAnI8AIhD0C6g+kHSDRfcF4/Pixi9GlxYsX2zWpp+HcnuyrfKr3fcIyq9GoE0jBpEmTInA1kVT7RHru3LkjYMgJL+CeLNSiA1EluCirWo32xmInyls5f43Tqi2Os0dArkX7XN6nqnc0FytWzGMlDRo0MMmIvKNTvQ4LappOnCrv7gju1q1bTe0CExibUo244YyxO8cE1x0yoR3vjfyo69EbgosPOrBGL9uTTxhK88YxwfUGLc7rbwTkOpbtMMGVSPCTEWAEwh4B9QfSDpDovGDIelVDUa+//rpMsn1+9NFHppeTRIkSuZBToWpmygODIkaHHVVYNvbWRYfglilTxtQnWE+OrvPXOKPbr3As7438eINP6dKlTetGqEV6LL58+XJTGfQNVspVmXNyVRUaU+XdHcFF3jx58pjaTpkypSn85JNPRkCDw51jgusOmdCO90Z+1PXoDcG1Mi5VtWpVr8Flgus1ZFzAjwio8sME149gc9WMACMQXAioP5B2vY/OC4ast3Hjxi4vvp7UdsUZvgj1iiCrXagZM2aY6s6VK1cELBlH10WH4KrWjmHt9vTp09Hqkr/GGa1OhWlhJ/ID42ZdunSxtB5sBRs+YOBqKFk3nrgKyJPDLhXUj43l1Ct6xJlYlw9D7upV5d2O4A4fPtzUrrEP8Hu6c5cJrrtZCO14uU6cjFJdj04ILiyM16tXz2VtwrL3tm3bnDRrysME1wQHB2IZAVV+mODG8oRw84wAIxA4CKg/kHY9i8oLhlqfMHzj8vKOO0BxjYmVg2qyaj0ZZw3PnTvnkh11y/EYn7gq6LXXXovAHbRNmjSJaNWqVUTnzp0jhMEszbKyquqsVhwdgvv333+7nI2EuqkwlqU2YwpDdRpnjMeOHetyXtJf4zR1gAOOEJDrzC5zjRo1tHUJ0tq2bVvbK3+g7iuMNpnWsTAkEuFUlbJly5amsrJ/8gmi7dSp8m5HcPERyng8QLYnn+7umJZ9YYIrkQivp1wfTkatrkc7gnv9+nXtCIq7+6XVa7SctI88THCdIsX5YgIBVX7YirJAhB0jwAgwAkDAxQqfDSyqFUuhhkjCSJNNiX+TYAlY7EBRhgwZtIjWrVtrYWPBZMmSaVZgS5YsSeKMLJ08eZK2b99O4oWCrly5YsxKvXv3pv79+5viZACWYcWOmQw6egr1Sc2yK+rNly+fS5moWlGWFfXr14/69u0rg9ozadKk1K1bN81aLiwkp0iRgi5evEiC0NO6devou+++I2GAS8u7Y8cOEte+mMr7Y5ymBjjgCAEn8iNUIWn16tWm+sqVK0dY6+JcoDb3Qn1Xs+ZqtXa7d+9OQ4YMMZV3F/jpp58IdbtzwuAUFSpUyF2yKV6Vd0FwXawoGwvUrVuXYCVZdVmzZiWhSUGQM3eOrSi7Qya0453Ij0RAXY+ZMmUiccRFJtOdO3dI3HlOZ8+e1aziC5sPeprRA8v7sMAfFcdWlKOCGpfxFwIu8hMTrJrbYAQYAUYgGBAQP7zajo+Tvqpf0GVZJ88FCxboTWD3Vd2lclIH8ohrhiJu3Lih16V6xHU+EYIs2+5iuWsLO8NWFpWjs4OL/uHsr7i6KEp9Ql+tVOn8MU4VSw57RkCuJbuc0BiQ+bx9Yr17c24cO/9QQ7ZqB8bVvHGqvNvt4KLeNWvWWLY7aNAgj83yDq5HiEIyg1ynTganrkdZ1ukTGgbjx4930pTbPLyD6xYaTogFBOTal02zirJEgp+MACMQ9gioP5B2gMAKqszv7RMGcIxO3FMbIe7DdFwf1DvxogxLzHauUaNGpjpBTsX9oBFvv/22dg7wlVdeiRA7Zy6WkeV4xK5AhLi/09REdAkuKrt27VoEDEzJdpw+kydPHgH1T9X5Y5xqGxz2jICcR7ucUIHHmpN5nTxhlAlXQVnNvV1bSAMRtWpjwIABnoqa0lVC4YngQjbFbq2pbZw5P3/+vKleqwATXCtUQj9OrlMnI43q3x/8fuMj07Fjx5w0Y5uHCa4tPJwYwwio8sMEN4YngJtjBBiBwEVA/YG06ykssmbJksX0AivL2z3xkrt7927LqqdPnx5RokQJl3Oqsj6UBSm12sVUK1RfPrAj+/PPP6vZtDCu2lm/fn1E/fr1Xcbz66+/msoYd5thvdluB9lU0CKwdu3aCFjItdtlxphxxQrOiQm1ZZda/DVOl4Y4wiMCcp16zCgyYIcTH3VUC8OyDjyFOnxErVq1NOvHTuq0ygOjber6evrpp702boZ7dI19GzZsmFVzpjjV2JQT68+owGiFGTtt4oiCqV4OhCYCcn05GZ2nvz/43cR1cLDZgKvhOnbsGIFr6PAx1Vdu2bJlEUItVJeLihUr+qpqrocR8BoBVX74DK5AhB0jwAgwAkDA5QxHLMEiftm1c7fiJUY7Q4XzvcJACBUsWJDELqajXuH8LMpL9/XXX1OLFi1k0PIpVDq1862CgOvpo0ePJmH9WA8/fPiQxC6UFhY7TYQzub5wOCsmyIh21lbsMhDqFvfmameQ48eP77YJf43TbYOc4BaBqMgPzgbu379fW+cXLlwgoYJMQoWdxHU+hHOFsk63jTpIkGsWbYkXf02WhBaEg5LmLGIHmYSKvSaDkEknDucghZEfTU4gw04c+imOLmADgnAeF/LALvQRkGsd8x4sTnzg1M764jca61uOIVj6z/0MHQTk2pPywwQ3dOaWR8IIMALRRED9gYxmdbFWHAZGxI6t3j5ePvAiAgNXnpzYUSWxQ6xnGzduHMEQViC6cBlnIGJv1adQkR+rsXEcI+BvBFh+/I0w1x/KCKjywwQ3lGebx8YIMAJeIaD+QHpVOIAyY/dHqBKbeoTdsbRp05ri1IA4H0n58+cncUZWT/r9998168Z6RAB5wmWcAQS5bVdCRX5sB8mJjICfEGD58ROwXG1YIKDKDxPcsJh2HiQjwAg4QUD9gXRSJlDzqFeNiPNRNH/+fE3116rPuDKlefPmhKd0uL4H1xJFRZ1T1uHvZ7iM0984+qL+UJIfX+DBdTAC3iDA8uMNWpyXETAjoMoPE1wzPhxiBBiBMEZA/YEMZiis7uGEirIwUqXtyKZKlYqEhWQ6c+YM7d27lzZv3uwyXNzjKQwBucQHUkS4jDOQMHfXl1CSH3dj5HhGwF8IsPz4C1muNxwQUOWHCW44zDqPkRFgBBwhoP5AOioUoJmEtUwqW7asZrgpKl3s2bMnCcuxUSkao2XCZZwxCmoUGwsl+YkiBFyMEYgyAiw/UYaOCzICuoEzNjLFi4ERYAQYAQWBUHvB+Pvvv6lv3740d+5czfqrMlzLYJkyZahLly5Us2ZNy/RAjAyXcQYi9sY+hZr8GMfGfkbA3wiw/PgbYa4/lBFQ5Yd3cEN5tnlsjAAj4BUC6g+kV4UDODMsKC9YsIB27txJhw8f1oxIibtvKUmSJJQtWzb9X/HixalYsWIBPBL7roXLOO1RiL3UUJWf2EOUWw4nBFh+wmm2eay+RkCVHya4vkaY62MEGIGgRUD9gQzagXDHGYFYQIDlJxZA5yZDBgGWn5CZSh5ILCCgyg8T3FiYBG6SEWAEAhMB9QcyMHvJvWIEAhMBlp/AnBfuVXAgwPITHPPEvQxMBFT5YYIbmPPEvWIEGIFYQED9gYyFLnCTjEDQIsDyE7RTxx0PAARYfgJgErgLQYuAKj9McIN2KrnjjAAj4GsE1B9IX9fP9TECoYwAy08ozy6Pzd8IsPz4G2GuP5QRUOWHCW4ozzaPjRFgBLxCQP2B9KowZ2YEwhwBlp8wXwA8/GghwPITLfi4cJgjoMoPE9wwXxA8fEaAEYhEQP2BjExhHyPACHhCgOXHE0Kczgi4R4Dlxz02nMIIeEJAlZ8nRIEIT4U4nRFgBBgBRoARYAQYAUaAEWAEGAFGgBEIVAT27t2rdY0JbqDOEPeLEWAEGAFGgBFgBBgBRoARYAQYAUbAEQI6wY0QzlEJzsQIMAKMQIgjIFVctp9YHeIj5eExAr5HoHj217RKWX58jy3XGPoISPm5OmxU6A+WR8gI+BiBlF3aazVKWstncH0MMFfHCDACwYsAE9zgnTvueewjIF/QmeDG/lxwD4IPASk/THCDb+64x7GPABPc2J8D7gEjwAgEKAJMcAN0YrhbQYGAfEFnghsU08WdDDAEpPwwwQ2wieHuBAUCTHCDYpq4k4wAIxAbCDDBjQ3Uuc1QQUC+oDPBDZUZ5XHEJAJSfpjgxiTq3FaoIMAEN1RmksfBCDACPkeACa7PIeUKwwgB+YLOBDeMJp2H6jMEpPwwwfUZpFxRGCHABDeMJpuHyggwAt4hwATXO7w4NyNgREC+oDPBNaLCfkbAGQJSfpjgOsOLczECRgSY4BrRYD8jwAgwAgYEmOAawGAvI+AlAvIFnQmul8BxdkZAICDlhwkuLwdGwHsEmOB6jxmXYAQYgTBBgAlumEw0D9MvCMgXdCa4foGXKw1xBKT8MMEN8Ynm4fkFASa4foGVK2UEGIFQQIAJbijMIo8hthCQL+hMcGNrBrjdYEZAyg8T3GCeRe57bCHABDe2kOd2GQFGIOARYIIb8FPEHQxgBOQLOhPcAJ4k7lrAIiDlhwluwE4RdyyAEWCCG8CTw11jBBiB2EWACW7s4s+tBzcC8gWdCW5wzyP3PnYQkPLDBDd28OdWgxsBJrjBPX/ce0aAEfAjAkxw/QguVx3yCMgXdCa4IT/VPEA/ICDlhwmuH8DlKkMeASa4IT/FPEBGgBGIKgJMcKOKHJdjBCKtwDLB5dXACHiPABNc7zHjEoyARIAJrkSCn4wAI8AIKAgwwVUA4SAj4AUC8gWdCa4XoHFWRuA/BKT88A4uLwlGwHsEmOB6jxmXYAQYgTBBgAlumEw0D9MvCMgXdCa4foGXKw1xBKT8MMEN8Ynm4fkFASa4foGVK2UEGIFQQIAJbijMom/HcOP6Ldq4egudOHaGLl+4TDdv3KZkyZNS6rRP0wv5ctDLlV6khIkS+LZRQ21nz5yno4dP0pEDJ+jYoRP04P4DypQ1I2XOkoHyFspFufPnNOS29u7bfYguXbxinegwNk6cp6hkmcIUN15ctyXkCzoTXLcQhV0Cy8+/U+6N/DDBDTsxcTvga3fv0PI9u+nwhQt07sZ1un7vLqVMmJjSJ0tGBTM9Q1Xz5qNE8eK7LR/dhNNXr9D+s2dp3znx7/xZuv/oEWVPlYqeTZ2GimTOSoWeyRytJm7eu0eHLl6gIxfP05FLF+n4pcsUIf5LniCh1kbhLFmodPbnKO5TT3lshwmuR4g4AyPACIQrAkxww3XmXcd9++YdGj5wIn2/ZAM9fPDINcN/MfETxKd33n+LWrRvRHiJ9ZXb/+dh6tNxGJ0UxNrOlatUitp2bUbZc2axzHb3zj2qULA2PX702DLdm8hu/dtQncZvuC3CBNctNGGXwPLjOuVO5YcJrit24RYD4tdz2Xc0f+d2evDY/W93wrhxqU25CtTt1dcojgMS6BTHP86cppZzZ2qk065M1Tz5qO/rNej5dOnssrmk3Xlwn0ZtXE+jN22ge48euqQbI9ImTUrLWralF9KlN0a7+JngukDCEYwAI8AI/IsAE1xeCUAApLJDs0/pr9PnHANSoGgeGj9rCIHwRsc9Fi8zU8fPo0mjZtPjx/9zVFW8+HHpq7nDKF/hXC75z/51gWqWbeoSH5WIj3u2EGS+ttuiTHDdQhNWCSw/1tPtVH6Y4FrjFy6xRy5epHpTJtKJf/5xPOSSWbPTkpatKUHceI7LWGV8/L//0fD1P9Dn69bQI+F34uLHiUMrWn1ExbJkdZKdlv25i7ovW0znrl93lB+ZPq9Vm1qUKWebnwmuLTycyAgwAuGMABPccJ79f8d+S6ggN631EZ0+8bcLGIkSJxQENh5d/cf6D3PVWhWo/4huLuW8iRg9dDLN/GqhZZGMz6Sja9du0J1bd13Sn06dgqYvHU3pM6Y1pT24/5DK5a3pmCybCiuBNl3fo3db1VNiI4NMcCOxCFcfy4/7mXcqP0xw3WMY6ik3hApyxVFf0rHLl1yGmkSoIicQO7aXb99ySUNE3cLF6KuGjS3TnEb2WblM7Kqud8n+hIjJ8vTTdOX2bbp5/75LepokSWhj+86UKUVKlzRjxIbDB6nupIn0OCLCGK35UUe6pMm0HV2Q39sPHuh5htR8kz58qbwetvIwwbVCheMYAUaAERAIMMHlZTC091haNGuFCYiiLxagjz9pQbny/Xve9fatOzRv2hKaOm4+3b9n/mM/fvZQKl66kKm80wB2jOu+2sKkEh0vfjyCauMrVctS4qSJ6H/iq/rxw6eof9fhdGDPEVPVVWqWp4Eju5viENi2+Xc6cfS0S7xdxK7f94mzxz+bsoyeNpBefLmYKc4YYIJrRCM8/Sw//857dOSHCW54yg5G3WnxApqyzfy7W/a5nDSgek0q+N9511v379HEnzbT8A1r6e5Ds3rv0pZtqFyO56ME4Mkrl6nk54NNKtEJ4sSlL96qQzXyF6KkCRJof38OXjhPbRfMoT/+Mh+fqVOoKH3zThO3bYO0vzLqC3GO+J4pT9OSpal12fImNWfsJO89+zet2reHdv39F3WtVIWKetghZoJrgpUDjAAjwAhEIsAENxKLcPTdv/eAqpSoTzg/KF22HJlpxtIxloakNq/bRp1b9JNZtWepckVpzPRBpjinga6t+gtSuVXPniBhfPpq3jDKU8D1hQU7Ze3f60V/7jyg548TNw6t3DqLsJsbXde11QATwU2fMQ0t+XEaPWVzzosJbnRRD+7yLD+R8xcd+WGCG4ljOPnuC7L6fL9edEMQWOmeT5tW2xm1MiT1/b691HDaNzKr9qz4Qi5a9H4rU5zTQJPpk2n53j/17ImEuvOKVu2ocOYsepz0YKf5bbET+9upkzJKMwS1r1c/SpMkqR5n9FQYOUwjq8a4gW/U0s4QG+Oi6meCG1XkuBwjwAiEPAJMcEN+im0HuHblj/RJ28F6HhBMqP0+m9P92aK+nb+glYvW6WXg+eH3+ZQyVXJTnKfAvbv3qGyeWqZs77Sore0cmyINgcP7j9E71doYYojadW9GTVrWNcV5G/j7zDl6q3xz7Wu9LOukXia4Eq3wfLL8/Dvv0ZUfJrjhKT/f7f6Dms2apg8eBHND+062xpVaz5tNc3f8ppeBKvHhvoModeIkepwTz12hDpypZxdhvzjStRXGqwYIAurOYYe17IjPTcl9X3+D2leoZIpDYNuJY/T6+NGm+NFv16fGJV40xUUn4BOCe/nyZTp27BhdEGar79y5Q0mE3nSuXLno2WefpSeffDI6/dPKnjlzhvbt20ePhDnq9OnTU+7cuSlx4sRe1+ttPRFCJ/zu3X/PNiVKlMhxeygDtTGUkS/IVoVl/ciTMGFCU5bffxcqZCdOaF/HMV788+QCZR5gFAUYxIsXT/vnqd/GdMzxfaHPn0CoPtjtDBjL+NKPOcE6OXToEF25coVSCfPnzz//PGURpsmj6rxdd+7aAa5Hjhyh/fv3azKWL18+ypgxo7vsbuN9ve5kQ9fFGYldu3bRpUuXtPWK34DYmEPZH188pfzyNSe+QDP46vi4WW/6eeN2veNvNnydPhn0kR628uz8dQ+1rN/FlDRkfE+qJFSKvXGH9h2jRtXNZHXVL7MpTbpUttXUq9ySjh85ped56ZWSNGKSeVdZT3To+bL/RJo3dYmeG4az0Jdkye1fmpjg6pCFpYfl599pj678MMENS/GhupO/orUH9+uDf7dUaRpR273NA2TcevwYVZtgJo7TGr9HNQsU0utx4tnz999UbqSZrB7o3V9cR2T/ofbFL4YQVJale01YVZ77XgsZ1J8g7iDw0hXPko1+aNdBBn3yjDLBPXXqFH311Ve0fPlyjXzipVl1IHiNGjWiQYPE14PUqdVk2/CGDRuof//+tHv3bmFE45opL4hThQoVqEuXLvTKK6+Y0tRAVOsBUc+WLZv2so46s2bNSidPnlSrdwmDDIGEwGHMIP7JxP1UVi5HjhxaOtIaN25MM2bM0MbbpEkT+vPPSLUApNetW5fmz58Pr8kF2jxMmDCB2rRpQ3I91KtXj+bNm2fqs7tA27Ztady4cVoyiNHixYupRo0a7rL7NP5vIcw9evSgRYsWaR9p1MrxsaZFixbUoUMHih/fs1XUqK47tV30a+DAgbRjxw7au3ev/sFF5kuZMiXlzZtXWx/ATxIymW719MW6k/UePHiQ+vTpQ/KDjJx3pOMjRf78+alq1arUq1cviiuMIQSbk3gywQ22mYt+f69cvkavl2poMsY0aEwPqlz9ZdvKIQNVSzagfy5F/t1q0PxN6tirpW05NfGHFZupZ7shenSyFElp/R8L9bA7z5Rxc2nCF9P15HQZUtMKoaYcVQfV52qlG9Gd2/9+7EU9Tog+8jHBBQrh6Vh+/p13X8gPE9zwk6FLt25SngGfmiwXT36nKb1VqIgtGPj7k2tAb7p486aeD+dZB9V4Uw878SzetZOaz478O/J0wkR0rH/k3yN3dcDi8oDVK/XkTClS0N6e/fQwPFfv3NZUr41WmSc1bEK1Cxc15YtuwGuCC/BALEeOHCn+8Lu/i8nYsRRigNOnT3dEVkAsu3XrphEd48uysT6j//3336evv/7a5cU+uvX8I8xxq6TcSX/wUo8dSOn++usvypQpkwyanti1vfff4WoQ9r59+1L16tXppmFhygIgMSA40gXqPIwZM4bat28vu6nNC0h45syZ9TgrD8acVpwtkHggDwg9iL2/3YIFC+i9996zJLZq2x07dqQvv/xSjdbD0V13ekXCs3TpUmrevDlhLTpxlSpVomnTprldb7KO6Kw7WQeekyZN0uYaY/bkSpQooc0nPhoFk2OCG0yz5du+7ti2mz5s2M1U6erf5lKqNPZWIVGgXdOe9MuPO/SyVWq8TANH9dDDTjy4Gmj8sGl61ueez0bz1kzUw+48VjvIIMYgyFFxM7/5lkYPnmQqOv+Hr2zVtGVmJrgSifB7svz8O+e+kB8muOEnP1uOHaU3Jo4xDfxwn4Fuz7MaM9aeNIE2HDqoR9UWpHiSIMfeuOHr1wqiGmlcMbe4c3ZrZ89/w6x2kI/3G0wpE0Vq3W48coje+nq83h3cawsSHNfGnoOe2QuP1wR306ZN2u6pF21oWdOJS38PHz7sdjcTmaCeWrx4cU3N0Zv6161bZ9rJ9UU9MU1wsasGFU+od1q5UqVK0bZt2/SkQJ0H7GCDxEBFW7rPPvuMunbtKoOWz9mzZ2u7/TIRHwrOnz9PyZPbq0PI/FF9Hj16lAoXLky3bt1yqQK7yOpHnFq1atF3333nkhcRvlh3suKPPvqI8LHAW4cd3fXr12tjclfWSHC9XXeyTmgZzJw5UwYdPfGha/v27YQ2g8UxwQ2WmfJ9P9Ud1MzZMtHijZMdNTSs73haMH2Znrdk2SI0dkbkWV49wcYDq8xf9osktKnSpKDVv3nWhjl/9iK9UcZsuRLEGATZW/fo0WOqVa4pXTh3WS9a4qXCNG6m5y/5KMAEV4ct7DwsP3gn8I38MMENO/EhdQf1WaERuqNbb0dAdFuyiL7++Uc9b4Xnc9HiFt4Zmvpqy2bqvnSxXgdI6KFPB+phd56/r12lfIP6mpK3depOudJn0ONGblhH/b5froffLFiYpjR6Vw/7yuM1wf3222/p7bff1tvHObumTZsSdmhAbLB7CbVFqBfjPJ7Rde/enYYMcf+HcezYsdSuXTtjEe3MrawfhAPnD6dOnaqrASMzyFHDhg31cr6oJ6YJrt75/zxQiYX69blz5zTCUrJkSdq4caOeLZDnoXLlyrR27Vq9rwUKFNBUr/UIC88bb7xBK1ZEfi3CGsPOqr8d1s3cuXP1ZrCGR4wYQVWqVNFUkbEDv2zZMk2jAOu6fv36pvx6QeHxxbpDfVD7V1WzsfbRV3zowG7+6dOn6ddff9XI9tmzZ43d0D5AQUXanTMSXDWPp3WH/CtXrtQ0DYxlcUYcGghYpzi3DG2Db775hqZMmWLMpo0B8hosjglusMyU7/upEswCRfPQ5G+HO2pILftC3hw0a8VYR2Vlph/X/0Kd3u8rg9pzw65vKamHc68PHzyk0i+8YSo3ZdEIyl/Esx0HUyERWL1sI/Vu/5kpesTk/vRSxRKmOHcBJrjukAn9eFUGWH7+nfOoyA8T3NCXF3WEKsEsmTU7rW77sZrNMqyWLZjpGdr0sdkuhGVBQ+RqYZG5gcEi8xMi7UT/oZRcsRdkKKJ5H4iNynQ9Opmif2jbgYpnzabHvTdzGi35M/L8bYeKlejTqm8Qyu766wzt/vsMXRKbTjeFhmticS1envQZKX/GZ+g5QfK9sevkNcHFmdgiRYpQsWLFtLN3r7/+ut5powe7WRUrVqSffvpJj0YZ7OBYuatXr1LOnDlN6pggz6tXr9bOvxrLYFcN5387d+6snUk07uD6qp7YJLjvvvsu4SwrdjHhHghrZlBJNp79DOR5UHdjMYY9e/YQjCJZOZyxxg4/xikd1HNVkifTfPl87rnn6Pjx43qVOEtatGhRPSw9WHMg4MhvNQ5frTu0U7BgQe1cu2wbRttwjrlatWoySn+CgOODwoEDB/Q4eL7//nt67bXXTHEy4I7gOll36B8+WOBDk3RQq58zZw4lFV/4VAeS+8EHH+jR+HHChy+czQ0GxwQ3GGbJP30c/+U0mjo2cse0dPliNGqq5y/Y6M2Kb9dSvy5f6h3LkCktLdsyQw878Rw9eIIaVDV/df+gQ2Nq8dE7HouXfO51kxYNdo+xi+yta1KjneluXexiL9owyeVIkLt6meC6Qyb041l+iHwlP0xwQ19e1BEOFOrBXwo1Yekq5cpNC5t/KIO2z7m//0qt58/R82QWmn1/ftJXDzvx7D93lsoMN3/c7FG5KnV91fq90lhn6q4f02PBWaRb/EFrqpDzBRmkiuLuW+OduS1fKkd3xYdZ7FrfehB5xFMv8J8Hu8gja9enqnmtuYSa32uCiwoeiruZnBiMwY4jSK502NmBpV8rh91dqLJKFydOHI142J3dhJXhH374gfBiLsmfr+qJLYL75ptvEnZnnXylCNR5wJnMDBky0I0bN+R0kt3uPXbkmzVrpufFOsHOtZM1pheKgkdaa5ZFQWZAsrH2vHW+WncqFuiH8QOOVb+wVvPkyUMXL17Uk6F2vXPnTj1s9FgRXKfrTiWsUCGHITXMmTtXpkwZ2rp1q57cunVr3ZiYHhmgHia4AToxMdCtgd1H0NL5a/SWXq1ejgaP+UQP23nWrfqJerQZpGdJmCgB/bhviR524sEdotXLNKJrVyJ/R5MkS0xfTPyUir5Y0LKKE0dOE4xMrV4aqe2DjBPnfOa2jGVFIvKP3/bQB/XMX/07921F9ZrWdFfEJZ4JrgskYRPB8uM7+WGCGzZiow+0/cJ5NOO3bXrYGzXeJcI68XuzpullE8eLR38NGqaHnXhwB2/egX3oH2EQSrrkYtNt1rst6KXncsgo0/OwuEnni/U/0MI/fjfFL/+wnalMic8H0ZFLke+rpswOAg2KlqCRdepRPA/v6lEiuA7a17KA4KhnKBFntdODXTFcBSRdnTp1aOHChTLo+OmremKD4ILMY6dTxczx4N1kjI15gPGvyZMjz6vhmh1YoZaEwdhVqAPjQ4V0MUmAQMxwHZB0+LhQu3ZtGXT89NW6K1u2LG3ZskVvF2fSf/vtNz3szoMzzsOGmX/AcK7Y6jotleB6s+5UVXKoJcOKsp2DHBuNhb366qum+bYrG9tpcr2yFeXYnomYb7/zB31p89pf9IZr1K1MvT/rqIftPBvX/ExdPxygZwHB3bz3O8vfPz2ThWfu1O9oeP+vTClYkzXrVaECRfJQpszpxe/XdTp57DQd+PMI/bT+V92CvbHQiClCrbiCM7ViWa5Ly3606YfIF6xESRLS97/MoUSJE8osHp9McD1CFLIZWH58Jz9McENWTNwO7J1pk2jVvj16euPipWh03QZ62M6zYs9uajwj8ngYCO6ZgZ97/fdn4pZN1GOp2ebMk+LvT6MSpQgq01nF+/MlYSD2yMUL2o7smgP76H+GnVvZxwXNW9KrufLIIOUWVp7PGzbA9IT/PGgjWfwEdPP+PdNOsDHfQHEfbxtxL6+d8yvBRcO4IsdoFdjKqjDUO0E0jFaK16xZo6le2nVeTfNVPag3Nggu1LFB9vzhYnIe0H+QNJA1o/vxxx9d4mBUC3e5QqVdOuz2vfjiizLo1yfOORvPq0ITAFcVQSsA516dOF+uO+x8w7iWdLNmzaJ33vGskoh7e6HSb3S4aspKFVgluN6sO7SBtqTbvHkzlStXTgYtn1BJxo6ydDjni13fYHBMcINhlvzTxy4f9qdNayI1D7whuOtXb6HurQbqHXvqqSdp25GVXr9gPLj/kOpUep/O/XVBrysqnkkLv6SCxfI6Lnrm5FmqXbG56W9y/WZvUqfeLR3XgYxMcL2CK6Qys/z4Tn6Y4IaUaDgaTOPpk2nF3j/1vI2Kl6QxdSNtDekJFp5lf+6ipjOn6ilxxNGwi0OHe//3R7yXF/98IJ0WHC06bnWb9lQy27N6FZl7dnVRRQahrV+sBL2RvyCVyJpN253FmdyjYqd35Mb1LrvCuLZo1yd9KOl/Rzn1yg0enxBcXO2Cl3KoleIfSIu0oou7OaUf7VoRXPUFGPmgfpxNGPzxxvmqHrQZGwT3gtjex1U5UXWBMg/oPz5W4Ey1kcjgLCbOThvdxIkTqVWrVnoULOzKe4T1SD96YGDKaKBMNgVr0LBkDHIJ6792zlfrDjuuqnYDtBqgfuzEoazRGvSSJUuoZk1XdUKV4Dpddzh/i7utjWelsdsNy812DrJktDwNFXCsVacfEOzq9ncaE1x/Ixy49asqlq/VrEADRpqvDXLXe3UH16kFZKv6Ll+8QujLzxu3WyW7xMWLH5dAjI1u7uoJlOOF7MYoW//nn46jhTOX63kgB4s3TaFnsmTQ45x4mOA6QSk087D8+E5+mOCGpozYjUpVUX67cDH6umFjuyJ6mrqD69QCsl6BwXPhxnVqJ9Sl1x6MtLtiSHbxxhfvd/cNG1bIsFVYUc5tsKKctVc3uiF2Z6WrU6goffHW27YGrIatXU2Df/heFtGeX7xZh5qXNm+kGTNEmeDinCUMy8DSLc7aGnfgjA2ofiuCq57VxR9TvADHE9vq3jhf1YM2g4XgBuI8yDkbMGAAffrppzJITz/9tPYBxDivuP9306ZNeh6ou0LtNSYd7sDF/bFWDmQQu7m4/9bd9Ta+WncwHFaoUCFTN6D9ACNTThxIufHjAO7rRb9VF1WCi49O2H31hbt9+7ZGln1Rlz/rYILrT3QDu+4xn02hGRMX6J18+dVS9MXXffWwnQdnYHt/HGlTIkeu7DT3+wl2RTymLZ2/mtYs30wnjpwikF6jS5w0EWXOmonKVylNFcS/epXNO60rt82itOlTG4u49d+4fouqvfgO3bt7X8/jzdj1QsLDBNeIRnj5WX58Jz9McMNLdjDavquW0Sixcynd63nz0+x335dB2+e34gxsizkz9Tx5BbncIkhmdNxMcR548a4/6OCFcy7qxdh9xTVG1fMVpOr5C1CpL4aYmtrfqx9lSB65UZRn4Kd0TlyLKh2uCMIZYzt3V9jHyT+or+lMcKuyL9PgGm+5LRYlgnvq1CkqX768dqbSbc1uEqwILnaaYORGOuxEGQ0UyXhPT1/Vg3aCgeAG6jzIecKZWxAio+q5cVcRu/3PPPOMaYcfBM0dkZT1+vqJ/o0ePZo++eQTwgcDKwdSDsIOy92qATBfrTtcR2TccYUV7bt371p1xzLuhRde0O6alom+JrhQR4bcR9eBiBvVnKNbnz/LM8H1J7qBXffMb76l0YMn6Z3MU/AFmr5klB6288z8eiGNHjJZz1K8TGEaP8v8R19PjILn1o3bdOr4GfHbSvRM1gyU4unkei17dh6gZrU76OGkyZLQht3f6mFPnmkT5tO4zyPV25B/wuzPqFjpgp6KuqQzwXWBJGwiWH4ipzq68sMENxLLcPGN2bSePl25TB9ukcxZaP1HnfSwnWe0IMZ9BEGWrrywYPydsGTsK3fj3l1x7vYiiT8/lF0cL02VOHITZvupk1R57Ai9qRQJEtKJAUP1MDzFPhtIxy5f0uPGCdXrhkIF25P7cO4smr8zUpPJE+n3muDizk2cuTOqnqJTeOnHFSo4Qwg1W2mJFtebGJ0VwcUZSJyFlA51wcKtrEPGe3r6qh60E+gEN5DnwThPsKKNHU7pjPfbglS2b99eJml3vG7btk0Px7QHFr5xly3UqI3nYI396NmzJw0cGHm2Dmm+WnfYycaOttGB4MrroozxVn6ohB89elRPgsVjGPtSXVR3cHG3rXqmFzvETneY0Q98KKhVq5Z2l6/ar0AMM8ENxFmJmT4tW7CGBnSL/EOdJl0qWvWLszuch/QaQ4tnr9Q7WqVmeRo4Mnpf0PXKPHhWfSdebjoO03OVeKkwjZvpjFw/eviI3nipiWmH+LkXstG81RP1+rzxMMH1Bq3Qysvy8+98+kJ+mOCGlmw4Gc3s7b9Q2wVz9awZxI0V+3v118N2no6LF9DUbT/rWaAC/M07TfSwPz0LBAFtKYiodFbkuvzIYeKu279kFur9WjXq+EplPezO02flUhq9aYOe/HKOi0i4oQAAM7hJREFU52lJyzZ6WPV4TXBx5m7x4sV6PXgB7NSpE+GsbdasWfV46Ukttq1BFqWzIri4hxTk2OiwOwnLu944X9WDNq0I7nWxpQ5jTXYOZATkXDqr8cq0qBINlA/keZDjw3P69Omaiq+Mw5hBHoFj6dKlyUhoQS7btHG/WGUd/n5C3R67qUOGDCHci2t0+PiyY8cOkyqxr9bd6dOnXWTIm7Po6noCYX755ZeN3df8aj6nZ3Cxu61aZcb9u6pxK5cGgziCCW4QT140u/7j+l+o0/t9TbWs27mAkqe0/xuAAh/U6yyu2dmrl23Q/E3q2KulHvanp/17vWjrpsjfrXfb1Kc2nd911KRKjlGo19CPhdXm1xyVVzMxwVURCZ8wy8+/c+0L+WGCGz5yI0e6et9eajDtGxnUnsf6DaanEyU2xVkFqo0fTVtPHNOTWpctT4NqRGrJ6gl+8Lw9eSKtO3hAr7ljxVepd9Xqehge1YCWUwvRnb9bSJO3btHr8inBhSondmeNd9kOHjyYevTooTeoepwQXBAKEEMYsZEOu37lvVSH9FU96APqwm6TUb0WapVQr7RzMUFwA30ejPjA6FH69OkJZy6lw12v2NnNJoyISXxx5y12pbFeAsmNHDlS+4BjNJSmqv76at2hDZBPoxEnfEwyqu+7wwaq3eradPdxJaoEF22rVp5xvROu/QlVxwQ3VGfW87iOHjxBDapGGsBDiRGTxXU7Fe2v27kpzrC+WrSu+Hv2P70RJ+X0zNHwHDt8kupX+dBUw1dzP6cipQqY4twFGlVvQ4f2Rb4Ygcyv3DqL4ieI566IbTwTXFt4QjqR5Ye0j2G+kB8muCEtKpaD23/uLJUZHmnHAZnmN/uAKufOa5lfRl4XWn85+n5Cj8T7pHROysm80XkePH+OSn85VFNdlvWsaNWOyjybQwa155A1q+jzdWv0uMzCUOnuHn08Wnl+T1iGXiIsREv3vjAwNUwYmnLnvNrBPXjwIOXOnVuvCy9/2NVULb/qGYTHCcFFfpAd7NpK17hxY5oxY4YMOn76qh40mC5dOroo9MylW7t2LVWqVEkGXZ44i/nWW2/ppA0Z3JEMpEWVaATDPGB80sFIE3ZypQOGuA6pS5cuMopwvyp2TQPRNWnShGbOjDywD6vP48ePN3XVV+tONRT1+uuv08qVkaqOpkYNAah6Q+VbOlg7xscFSdBkPJ5RXXco+9JLL9HPP0eqvkAFGqrQoeokfnwPbqjOsPtx4eNbpSJ16ca1m3qmqrUqUP8R3fSwlWf5wh+of9fhelLKVMmFavMcceTmKT3OX54B3YbTsgWRd4p7Y9zq9627qdU75rF5s/trNSYmuFaohEccyw+Rr+SHCW54yIxxlJCfHH0+oSt3I+3C1BWWlL/yYEl5zvZfqc2COXpVqcX52AO9+1Ocp/z/96edaHeWaF86d8atlgqS+q7hGiPk/6FtByqeNZss6vK8LTRjCw7uZzIyNezN2vR+6XIueWWEVwRXtRaLXTecEXR33QcIYbVq1ejhw8grC9wRPhjXMRIc1A0jRbgj1Z3DFSqzZ88mWMHF+UM4X9WDumDRFpZtpcOVMbiX1MrhjleQNlh/Njp340WeqBKNYJgHIwbq2VKo+WJXFzu20s2fP5/q1q0rgwH1hJYCzt5K17JlS8L1Rkbnq3WnkmlghXVupwYMjYrs2bObrgj68MMPacKECcYu6v6orjtUgKuTxowZo9cFOcV5/MyZM+txoeRhghtKs+n9WLq3GUTrV/2kF8QVPJMWDqfc+f/9e6Mn/Oe5c/su1X21BV04d1lPsrs/Frtcf/91Xsv7fO5nKUOmdHo5bz2zhFGsUQajWCjvjXpkh+af0pYNv+nN4u7eZVtmOLa+rBc0eJjgGsAIQy/Lj2/khwluGAqPGLK6Y4kreFa3+ZgKPWP9vgUSWPKLwfT3tWs6YHaWhrFLfOrKFS1v/kyZ6JkUKfVy3nrGbt5An65Yatq9HfN2A2pUopRLVRdv3qC8A/uYdpk97caO3LCO+n0fefUWKl3briMVy+J6NFY26BXBxW4mdjWNbtGiRdqupTEO/smTJxNesqG+aXTuCN/WrVupTJkyxqxUsGBBjfSqZ3FBmMeNG6epRoNQwt+69b8WwnxVDzpSv359AvGSDirLq1evdjEEhDzYpVTJLcq5Gy/Soko0gmEeMD7p8CUK1pTxwcLK4TwuzoE6NaZkVUdU4tatW6cZjMLcgViCTKoOaw3nWI1nhbF7a7y7F2V8te5gJApaEka5gcx9//33VLhwYbV72rVA1atXN1lPxjlZ1IOPCFYuqusOdeGjBHaZjSrnxYoVIxiTU8/RG9vGGsBHIBiqwn3IIMbB4JjgBsMs+a+PVruaT6dOQZMXjXC5Exbktl+XL2nD95FnhNCzWSvG0Qt5n3PppGrtOH6C+LTi5xkmi8j37t7TrusxWklWK8LRhhEDv6Z5U5eYkrJkz0RzVk1wpF588tgZertSC1P5ym+8TINGuz9+ZMrsJsAE1w0wYRLN8uMb+WGCGyYCowzzp2NHqMbEsabYNOLayB/adaBsT5uP84Hctpk/h5buiVThRcEfP+5KIK+qU60dJxTvZHt69jVZRMbVPHcePjDFqfXg70/P5Uto4pbNpqTnUqehnzt2o/hu3vXUc7hPPvEEfSnuwn23lJkHotJFf+zQdqWN9+tCVRuq13bOK4KLijIJoIw7b7jbdMSIEVSvXj3tDC1267799lvCOUsrZ0f4qlatqhFIYzm83GOHNm/evJpV5cOHD2uqy0YrztOmTaOmTZvqxXxVz5YtW6hs2bJ6vfCA5MKoFgwk4awkiPyqVatMeYwBu/FGh2gEwzwYccD9tv37W1uAa9asmYajMX9M+HHfbr9+/bSmsEOKndnKlStrZBxCC2NSuBoImghGh/giRYoYozS/r9YdPtaou6/4CAANgpIlS2oEGB8Ltm/fTlOmTKEr/32Bkx3q3bu3W6yRJzrrDuWBmXpXMY4pdOvWjYoWLarJaooUKTT1fsgrPiR89913BINZcO7w0xID7H9McANsQmKhO++99THt/eOgqWVYVK5Y9SUqVDyfMJiXhI4dOUkLpi2jv06fM+XD2VecgbVyi+esoiE9I48VIM+36ydR1mef0bP37fwFrVy0jmCJFWd/CxTNQ+kzpKGEiRLSlX+u0f7dB2n5t+voyIHjehl4cDXQNHGlEUiuE6dafUaZKYLE5y8SeSTJST1qHia4KiLhF2b5ifqcS/lhght1DIO95KtjhtPvpyOPb2I8sKhcI39BKpXtWUohjqPhbtqvt/xIJwwGfZHvJXH2dbk4A2vlpv3yM3VYtMCUtL1rT8qRJq0e13rebJq74zfKI+7RBaEsmTU7PSPOyyaKH48u37xFO86cIqhE7xU7wUaHq4HWte9EILnu3MYjh+itr8e7JL9bqjSVfS4nZUuVWlxFdJ42HTlM83ZsN+WLIzajtnbqQTmFTSg75zXBhdGdDh06uNQpd79ADOycHeHDiy92cY1WiO3qkmnYPQLBls5X9aC+UqVK0a+/RuqUyzasnvHjx9euTPFkNVqWjQ7RCIZ5kOPEEx8k3N1vGxWDYsa6o+ofNGgQ9erVy6vidmdOfbXuYGUaRNH4IclpJ3HN0NKlS23PxUdn3aEfsKacL18+nbA67ZvMh91wyFUwOCa4wTBL/u3jmVNnqWmNj+jmjVteNQQSPHP5WEqVxlrta9GsFTS0t/nr/MzlYyhXvkj1504t+tKP637xql2oFo+ZMZiKly7kqNy1K9epWunG9OD+Az2/N3f+6oUsPPIFnc+wW4ATJlEsP1GfaCk/THCjjmGwlzzxz2WqOPILuibunvXGgQRv/rgLpUmS1LLYlG1bqNPihaa0Te07U0GD+nPDqd/Q9/v3mvJ4CoB8LmrRisqJK3w8uW5LFtHXP//oKZsp/QkR6uXwWiGvCS5aUs8bmlo3BGAgp0CBAjR06FA91o7gItOuXbu0s5iwCuvEtWjRQtvtUs8B+6oe7DphvHv27LHtDnaa58yZo+0uGw0q2Y03ukQjGObBCBruT/7pp8jzbEjD2U0YF5NEwpjf336ozIIQevooI/uB3Xzs5uJDhjvnq3WHXVnsKEMbwonDndHYWe3evbulqrWxjuiuO9QF43KdO3emSZMmGav26E8ufnShPh1o1rLddVyuS35Bd4dQeMTv2r6XerQdbLof1m7kOcV52iFjPzHtxqr5rQjumu3zCCrQ0g3sPoKWzo+0Ninj3T2xY9yhZwsTSXaXV8ZPmzCfxn1u1rgaMLIbvVazgswS5ad8QWf5iTKEIVGQ5Sdq0yjlhwlu1PALlVK/nDhO782aSudv3HA0pHwZMtLUxu+ZdmPVglYE93CfgSZC3H7hPJrx2za1qNswdowHvlHLRJLdZhYJj8WGaNMZU2jlPnt+JetIKzQFx9drRK+8kEtG2T6jRHBBCGDh+NNPP6UzZ86YGsBOLtSJoVb88ccfa6rKzZs31/JAvffcuXMEtWY7d/PmTU0NGOcOQRBVhxd0qJJCJfLFF19Uk/Wwr+qBNVqcuVy+fLn2Yq83IDw479ioUSOCISKMC2MeNWqUlgVECLtw7sZrVDOG1Vvs3NlZpDa2C3+wzIPsN668wf29Roc5NH4AMabFhB9qvsOHD9fm1niu1Ng2diux1uvUqeOIiPtq3aEPkDOcMYehKav+4SwrPhwMHDjQ8a5odNedERuoH0P9HGdrb7j58UUfcU4X1x3hvHOaNO7VVox1B4KfCW4gzEJg9OH61Rv09ahZtHbFZrr6z3XLTmV7LjNVr/MqNXjvTYJBKjv3eZ/xtHDGMj0L1JDnrZ6oh+E5f/YijR4yiX5a/6t2FteU+F8gUeKEmgpz01Z16eVK7v8eWpVFnNqPF/LmoGnfjaQ4ceO4K+I4Xr6gM8F1DFnIZmT58X5qpfwwwfUeu1ArceXObfrsh9W0eNdOunzbWpsop1AvblisJLUuV57iiU0PO9d1ybf0zc+RG05QQ/65U3dTkb+vXaXewnDUmv37tLO4psT/AknixafcomwHcd9t1bz5rLJ4jFt7cD8NEAak9hgMz8pC2BGG2nRJoY7du2o12/PAsox8RongysK4t/b06dOaoRvswsEYFFQPsUtjdDCKBGvL2LUBIfTGQd0Xloyh4op6YVUZ6psgud44X9QDQznox86dOzWygfHiTGQScehbOuQBiYdxIrzIg7i6c8gDUgsHbLwdk6w3WOZBtf6M/oMY4YNIbDsYdcLuKz7YYK1g3mAYC/9w93NUnS/WHdrGujopzt2C6OKjSUpxDgJaAzDEpsqbp776at2p7aBfBw4c0FSXYTAMaxqGrmA0y27XW60nkMJMcANpNgKjL48ePaajB4/TpQtX6Mrlq5ptCKgjp8uYxnbH1tj7fy5dpRplm5rUgvuP7EpVa1Y0ZtP9aPPksdN05tQ5unntpvZ7kDlrRsoizuumTmv/wVivxI0Hvy1XLl+j+/fuC1IeT1OpluveTRHH0fIFnQmuY8hCPiPLj/MplvLDBNc5ZqGe85HgXfvEmVfs5l68dYPiPvkUpRfcCBaQjedn7XC4dOsmFRjUj+49eqhn+7pBY3q7SDE9bPSgzSOXLtLxy5fomri2SPzJoOzi/S6HOGObLpmZ7xnLeesHiT8ubgU5+c8leijazJ0+o3b+1xNZd9dOtAiuu0o5nhGwQqBhw4Y0d+5cPQlWgfGxgB0jEKgIyBd9fkEP1BkKzn6NHjqZZn4Vef4J52XHz448yhOco3LttXxBZ/lxxYZjoo5AuMkPE9yorxUu6YpAn5XLaPSm9XrCy+K87JKWbfRwqHiY4IbKTAb4OLCTCdVYowExqAZbGSwL8KFw98IIASa4YTTZMTTUG2IHtnqZxnT3zj2txYSJEtC8NV9RxmfMV/DFUHf82gwTXL/CG5aVh6P8MMENy6Xul0FfFbuk+Qf1pdviFhi4xOLo6LbOPShzyuhpAvmls9GslAluNAHk4s4QwFVSHTt21DPDKBjOV7u7q1XPyB5GIBYRYIIbi+CHaNMTR8ygyaPn6KPrPqAt1W5UXQ+HkocJbijNZmCMJRzlhwluYKy9UOjFkDWr6PN1kYYLcfdssxdfCoWhuYyBCa4LJBzhDwTy5Mmjnc+UdVepUsXlzmOZJp8w1gSDXbiWxpcO51excwzLw+wYATsEmODaocNp3iJw++Ydqv5SY7p147ZWtNiLBTXVZLnOvK0v0PMzwQ30GQqu/oWr/DDBDa51Gqi9vXnvnti97UPXxRMOV/ks+aC1I+OpgTomu34xwbVDh9N8gsCWLVsIV+wY3axZs+idd94xRrn4cUXO22+/7RLviwgYLsMVVuwYATsEJPHgM4R2KHGaUwQ2rP6ZurUaoGVPmjwJzRL35GbMnN5p8aDLxwQ36KYsoDscrvLDBDegl2XQdG75nt3URFzLA5cyYSLa1KELZQlB1WQ5IUxwJRL89BsC7du3p9GjR+v1w+r0hQsXbC1MI/O0adO066b0gj70BIr1Zh8OiavyAwJMcP0AahhXef/eA80CM6xQ4kqhJMm8u1Ug2KBjghtsMxbY/Q1X+WGCG9jrMlh6d1/c3LJXWGAWf37oeXE7SLIE3t1GEyzjlP1kgiuR4KffEJg5c6ZGcHGdUYYMGahBgwba3cGeGjxy5AjVq1dPu2LKU15v0qGivGrVKkqRIoU3xThvGCLABDcMJ52H7DMEmOD6DEquKAwRkPLDBDcMJ5+HHG0EmOBGG0KugBFgBEIVASa4oTqzPK6YQEC+oLOKf0ygzW2EGgJSfpjghtrM8nhiAgEmuDGBMrfBCDACQYkAE9ygnDbudIAgIF/QmeAGyIRwN4IKASk/THCDatq4swGCABPcAJkI7gYjwAgEHgJMcANvTrhHwYOAfEFnghs8c8Y9DRwEpPwwwQ2cOeGeBA8CTHCDZ664p4wAIxDDCDDBjWHAubmQQkC+oDPBDalp5cHEEAJSfpjgxhDg3ExIIcAEN6SmkwfDCDACvkSACa4v0eS6wg0B+YLOBDfcZp7H6wsEpPwwwfUFmlxHuCHABDfcZpzHywgwAo4RYILrGCrOyAi4ICBf0JngukDDEYyARwSk/DDB9QgVZ2AEXBBwIbgiB65IYscIMAKMACPACDACjAAjwAgwAowAI8AIBCUCe/fu1fr9hPg/E9ygnELuNCPACDACjAAjwAgwAowAI8AIMAKMABDQCW6EcAwJI8AIMAKMAJFUUeafRV4NjID3CEj5YRVl77HjEowAqyjzGmAEoo6Ai4oyE9yog8klGQFGILQQkC/oTHBDa155NDGDgJQfJrgxgze3EloIMMENrfnk0cQsAkxwYxZvbo0RYASCCAH5gs4EN4gmjbsaMAhI+WGCGzBTwh0JIgSY4AbRZHFXAw4BJrgBNyXcIUaAEQgUBOQLOhPcQJkR7kcwISDlhwluMM0a9zVQEGCCGygzwf0IRgSY4AbjrHGfGQFGIEYQkC/oTHBjBG5uJMQQkPLDBDfEJpaHEyMIMMGNEZi5kRBFgAluiE4sD4sRYASij4B8QWeCG30suYbwQ0DKDxPc8Jt7HnH0EWCCG30MuYbwRYAJbvjOPY+cEWAEPCAgX9CZ4HoAipMZAQsEpPwwwbUAh6MYAQ8IMMH1ABAnMwI2CDDBtQGHkxgBRiC8EZAv6Exww3sd8OijhoCUHya4UcOPS4U3Akxww3v+efTRQ4AJbvTw49KMACMQwgjIF3QmuCE8yTw0vyEg5YcJrt8g5opDGAEmuCE8uTw0vyPABNfvEHMDjAAjEKwIyBd0JrjBOoPc79hEQMoPE9zYnAVuO1gRYIIbrDPH/Q4EBJjgBsIscB8YAUYgIBGQL+hMcANyerhTAY6AlB8muAE+Udy9gESACW5ATgt3KkgQYIIbJBPF3WQEGIGYR0C+oDPBjXnsucXgR0DKDxPc4J9LHkHMI8AEN+Yx5xZDBwEmuKEzlzwSRoAR8DEC8gWdCa6PgeXqwgIBKT9McMNiunmQPkaACa6PAeXqwgoBJrhhNd08WEaAEfAGAfmCzgTXG9Q4LyPwLwJSfpjg8opgBLxHgAmu95hxCUZAIsAEVyIRw0+8MOPfk08+GSMtx3R7MTIoboQR8DMC8gWdCa6fgebqQxIBKT9McENyenlQfkaACa6fAebqQxoBJrgxPL2PHz+m+vXr04YNG+jatWuUP39+2rhxI6VMmdIvPYnp9vwyCK6UEYglBOQLOhPcWJqAAGz26tWrtHjxYjpw4ACdPXtW+x1/+umnKUOGDFSkSBGqUaMGJU6c2G89//PPP2n//v109OhROnLkCF28eFH7+5ErVy7Cv9KlS9MzzzzjVfv4W7R69WravXs3/f3333T58mXKlCkT5c6dW/tXvHhxSp06tVd1IrOUHya4XkMXsgVuXL9FG1dvoRPHztDlC5fp5o3blCx5Ukqd9ml6IV8OernSi5QwUQK/jf/smfN09PBJOnLgBB07dIIe3H9AmbJmpMxZMlDeQrkod/6cXrd9+eIV+nnjb3TqhJAdMabr127S06lTUJbsz1Dm7JmoUNG82vi8rZgJrreIhX7+a3fv0PI9u+nwhQt07sZ1un7vLqVMmJjSJ0tGBTM9Q1Xz5qNE8eL7HYib9+7RoYsX6MjF83Tk0kU6fukyiW07Sp4gIT2bOg0VzpKFSmd/juI+9ZTHvly/e5fWHzpAe87+TeeuX6d/7tyijMlS0PPp0tELadNR4cxZKFXiJB7rUTMwwVUR8XP4xx9/pJdfftnUyoIFC+jtt982xfkqENPt+arfXA8jEAgIyBd0JriBMBux24cbN25Qx44dadasWXT//n23nUmUKJGWr0+fPhQnThy3+bxN2L59O3Xr1k37IGpXNn78+NS6dWvq2bMnpUqVyi4r/frrrzR48GBatWoVPXr0yG3epEmT0sCBA6lNmzb0lIMXFlmRlB8muBKR8H3evnmHhg+cSN8v2UAPH7hfa/ETxKd33n+LWrRvJOTH88uxU0T3/3mY+nQcRicFsbZz5SqVorZdm1H2nFnssmlp27fuoklj5tDOX/60zYsxNW1Vl5p8UIfgd+qY4DpFKvTzgVD2XPYdzd+5nR6IjTJ3LmHcuNSmXAXq9uprFMeL32p39anxdx7cp1Eb19PoTRvo3qOHarIpnFb83VjWsi29kC69KV4Gfj99ioav/4HWHtxPj/73Pxnt8kwiCHuvqtXo/dJl6SkvtF6Z4LpA6d+IqVOnUrNmzUyNjBs3TnshMUX6KBDT7fmo21wNIxAQCMgXdCa4ATEdsdaJQ4cOUbVq1ejYsWOO+1CmTBlau3YtJUyY0HEZdxn79u1L/fr1c5dsGQ9yu2PHDsqaNatLOtZzu3btCH97vHElSpTQtI+c7lBL+WGC6w3KoZcXpLJDs0/pr9PnHA+uQNE8NH7WEK8IoVXl0GKbOn4eTRo1mx4/dv8SbSwbL35c+mruMMpXOJcxWvdDfgZ2H0HLFvygxznxPJszK81YNtrxmJjgOkE19PMcEVo69aZMpBP//ON4sCWzZqclLVtTgrjxHJfxlHHZn7uo+7LF2i6rp7wy/fNatalFmXIyqD0hP12XLKJJW38yxXsKFBE7ucs/bOt4h5oJridEfZx+8OBBTeXLWO369eupYsWKxiif+WO6PZ91nCtiBAIAAfmCzgQ3ACYjlrpwXahMgdgdPnzYpQfY2QSBhZqwlWvUqBHNnDnTKslxHI6zVKpUSbPZYCwEleHnnhMqYOKL/cmTJ+mvv/4yJmt+kOzNmze77Lpu27ZNU2V2KeAg4uOPP6YRI0Y4yMkqyo5ACvFMt4QKctNaH9Fpob6rukSJEwqyF4+u/nNdTdLCVWtVoP4julmmOY0cPXQyzfxqoWX2jM+kE0cMbtCdW3dd0qFiPH3paEqfMa1L2oE9R6hJjXYu8YiAevWDBw/p8SPrXbYGzd+kjr1aWpZVI5ngqoiEX/iGUEGuOOpLOnb5ksvgsbOZQPz+X759yyUNEXULF6OvGja2TPM2csPhg1R30kR6LMip6tIkSULpkibTdnShYnz7wQM9y5Cab9KHL5XXw/BsP3WSKo919jfEVFAEWpV9mQbXeEuNtgwzwbWExb+REydO1L6C48ti+fLl6cMPP9ReUvzVaky3569xcL2MQEwjwAQ3phEPvPag7jthwgRTxypUqEBffPGFduYWCTdv3qRRo0bRkCFD6M6dO6a80fmA+fDhQ8qePbt2LlZWip3ZL7/8kho3bmwyUoh22rdvT/v27ZNZtafVEZjvv/+eXn/9dT0fbEA0b96cypYtSzly5CCQ+q1bt9KAAQM0v55ReGAY8bfffqOiRYsaoy39Un54B9cSnrCIHNp7LC2atcI01qIvFqCPP2lBufL9e9719q07NG/aEpo6bj7dv2dW/x8/eygVL13IVN5pADvGdV9tYVKJjhc/HnXr34ZeqVqWEidNRP8TqpHHD5+i/l2HE4ir0VWpWZ4GjuxujNL8v235g9o07qHH5y30AtV7tyYVK1WQ0qRLJdT9H9PRg8dpxKBvXNSXIRPfbZ5CmTJn0Mu78zDBdYdM+MR3WryApmz72TTgss/lpAHVa1LBZzJr8bfu36OJP22m4RvW0l3xN8PolrZsQ+VyPG+M8toPcv3KqC/Eed97prJNS5am1mXLa2dlZcJjIU97xVnaVfv20K6//6KulapQ0SxmLaJ1QiX57clfySKUQpzbbVzyRXpRnNl9Vny4vSHa+fXkcRq2dg3dEGMzuieF/Kz/qBMV+m/sxjTVzwRXRYTDjAAjwAj8h4B8Qecd3PBcEvfEH9r06dObSB4ML+E8rJWa7rJly6hmzZomsKpUqaIZcDJFOgzA6FOhQuaX+xUrVmjq0lZVnDp1SssPo1HSde/eXSPeMoyn3MHF7jPO6nbo0IFwdlh1p0+fJuwCq7vDIL69evVSs7uEpfwwwXWBJiwi7t97QFVK1Cecv5UuW47MNGPpGEtDUpvXbaPOLcyq+KXKFaUx0wfJ4l49u7bqLwxabdXLJEgYn76aN4zyFHB94cdOc/v3etGfOw/o+ePEjUMrt87SDEbpkcKzb/cherdWe8qcLRN1/LQlvVShhDFZ9+PvRrumPenXn3bqcfB8NqE3VXytjCnOKsAE1wqV8Im7L8jq8/16mUje82nT0sb2nS3VdL/ft5caTvvGBFDFF3LRovdbmeK8DVQYOUwjq8ZyA9+opZ31NcY59csd3ARx4lLnVypT63LlKWG8eC7F/7p2laqInd6z4oOr0fWs8jp1FsTZk2OC6wkhTmcEGIGwRUC+oDPBDc8lgN3PevXq6YMHqcXuZZ48efQ41fPuu+/S9OnT9WisoQvC4mWaNGn0OKeeadOm0Xvvvadnx+4qLCfbuffff58mT56sZ6latapmREqPEB5oD2Fs0CCC9Wc7p2KAvHXr1qX58+fbFdPSpPwwwfUIVUhmWLvyR/qk7WB9bCCYUPvFWVR3rm/nL2jlonWm5B9+n08pUyU3xXkK3Lt7j8rmqWXK9k6L2trOsSnSEDi8/xi9U62NIYaoXfdm1KRlXVMcAsj77PPZPBrCOnrwBDWoaiYYLT5uRB8II1qeHBNcTwiFdvp3u/+gZrOm6YNMJM7Tbmjfya3RJmRsPW82zd3xm17mCeE73HcQpY6CFWJUsu3EMXp9/Gi9PnhGv12fGpd40RTnTQC7vEvE2F56LgelS2Yv1yoGaKdWgcI0tfG7HpuMEsHFy95dYdYZ1hRhsVF1OPd54sQJTW0rnTDzjHNC3lxbIOvHH0fVQMfvv/+u1Y225RUGavvuwlC72rVrF126dEkriysVvLEI6a7eM2fOaGphsEKJr/3ol9XXfWN57AxANcbqq7kxn/QDE7QDYydXrlzRrGM+//zzlEWY4nbivG3PWCdehvBShaspkghd+3z58lHGjBmNWRz57eYVWOzZs0ebW1gexXUbUWnDUUeikSm682DVdFTWj1U9MTFPgSh/Vlj4Kk6+oGPe2YUfAjAsBQvD0rVs2ZJw5MPOWVmuX7hwIdWpU8eumGUadkkHDYrcvcJu6pYtWyzzykgYjxo7dqwM0muvvUZQSY6qeyDOU+HvmdHKcoECBbQrhTzVKeWHCa4npEIz/eNmvcX1Odv1wb3Z8HX6ZNBHetjKs/PXPdSyfhdT0pDxPamSUCn2xh3ad4waVTeT1VW/zNZUiO3qqVe5JR0/ckrP8tIrJWnEpH562FsP/naUyfWGSU36rXeqUY+B1md4jfUzwTWiEX7+ukKNFxaGpXu3VGkaUTvyg6uMNz63Hj9G1SaYCem0xu9RzQJmTSBjGTs/CDZIpnTFs2SjH9p1kEG/Px8IXpWpZxeTleW86TPQlk6uRwfUzkSJ4D777LMaEUFlnTp10s4i4eUaFhnxh9XqCzP+MOPMUqlSpdQ+uITxlVpaq8Q5oxkzZmh/TJs0aUK4A9DoPH1JBtnGdQ3yxdz4opogQQLtHlp84caLBIx1OHUw/NG/f3+tX0Z1MJSPJ7bacUarS5cu9Morr7hUCQKMfsGlFeoGx48fd0uIcSdhjx49aNGiRS5nu1Aec9GiRQtNxczqYwPyeNMe8sOhXVwLASuce/fu1T5o/Jvy7/9xZitv3rzal/y2bdvq9x0a86h+q3nFGTOsC5xxA9EzOnwsqFy5Mo0ZM4aSiTu+YtP5Yh6M/Y/O+jHWE1PzBFXJQJI/Iwb+9MsXdOPvhj/b47oDBwEYjsJdsEZiN2/ePNOOrlVvsVbwce78+fN6MlSAhw8froedevC7iDPA0uH8Le7exd8Yd+7NN9+kJUuW6Mm42ghndqPjMmfObFJTLlasmKam7alOKT9McD0hFXrpVy5fo9dLNTRZLh40pgdVrv6y7WAhP1VLNqB/LkWq2XtjmElW/sOKzdSz3RAZpGQpktL6PxbqYXeeKePm0oQvpuvJ6TKkphVCTTmq7s7tu/RyvjdNxVt1bkrN2jQwxVkFmOBaoRIecZdu3aQ8Az41EbvJ7zSltwoVsQUA8pNrQG+6KOxCSIdzsoNqmNegTLN7Xr1zW1ORNl7hM6lhE6pd2LP9Bbt6vU3LO/BTk5pyYXH+doNQ0/bkokRwsauKHUE4qG/BsEbDhg3pl19+sW0Pu5WLFy8mnEmyc8b6QRRxRUL16tW1HWG1HEgWCJiVmzRpkmZ0QzX6YZUXVjKhcpUtWzarZD0OdeEuQpB5Jy+9UBf7+uuvTQTQOD5UDPU1EF3VQTUM6mlO+m/3EuO0Pdn+0qVLNYMj/zg0SQ4Ln1Clw8ugnTP2A/OKnRB8oAB5snPYacfZtpw5c9pl81uar+YBHfTF+pEDjal5CiT5k2OPqad8QXci6zHVJ24nZhDYtGmT9qHS2BpIK7SSPDnsmq5Zs0bP1qBBA5ozZ44eduqx2g3u3bu39nHVqg7ca1u6dGlNO0img+yq54JlmtMnNHdu376tZ8fONs4Ce3JSfpjgekIq9NJ3bNtNHzbsZhrY6t/mUqo0KU1xVgGcW/3lxx16UpUaL9PAUT30sBMPrgYaP2yanvU5oU48b81EPezOY7WDDGIMghwV9/vW3dTqHTMOg8d+Qq9WM1+dYlU3E1wrVMIjbsuxo/TGxDGmwR7uM5DSJPG8DmtPmkAbDv27iYYKagtSPEmQY2/dxiOH6K2vx+vFcK/t3p79KK4f7tfVG7HwZPqkC915GGmZuXLuvDS/2QcWOc1R0Sa4OIt09epVOnfunLlmNyHskoIw1KplPhthzG4kQtKiI9SKrRx2hGEwQ3XYbfL2eoYUKVJoX6XRppXDl/zixYtras5W6e7i1q1bZ9rJNY4PZawI7tGjR6lw4cJ069Ytl2qhVo0dc6MDnt99950xSvc7aU9m/uijj7QdUxl2+sSOLqx4os/unLEfIPSwxmnc5XBXDvGYE6hno0xMOl/Og6/WD8YfU/MUSPIXk/Mu25Iv6ExwJSLh88QHz/r16+sDxgc2q6uC9AwGjyqf0EQxEl5DVlsvfjPy58+va/wgM34Dhw4dqmkIGQtDc+rVV18lGJqSDh9uQXqj46yumoPWED7cenJSfpjgekIq9NLVHVQYZFq8MfJsuN2Ih/UdTwumL9OzlCxbhMbOGKyHnXhglfnLfpGENlWaFLT6t3kei54/e5HeKNPElA/E+P/sXQ1MVlUYftd/mtFYc5k5aLZMTVlpkH+Yzn50QiWOMiVMlCz60VI0nCiCFZBK9jNJBTOImmSpaCQR4s/KVkgYYwsrCpyRy0raCq2t81w75zv3cL7v3osXv/z43o195//ee869nPOc93nfA4DsVOBka+b9TzOPyt+LqrBD3r5vsy2b4iDAFd3W7QJba2soqdjDJIB34S8XLbXVD4vYGbNvHNgryo678SbaOsdsBy4yfQTyPvmYMj7cIUrcH3ELFcyYKeLnItD4cytF5pq//YeZx+WXp3rmZm/3cdYAV20YlNmUlBTDNhQTKzRv6qIANrmYjPnkp7YhAyE1D+2D9gtADUAVFRVFVVVVpmI7d+40NL5yImi60EShPGhe0PquX7+eCgoK5GKGJrq4uNiUxiOgX8O+SRbQaBMTE41zEgE8YadaWFhoommjPWi4uajPpwO4KF9SUsKrGJplnD0I7TeoyPBqib6FJhkLECzE5PKiIgvYuR7K79ixg2JjY+Wqho0y7gUbCdCWw6smxhVgGlQ5WaCVBfXWm6j3IZfDRgmOSwoNDaWamhqDsgw7b1lKS0spLi5OTurysJvj4Nb7489x8uf31+WDrbkA/x8VBLiazgnwpLVr1xoMIP6YduxfeVm1LnwKwNyjM6Kbz9AOtLJ5eXnG3IC5AGwheSMYG7aYG1UvzE7vAfNmRkaGqZpdrTD/foIA19R93SKiAsyhwwbRxlJ7NH217oDBN1BR2auO+m1v5Wf07Ozlpjqf1JZSr5ArTGlq5PSp0zRyQIwpueC9NTTk1oGmNKtI67HjlLvsNaquMDMbH54bT08ummVV3cgPAlxb3RSQhfL3V9PibVvFs0WFXU/lT8wTcV8BtW5E3+tozzyzXbuv+jzvkbc20Qd1Hvvb+eMnUPrEGIJdbG1LM311tJmOMyVcG2P09mTHbw265loacu111J+BcbeUUS/u/pCyK8r5LRm/xYmzadLNQ0xpuoirABd2Rjk5Ocyr3EXiWqBkjh071rCBFYksAKcXoHHpxBsQmsm8U8ImCbazEDi/wMJTtj2FZhMOMAA0uYDeDHpYL6ZeVwUgNzk5WSRjUOCICrvmskBLjR18mbYL6mx5eTmFhYXJRQ3tan5+Pi1YsMCwXe2MBhebALDN5QIbYt25g3heUMVQHs6fdKL2pw5Qo52IiAjTGYqgpcHmDHQ0VQCwoZVoaGgwZXVmXNPT0wl/ssMvaOXxfpw8eVK0Hx0dTdXV1SJ+LgJujYNb748/x8mf39+5GGvdNfgCPQhwdb0T2GmqgyedN2JvPQAvyvheuGCOaGpq4lHHv5j3sHGsvoeYC7F5e+iQZxGCxgFuKyoqCLayZyOYY9G+PBehbcwhvuyA+TX59xMEuLxHus/v66s2UeGr74gHHnnHcHq5MEvEfQXKSisoY+EqUaRP3960ff9mEbcT0HkvTp6fQHOemm5ZPar/JBPNH9pjaJF18sN3LdT2+xmmXdvJP6i56SgdYefqwhP0qXYPrRJ1ceRRDjsi6PIeZ9awuvbktCDAlXuje4WzystoVWWFeOgJNw2kLUlzRdxXoOSLg/T4u2+LIv0Yw7IubbmI2w2MZ2ffHmrx+MZ5dHQ0/ck2gKBd/uNUu9dmQGXOi3uQJg7WYxKvFZUMAOkopr1tOvGLyAlhc943y1bSJRLOFJlKwDWAi51kHDKvE9BQOZWZ58fExBgaSB6Xf1VAhjw4zoAGz2pXQAWsISEhhsMqaG29CXbmcag9Fzj1gGZUFpwlmJ2dLZIA4jHpw/mGN4En6d27dxsLHRmEq8+nAs729nYB4tE2FglYaMgbB96uqUu3uh7qQOs8a5Z5V1EF5mrbAPsYVzhj4QKKMjSwOlHvA2VAcwPdTSepqamUm5srsqDdlTcYREYXBdwcB7feH3+Nk7+/vy4aYstm+QJdBRaWFYMFzvsewP8l+HHgAn8T2PCzI/CaDP8CXLBZ2CY5/eDpTn5BmQbItfofCJYPNljVjVcn1+Jl4V8jLS2NR41fOBWE4z87wr+fIMC101uBVSZr8Rra9q7HDv3OydH0/Cvmd8nbE3+8ax89l7JSZAMQ7q3/QMTtBEAPnjxqBv12wrNJfsWVPemldek0bESEtonvG38kOJkq32ZmBa57O1tb59jRVoodnahtS0685NKL6d74e+iZpY8Szta1K0GAa7enAq/c01veoc2fe8wvndCDcQTPI0WbRKf0ZE4JW1Z61tIiwyIQmbOSGo971vcWxTtkTxsWSXlTH7AFRjtUZgmrGcDPZEBfljmjxlDOfVPlJK9hVwCu7iB59YrYzZbPBsSxAzr7UtRTgRBAJI6QAVi1EgBn2fkF6FXwouxL1MUI7JgATGWBdrS+vl4k4cgH1OuMqM+nAly0CUCO44C4nA091871xowZYzp+ArbGOO/RSlQQivIYV90xSep9ZGZmGt6rvV1DZ/sF52byZoG3um6luzUObr0//hin/8P359Z4Om2HL9CDANdpz53/5eHXAI7cuCQlJZkAL0/X/cKEY8qUKSILABdsFP4+iQyHAZiIWAFXeEyGKY2TUwF0twFbXmxgyk4OYZIDdhR8LtgR/rxBgGuntwKrzILk5SZ6bmz8XbQ0+xlbD1n10QFKnZspygLgVn/9vuPvp6TwfVq9Il+0gwDeyXsfuJuG3jqI+va7hq2zfqemb3+khrpG2ld5sANLAnXWFKyg0eMiETTJ4ZoGmhU335Smi/QfEE7jJ46mKdMm0dW9Q3VFtGlBgKvtlm6ROH3TBtpVf1g8a8Jtt9Pa+Gki7itQdvgrStjsMb8EwG3OynH8/Qxk3ph/kliU6jUvYN/SlZdeRm3tf9E/jE2rk6yY+yglepwuy2da868nDO3tn+ykFS7QDB9cmEZXXd6DJ/n8dQXg6gCaelUsFFTHUqBtgu6kigqEQAO28rzM2wBtGM6IuIDSCmqrLwElWXaOBDtDfkwR6uE+AXTkRS4choCi2xlRn0/Xf7Azlu1ZAeqgVcZGgUzltXN9O9fr06ePyeFTUVERTZ9uTeVBX6PPZcFRTirFG/l27kNuB1prFcxCKx4eHi4X69KwG+Pg5vvjj3Hy9/fXpQNs0ThfoMvfvkWVYHaA9AAAquy4DwyXjRvtOcnBsW7yubdg3+D/GX+fOtNF0B7j6DmYh1gJzGmwoTxixAirotp8OLfCnCvPQSjodKOVP28Q4Gq7OaATF85dQXs+8jDjnADcyvL9tPgxD535wgsvoE8bdzr+fk61n6apE2bTsZbWs+rrDVtWUcTwwR3aON76C00emWCiM3coJCXAE/OSF+bR+HtGSaneg0GA671vAj0n4c2NVPZ1nXjMGbdF0SvxD4m4r8D2ulpKfKtQFLmImV7+/OJqx99PvyWpHajIALQPDo+kmCERFBkWbmhnQSU+wjS9eVWVtOXQF+K6CIQyMFqbtox6/Wdaasr0EvmbmUzGbVhHe498YyrxJjvPN9bBeb4qwP0XAAD//8O65JwAAEAASURBVOxdBbwVxfc/Kt3d3Q0SApIiICWpICDSICUt3S3S3fXo7u5SEARJQRpFulP8/f/7XZy5u/v23rf3vlvv3nP8yE7Hd3bene/OmTPv/Z8iFIZEjx6dXr16JVPdvn2bkiRJIv1mjj///JNSpUqlizp9+jTlzJlTFwaPK+Uj37///ksxYsSgN2/ewKtKrVq1KH78+MJr+rx//z6tXr1axkWKFEnt3wcffKCGnThxgj788EMZD8eVK1coXbp0ujCrHiv9W7x4MdWrVy9UkVmyZKHvvvuO6tevT/HixQsVbxYQVn3Pnj2j2LFj67KeOXOGcuTIoQuz50FelCFkzZo1VK1aNeGVz7DaIRNqHIkSJSKMj5Djx4+HGgsR54mnO8bBXe+PP48TsPfU/PPEuFot87333lOTWvizaLVIThdBEGjevDnNnDlTthZ/c0NCQqTfkQO/JzVr1pRJkiVLRrdu3ZJ+ZxyYV+3bt6dJkybpsuH3CW26e/cubd68WRcHT9SoUWnu3Ln01VdfhYoLK6BVq1Y0depUXbIaNWrQqlWrdGFhecT8OXplS1hJOT7AEBjcfQytXbpV9qpCtU9o0Nhu0u/IsXvrQfr+20EyScLE8WjLkSXS74zj3p0HhLYc3H3UUrYoUSPTm9f/6NIu3jKFMmVNrwsTnutX/qQnj56q3jev39Ctv+7QrT9v06nj5+jQnl9EMt1z0LhuVKHqJ7owM0+h9BXU4Icjx5lFc1gAI9B++RKaf+Sw7OGXHxak6fUaSL8jx4ZTJ6nB/NkySRJljf5738HSb9WRtnc3evLaxvW+yFeAfqz5JcVVOKA9Gbl9Cw3dpv89+rHGF9T04xL2soQK77RqGc05fFAXXiVXHlrQsKkuLCxP/K7t1SRi/faepwju69evKVq0aLr2bNmyhT777DNdGDyuECHkA+nMkCEDnOGW58+fq2QZBe3evZvKlCkjy8SPNgh+lChRZJgzDqv9a9y4sbpAMSsbZTRq1Ig6depEmTJlMksiw8Kq7+TJk5QvXz6ZHo6nT59SrFixdGH2PCDdFy9elNGjRo1S2yUD/nOE1Q5jevgzZsxIly9fllHeJrioOLzj4K73x5/HCTh5av6hbF+JWKCLP5C+agfX630EunfvTiNGjJAV46MdPt5ZkUWLFqnkU6TNkycPYf46K3jvQJSN9RYvXpymTZsmP0Lu379f/fCJj2lawfuLvFWrVtUGO3SPGzeOOnTooEuDv8NHjhyhBAkS6MLD8oj5wwQ3LKQCL37CiNk0f+oy2bFS5YrQj9P7S78jx5a1u6lPB9vcy5QtPS3ePMVRljDj1i7dQlvX76UrF68RSK9WYsaOQanTpqTSn31Mnyj/1ynfUhtNGw+HUJJkiXRhVjwXzl6isUNm0NFD+nkZO24sWrZtOiVK4ng+McG1gnJgpum/aR2N271Tdq5Szty0sFEz6XfkWPHrL9R80QKZJGey5HSgc3fpt+rIMbgv3Xr8WCaf/XUjqpFXv9knI/9zvFQ2GHMP6U/3XzyXUa1KlKKhVW0ffGWEiWPqgT3UY61twxFJ0idMSDu/60zxY8Q0yWE/yGsEF00QP3aiOVj4ly5dWnjl0xUihMx79+41LU8WbNEBwvb777/L1Fgg4Ou1EOxYPnnyRHidflrtHxY348ePp549e9KLFy9M6wHJHjRoEHXp0oXef/990zRh1bdu3Trdjis+RLx8+dK0LLPArFmz0oULF2SUOwkuyPulS5dk2b4guOEdB3e9P/48ThggT80/Ofg+cIi/WUxwfQC+j6v88ccfqWvXrrIVH330Ef3888/S78gxcuRI+v7772WSsmXL0vbt26XfqgM7yNhJ1kqLFi1o4sSJFDlyZG0w4SMy6sRvhlZSpkxJ586dC6Wlo00j3Bs3blR/C7BrLCROnDj0008/Ufbs2UWQ5aeYP0xwLUMWMAkXzFhB44faNCBy5M1K89aMs9S/BdOX0/hhs2TaQsU+pMkhw6Q/vI5nT57Ttcs3CPqKqdImp3gJ4soisfPapFZH6Y8dJxbtOrlC+p11vHr5ipp92YV+P/OHLmvLTg2oWbv6ujCjhwmuEZHg8U/Ys5P6blwnO5w/dRqV5MkAB47xCjHupxBkIaUzZ6XVLVoLr+VnwRGD6dK9uzL9pNr1qF6hwtJvz/Ht4hBaetymMWGVnG87d4bqzZlB/2oUiWMrmkg72nWmLEmT2qvObrjXCC52PEG0tIIvwoUKFdIGqe6wCFmoDP8FQOU5d+7cumjscFrdiURGEMbq1avrVKd37dpFn376qSwXRBKLCagyuyLO9u/evXvqggZf7P/++2/TKnv16kWDB5urIIRV3549e+iTT/TqMiC4xh1304qVwMyZM9Mff9j+eM+YMYOaNQv9pSmsdpiV7w8EV7TL1XFw1/vjz+MEjDw1/wT+vniKBToTXF+g79s658yZQ02aNJGNAFG8efOm9DtyGFV8cdxk4cKFjrKEioMWUZo0aejBA9tuU6VKlQgk1JFAndlIcvHbAWLsSA4cOKBqVGk/puI3AOrPpU0+RDsqS8SJ+cMEVyASPM91y7bSoG5jZIcTJ01Im36yNgeG9Z5Aqxba3vPPqpWmwWOd34GSlTvh2LRaIQedRsocHxX/kCYtCB+5/uP8FapbsZUsE47S5YvSyGn9dGFGDxNcIyLB41949Cdqu2yx7HDyuHHpbO+B0u/IYVTxhWrxjPrfOMpiGld67Eg6+aftN69PhcrU6dPypmm1gf02rqXxe3bJoFKZstCalm2k38zx05XLVHPGZHr5j+14QFSFY61o1oqKZ8xkliXMMK8RXKiZQs1JKyBrSU1YuStECOXihzlmzJjaKtQv19myZdOFOesxa/u1a9fUxYezZSG9q/17+/YtYRdv2LBh9Msv+rMdIN3Hjh0LpWpspb7r169T2rRpdV1x5oyxsT8gYqVKldKVZ6UdoTIoAf5EcEX7nB0Hd70//jxOwMZT80/g7ounWKAzwfUF+r6tc/369aFUe/GRK6GiLhWW4O/fvn37ZLKOHTvS6NGjpd+K4/Dhw/Txxx/rkl69ejXU32pdAsWDj6/46Hjjxg0Z9e2339KUKfZVPKEZg2M4jzXqaPiAu3LlylAYyEItOMT8YYJrAawAS7Jv50/UuVl/Xa92HF9GcePH0YWZeVrU6UK/Hjkto+o2rUGdereUfk862jfuTdqzs43afEVtujQKV5X4/SiT7wvCzrGQbLky04L1E4TX9MkE1xSWoAjccuY01Z07Q9fXSwOGUgILarqVJ4+nQ1dsmo+tS5SmIVVtWqi6Qh14GsybRRtO/yZTNChUhMbXriv99hxdVi+nWYcOyOiwCO7Jmzeo6tSJuvO+kRROM/+bplQxZy5ZjrMOrxFco7EeR2qwRsJkxYiV6Hjy5Ml1u5zbtm2jcuXKiWiXniA0aK9WbcueerWVCsLTP1H+2LFjqXPnzvS///1PBJGrqsEoA23SGueCMRGtWrasxODA2VuodGsFuxzY7TCKK/32R4Kr7ZeVcXDX++PP4yQw8cT8E2X74ikW6ExwfYG+b+s8deoU4eysVjZs2ECVK1fWBoVyP3r0iBInTkyY90Ks5BNpxRO7riCmQlKkSEEw1mhFoIW0du1amRTGFlesMFezhPpyyZIlCeRdCD6Yzps3j77++msR5NJTzB8muC7BF6Ezme1ajpk1kIqX+chhv54+fkblCtRW1lu2tY2VfA4LtRh56cJV+uoz25xDtmmLf6D8RfR/BywWp0tWtURDunXztgzLmjMThWyYKP1mDia4ZqgER9jZW39RsdEjdJ1d2qQFlc+eUxdm9DxWtC8z9e9JbzXcwEo+YznwD9u6iX7YYTMUl1ox2HuyR79Qx02NeRsvmENrfrOdO2+mGJgaqRiaMpMLipHiSpPH6c7svq/YjpjyVX2qnT+0hq9ZGfbC3EJwp0+fHuqckLFCqFZpLT0az7lq07tChER+GN84ePCg8KqqslCZDa+kS5eOsGsrpEGDBjR//nzhdeoZnv5pK/rmm29owQLbQXKoxU2ePFmbRHVbqc9oKMqKKhwKN6rDwYo1rP2KhY22MVbaoU0Pt78TXLTRyji46/3x13ECDhBPzb93pXv/X/EeM8H1Pva+rhFjDqKqteIOwqf9m2vWRlguhmE6IbhhAMTU2SMtMHAFQ1dCYFEeFpOtCD5Oag1TwSAhVK6NAk2dEiVKhCLOVn7TjWWZ+cX8YYJrhk5gh2H+lM1fW1oYRm8rVv+EBo7p5rDj65dvo4Hf27Qd4ieMq6g2L1LmzwcO87kjclC30bRu2TZZlDuMW6Gw589eUOncNWW5cFStXZ76jOikCzN6mOAaEQkeP+ZPpn496cFLm/2d2ool5WlhWFJedPRnarNskQQqUcxYdK7PQIr0gfPzZ61CUhspZFUr29p2pEJp02mDdO7nigZR3qEDdIR1ZI1a1Ozjkrp08Fx7cJ8qKuRWa8gK4WO/qEMNC+u1lxDurLiF4OK6AqgymV0NgwbhCzG+hGu/aLdr1y7UOSHReFeIkMiLK3QmTLCpfcAQB4wUpU6dWiRx6Ym+QT1YCMqFuhi+qtsTXLWDc1dY7EBlTEh4+ifKwHPo0KGEs7dCWrZsGepqB8RZqc9I0vAFH+13pN6NL/7p06fXXRHkSBXOSjtEX8QzIhBcK+PgrvfHX8dJjJen5p8o39tPsUBngutt5P2jvtq1a9Py5ctlY6DJg7OqBQoUkGFaBz7u4Xo1rXowLBKPGWM7i6hNj11ikEwILNnjzK0Q3DJQsWJF4VWfsMRs3FXWJVA8sHcBw3840iAEv4lt27YVXvX5119/qeRWa6UeEWir0YqyLqMTHjF/mOA6AVoAJe3eZgjt3LRf9ghX8MxcPpqy57ath2Sk4njx/CXVLtecbt+yaRN81aQGde5jrp6MXeI/b76zS5IlewZKntJ5QzSi/hDFKNY4jVEshPce3oGq1akgksjnb8fOUsIk8Sll6uQyzJFj3NAZFDJjpS5J1wGtqfY3VXVhRg8TXCMiweU37oTiTOqWNh0oXypzPgNyWfjHofSnokUkxJEFY+wSX/vPxkNuResyVbz4Ipv6vPP0CeUc3E+3G+xoNxaZxu7aQQM2r9eVs71dJyqYJq0u7O8nj6nipHF0VSG5WhmqqFK3KlFaG+Sy2y0EF7Xj6zR+RLUqVQjHjyjOEWl3P5EWpFP7Y460QlwhQiIv6sMuFwx0CClYsCAtWbIk1BlgEY8nFrA4MwVDOTDGYbRQeejQISpWrJg2C+XNm1clvcZ+/KMcksadhT169FAXG3C3bm2zYBZW/3bs2KEajMJXdxAakE2joA6c88I5LSHYvcUurlHCqg/pYSQKVjK1HyFwPhq77sY7gJEeqslVqlTRWU/G+WeUgzsfzcRKO4z5fElw3TkO7np//HWcxLh5av6J8r39FAt0JrjeRt4/6jNe8YVW4e8i5rPxSjqQW3zMNKoC//rrr6a2EWCZuGjRorKj0H7B7yR2aiHYORZukQh/o/E3P65icMRM8J42bdo01G4t2qutC2rU+D07e/asrpghQ4aoVvt1geHwiPnDBDccIEbgrL8cOkmt6ut3bBMkikezVo6hVGn05BDkdkDXUbRrs+3sHroesmESZc2ZMRQKRmvHUaNFpQ0H5+ssIsOC8auXr3VhxoJw9GfM4Om0ZM4aXVSa9Clp0aYpFDVaFF045liJHNXpnzf/UAVlR7rRt3UofWbbhyltYpS9ZskWGq4YzdL+hmBNt3DTJLt364oymOAKJILzuf/SRfVsqrb3iZXrO7e160jpErz7nRBxILdtli6itadsqsGI29fhewJ5NcrRa1ep/ETbh9foyqbdqV79KaGy46sV4zlcqA+PUu7CbVREz4eQZ+Wvx9Td49ea4zlQqYaKtFagRv2ZUvfvd2wq+4i3asRKW5Yjt9sIrqgE6k4gc7BcDGND+Pqt/ZKMdCBtON9jT1whQtqyBgwYQP3799cGqVckdOvWTf3ynjNnTooXLx7duXNHJWggMqtXr5Zf0mGsKX/+/Lr88OBrOr6qawWLHSxqUCaIO67Lgeqy9mobqKw1bNhQZgurf2g7+gDBDip2ZsuXL68uqPAHE+3D1UDGayfstTus+kTDMG5GQyS4IqJ+/fpUuHBhlQBj1/ro0aM0e/ZsnXVPlNGnTx8aOHCgKC7U02o7tBl9SXDdPQ7uen/8cZy0Y+ap+aetw1tusUDXLk68VTfX4x8IgBiCjGoFNgZwrhUq+fGVc0nQdsEHXu3ffaQvXbq0eo+6Nq9wQw0Yf9u1guvp8IFWiFHlH+EwcoWjIfh7As0kEGPsGOPvP9Sa0Rat4DcZlty1KtJGTQuRHtaerQra2a9fP4fJxfxhgusQpoCObFyzA53+9byuj7CoXKZiccpXKBfFUa7huXTxKi2bu45uXr+lS4ezrzgDayarFm2iYb3G66JW7JxJaTOkkmH9u/xIG1fuoIxZ06lnf/MUyEHJkiem6DGi04P7j+jsyfO0fsUOunjusswDB64GmqtcaQSSa5TXr15T8ezVdME4T1tKsYqcOl0KtfynijGp61du0uY1u0NdD4SMzTt8TS3ah32+nQmuDuag9JSbMJp+uW47HgkQYFG5au68VCRdBoqn/P0/f/sWTT+wj64oH0W1UjxDJlrfqp02SLrn/nSQOq603VONiKPf96JMiZPINHDsvvg71Zwe+uhjoyIfU4mMmSldwkR08c7ftOfiBVpy7KguLwxFHercgzIrx3S00m3NSpp+cJ82SHXD2rNVyaQcH+pWXq/hZMzrdoJrrMDox3kkqHhpVXaNaVwhQtoyYM01V65ckrBq46y48YW8SJEioZJiAYGv3rBS6Yxg97hOnToyS1j9w1f03r17y/RWHLiWx95Z47DqE+XDqjVU77AL56zgmiEYNcEdwfbEaju0+X1JcN09Du56f/xxnLRj5qn5p63DW26xQGeC6y3E/a8ekFZcZ/fw4UOnGgcSjDlvdlMACpo6dWoojRuk135cxd9i1O3K32TUAaNvsJBs1KrBB0tc0xdeASb4WGxPxPxhgmsPocAPv3HtL2pY9Tt6+uSZU50FCV6wfiIlTKxXmxSFrAzZQMP7TBRe9QmrxLBOLKRz8/60b4f+45SIs/f84IP3acL8oVTo43ymSfBbAIL75vUb0/iwAkHqpy4eQTjaF5YwwQ0LocCPv3L/HpUZ+yM9evXSqc6CBO/t0JUSxzJfk88+fIA6r7Idv0Hhe9p3obwm6s/2CKmjBr2nRPauYH6t0KfjR9HxG9cdZbcUd3XgcIpruH5Wm9EtBBfECmd2tGrB2kqEG2eMQIKMKr0iXjxdIUIir3jiuoMuXbrQzJkzRZClJ1S/oAZqVA0TmU+cOEE4lwUVXSvSvHlzdVdU+8csrP5BVRqEEbu1VgRf6LGbGzVqVNPkYdWnzYQ7F7GrYFSz06bRurErgB07GEMxU6XWpnWmHSKfLwmuu8cBfXLH+4Ny/G2c0CateGr+aevwhlss0JngegNt/60DH2XxkdIq0cTxlWXLlul2Y429MyO4ZjcG4Eq4L7/8UrX5YCzDkR+G7fBxFWTWKO4guDjGAzsM0PKxJ2L+MMG1h1BwhJ84epp6tB1K9+48sNThzMp52mETe+p2Y40ZzQju1qNLCCrQQgZ3H0Nrl24V3jCf2DHu2Ku5jiSbZVowfTlNGjmX/n37r1m0adgHipGsmvUqU0tl99bKVUkohAmuKZRBF4g7YhuHzKG/nzyx1PdcyVPQnAaNQ+3GajObEdwL/QabEuJ/FS7ScP5s2njmlLYIu+4kykbX5Dpf06dZs5mmcQfBxe7w5QHDKLZiF8OeuIXg4kcZ5BZqT5s2bQpFzHBW6bPPPqORI0eGuqfWrGH48i0WElC/wo6Vo51BszJEGNSPoUaFs7VP7Lwc+KHGOV1YnsS5V1jOdCRPnz5Vr+jB+VRciWMUEDmoFEMlWnvuSaSz0j+oAePeRNzFaO/DAXap+/btS1988YWp1WJn6hNpxRNq1jg7DHU3s/qBGa6WGDx4sOlutyhH+7TSb216uLULMdQJg2XG+5SNedzpd+c4iHaF9/0R5eDpL+OkbZPW7Yn5py3f026xQGeC62mk/b98nInFx7ylS5eqx1vMWowjJfgNwQdfex8cRT4YWpw40bYDlTt3bvrtt99EtO6JK+pAmPEbijO99gQfUrED3KlTJ/V3QauWrM2D4yS4T1179Z023oobv+v40Ovow6aYP0xwrSAa2GkeP3xC08eF0PYNe+nh/cemnU2XMTVV+aIc1W1cg2CQypH80G8yLZ+/TiaBGvKSLVOlH46//7pD44fNpP07f1bP4uoi//PEiBldVWFu2Ko2lSprOxNvllYbdvvWXVq9ZDPtV3aIL567ojtjq00XJ15s+qhYPmrVuZGpyrM2rdHNBNeISPD6H7x4TiO2baFVJ47Tvefm2hCZFfXiegULU+uSpSmKsvnkSL5fs4JmHNwvk+RIlpwOdu4u/WaO7efP0iDFgNQpEy1PEE6oNxdW1Kb7VKwc6iyvtrwhWzbSmF3b6V9FG8JVSZcgIR3r1tvh74/bCC5UjyEgfFCJAukFofnoo4/s7oba6xgMKIHUQrCTCsLoDgFpBkGC1UpYw0TZUN2C4Y6wFiP26seiB5YtocaG3V9YVYaar6M2O9M/GH3Crh/OWKEuEH4sLPC/wNxe20S4M/WJPOKJhT3O3YLoAj+cN4PKHXYo7Bk6EXmNT1fagf7jXcBuNs6ewZCVL8Qd42DWblfeH7NyfD1OZm0yhnli/hnrcLdfLNCZ4Lob2YhbHv4WgIjifcbvHD684e8+NJO052cd9RD5YIH+pWJsQ0hISIhq70D47T1xBAC/B7Btgd9bkFjUnTZtWkqVKpXurK29MrwVLuYPE1xvIe7/9bxVdj3/OH+Z7t5+QA/uPVTfV6gjJ02R2OGOrbZn9+8+JNwrq1UTHjj2e6pYrYw2mXSjzquXrtONa7fo6aOnKhlNnVaZs8p53URJEsh0rjqeKHf3Xv3juqJZ9ZgeKWd7o0WPpp7HTZ0uJcWJqzfa40wdTHCdQSs40r5VPnaeufWXupt759kTivz+B5RM4R6wgGw8P2sPkbvPnlKeIQPo1dt/ZJLpdRvQl/kLSr8jB8j2ZUV75+r9u/SP0p7syVIQCHJYpNpRmZ6IczvB9UQjuUxGgBFgBHyBgFigM8H1BfqBWye0e374wWY859NPPyVoOwSaiPnDBDfQRta3/Rk/fBYtmGY7P4jzspMXDvdtozxQOxNcD4DKRVK/jeto/J6dEolSmbLQmpZtpD9QHExwA2UkuR+MACPgdgTEAp0JrtuhDdoCcX4eu624VgiCGwdwhAZhgSZi/jDBDbSR9V1/nig7sFWKNaCXL16pjYgeIxot2TqNUqRK6rtGeahmJrgeAjaIi32o7L7mHtKfnr95ZyQtZpQodLhLD0odP/yaDP4GKxNcfxsRbg8jwAj4DQJigc4E12+GJMI3BDYhtNep4Wo24/3xEb6T/3VAzB8muIEyor7vx9Qx82nW+EWyId0HtaVaX1eR/kByMMENpNH0j74M27qJfthhM7yGO22bFC3uH41zcyuY4LoZUC7OewjAWNO4ceMIZ9LcKThn3LFjR786y+bO/nFZ1hEQC3QmuNYx45T2EYChQ+zUPnr0SE1UpkwZVTVZvGf2c0bMGNEvJrgRc/z8rdXPn76gKsUb0DPlnllIwaJ5VdVk8Z75W3vD2x4muOFFkPNrEXj66pWye9uPHitPSEmoJrdo7dBIrTZ/RHMzwY1oI8btlQjgKiNcn+EJgeGwPHnyeKJoLjMCISAWTkxwI9Cg+XFTV61aRbVq1VJbmCBBAvWeXFznE6gi5g8T3EAdYe/2a9eWg9St1SC10tiK8aYQ5Z7cFKmTebcRXqyNCa4XwQ6CqtafOknfKNf9QOJHj0F7OnalNAGomiyGkgmuQIKfEQ6BuXPnUuPGjT3SbpyJy5kzp0fK5kIjDgJigc4EN+KMmT+39JXy5RwWmPE+4UohZy3R+3PfzNom5g8TXDN0OMxZBF6/eqNaYMbtIrhSKFYc39yq4Gy7XU3PBNdV5DifGQKvlRtqTisWmHE5Txbl5ps40dxzQ41ZXf4Q5hLBbdq0qbyLD+pWuBcwinJQmYUR8CYCuIOxTp06uqs23FE/VJRxn3O8eLYL491RLpcR8RAQC3QmuBFv7LjFvkdAzB8muL4fC25BxEOACW7EGzNusf8g4BLB9Z/mc0sYAUaAEfAcAmKBzgTXcxhzyYGLgJg/THADd4y5Z55DgAmu57DlkgMfASa4gT/G3ENGgBFwEQGxQGeC6yKAnC2oERDzhwluUL8G3HkXEWCC6yJwnI0RUBBggsuvASPACDACdhAQC3QmuHYA4mBGwAECYv4wwXUAEkcxAnYQYIJrBxgOZgQsIMAE1wJInIQRYASCEwGxQGeCG5zjz70OHwJi/jDBDR+OnDs4EWCCG5zjzr12DwJMcN2DI5fCCDACAYiAWKAzwQ3AweUueRwBMX+Y4Hocaq4gABFgghuAg8pd8hoCTHC9BjVXxAgwAhENAbFAZ4Ib0UaO2+sPCIj5wwTXH0aD2xDREGCCG9FGjNvrTwiEIrhK43BFEgsjwAgwAowAI8AIMAKMACPACDACjAAjECEROH36tNru95R/meBGyCHkRjMCjAAjwAgwAowAI8AIMAKMACPACAABSXAVVTwmuPxOMAKMACOgIMAqlvwaMAKuIyBULFlF2XUMOWfwIiDmz8OR44IXBO45I+AiAqFUlJnguogkZ2MEGIGAQ4AJbsANKXfIiwiIBToTXC+CzlUFDAJi/jDBDZgh5Y54EQEmuF4Em6tiBBiBiIUAE9yINV7cWv9CQCzQmeD617hwayIGAmL+MMGNGOPFrfQvBJjg+td4cGsYAUbAjxBggutHg8FNiXAIiAU6E9wIN3TcYD9AQMwfJrh+MBjchAiHABPcCDdk3GBGgBHwFgJMcL2FNNcTiAiIBToT3EAcXe6TpxEQ84cJrqeR5vIDEQEmuIE4qtwnRoARcAsCTHDdAiMXEqQIiAU6E9wgfQG42+FCQMwfJrjhgpEzBykCTHCDdOC524wAIxA2Akxww8aIUzAC9hAQC3QmuPYQ4nBGwD4CYv4wwbWPEccwAvYQYIJrDxkOZwQYgaBHgAlu0L8CDEA4EBALdCa44QCRswYtAmL+MMEN2leAOx4OBJjghgM8zsoIMAKBjQAT3MAeX+6dZxEQC3QmuJ7FmUsPTATE/GGCG5jjy73yLAJMcD2LL5fOCDACERgBJrgRePC46T5HQCzQmeD6fCi4AREQATF/mOBGwMHjJvscASa4Ph8CbgAjwAj4KwJMcP11ZLhdEQEBsUBnghsRRovb6G8IiPnDBNffRobbExEQYIIbEUaJ28gIMAI+QYAJrk9g50oDBAGxQGeCGyADyt3wKgJi/jDB9SrsXFmAIMAEN0AGkrvBCDAC7keACa77MeUSgwcBsUBnghs8Y849dR8CYv4wwXUfplxS8CDABNeLY7179246c+YM/e9//6P06dPT559/blq71XSmmTmQEWAE3IYAE1y3QckFBSECYoHOBDcIB5+7HG4ExPxhghtuKLmAIESACa4XBz1mzJj04sULWePdu3cpUaJE0i8cVtOJ9PxkBBgBzyDABNczuHKpwYGAWKAzwQ2O8eZeuhcBMX+Y4LoXVy4tOBBgguvFcY4ePTq9evVK1nj79m1KkiSJ9AuH1XQiPT8ZAUbAMwgwwfUMrhG51CePn9HuLQfoyqUbdO/2PXr65DnFiRubEiVJQFlzZaJSZYtS9BjR3NZFaPyc/OUMPVbqdUbixI5J+YvkcSaLLu0zpV+H9v1Cj+4/on///ZeiRo1KqdKmoIIf56X3339fl9aeRyzQmeDaQyj4wnn+OD9/mOAG3zyx1+NHL1/Q+lMn6YLCH249eUyPX72k+NFjUrI4cShvylRUMWcuihElqr3sTofj9+fna1fo4XPb5pyVQuLGiE7FMmSyklRN44l+McG1DH/4E1olrlbThb9FXAIjwAg4QoAJriN0givu+dMXNHrwVNq8Zhf98+at3c5HjRaV6jerSc3bf02RIn1gN53ViFkTF9PUUfOsJtelW7Z9OqXPlEYXZsXz9u2/1LBaO7pw9nKo5COn96PS5YqGCjcLYIJrhkpwhvH8eTfurswfJrjBOWe0vX6qbI71Wrealh4/Sm+UD472JHrkyNSm5CfUrVwFivRB+H9/Ru3YRoO3brRXncPwI117UuYkSR2m8WS/mOA6hN69kVaJq9V07m0dl8YIMAJGBJjgGhEJTv9VZbe2Y5O+dPP6LcsA5CmQgyaHDCMQ3vBI9zZDaOem/S4VMXXRCCpQNK/TeZfMXUOjBkw1zTdsUi8qW6mEaZwxkAmuEZHg9PP8sY27K/OHCa4Nv2B0Xbxzh+rMnkpX7t+33P3CadPTmpatKVrkKJbzmCVsvGAOrfnthFlUmGHrv21HxTPa38X1dL+Y4IY5RO5LYJW4Wk3nvpZxSYwAI2CGABNcM1SCKwyqug2rf0fXr/wZquMxYkZXCGwUenj/cag4BFSs/gkNHNPNNM5qYHgI7pp9cyhl6uRWq1LTPbj3iGp92pTQbzNxZYHOKspmSAZHGM8f/Ti7Mn+Y4OoxDCbfE0UFucy4UXTp3t1Q3Y6lqCJHU3Zs7z03P75S+8OCNK1eg1D5nAkID8E90aMvpU2Q0LQ6b/SLCa4p9J4JtEpcrabzTCu5VEaAERAIMMEVSATvc3ifibQyZIMOgAJF81CHns0pW67MavjzZy8Iu55zJi2l169e69JOXjicCn2cTxfmjMdIcFt3bUQxY8UIs4gkyRNbViXWFjao22hat2ybNkjndmWBzgRXB2FQeXj+6IfblfnDBFePYTD5Oq9aRrMPH9R1uUTGzDSoSjXKmyq1Gv7s9Suaun8vjd61nV7+848u7dqWbahkpiy6MGc8RoLbp0IVihM9bK2kFHHiU6Vcue1W5Y1+McG1C7/7I6wSV6vp3N9CLpERYAS0CDDB1aIRfO7Xr97QZx99RTg/KCRdptQ0f+0EU0NSe3ccpi7NB4ik6rNIyQI0Yd4QXZgzHiPB3XViBcWOG8uZIiynPf3reWpcs4NMHydebEqQKB5d/eOGDHNlgc4EV8IXVA6eP+6ZP0xwg2rayM6+VshqlgG96YlCYIVkUQzT7m7fxdSQ1OYzp6ne3BkiqfoskzUbrWzWShfmjMdIcK8OHE5xFYO54RFv9YsJbnhGycm8Vomr1XROVs/JGQFGwEkEmOA6CViAJd++cR/1bDtU9iqa8uV63trxlCFzWhlmdPTv8iNtXLlDF7ztl6UUP2FcXZhVj7cILqxlNqrens6duiib1n1QW9q8drdqxVkEMsEVSPAzLAR4/rhn/jDBDetNC8z41Sd/pSYhc2XnYijnaXe170xZkyaTYUZH6yULafGxIzL4PcV1of8QShTTtY+iniC43uqXSwT3//7v/+jly5eExR/ImFZ++eUXunLlCn2gWO/Knj27+r823pH78ePHdOLECcL9sMibLVs2tRxHeazE3bhxg86cOUNv376lZMmSqWXjrlmrcu/ePbp06RLhWh/cYxsrViy1bRkyZLB8XQLqskpcraaz2v7wpMNYA7/ff/+dHjx4QAkTJqQsWbJQmjTOW+YU7QjveIhycHXFxYsX6ezZs+qY5MqVi1KkSCGiLT8j2vtsuWOcMNwIMMENN4QRuoAOTfrQwd1HZR9q1KtEPYd8J/1mjuM/n6KWX3XVRQ2brBhmqmjNMJMuo+LxFsFdvXgTDe05XlafNWcmmr9uPLWo05UJrkSFHc4gwPPHPfOHCa4zb13gpK09axptP39WdqhRkY9pTK060m/mOHT5ElWeYvs7jjRzGzSmanlcOybjCYLrrX65RHAzZcqkEj4A16BBA5o/fz6dPHmSvvnmG/rtt98QLKV27dq0dOlS6Tc6zp8/T/369SNBjEE2hESLFo1y585NFStWpN69e1Nk5TC1Vdm1axcNHDhQbdejR4902aJEiUKffPIJde3alT799FNdnPBcu3aNpk2bRuvXr1fJsbZdIk2MGDHo66+/piFDlK8jiRKJYLtPq8TVajq7Fbkh4s8//6QePXrQypUrVVJvLBLkvnnz5tSxY0f1fkRjvNEf3vEQ5aFdgwcPpmPHjtHp06fVDy0iDs/48eNTzpw5Ce9d27Zt1Y8w2ngzd0R4n83azWGeR4AJrucx9tcaYGypUpF6yh2w/5NNHDKhB5WvUkr6zRz4rahYuC7dv2v73anbtAZ16t3SLHmYYd4guLibtOYnTejxwyeyPbNWjCZYgm72ZWcmuBIVdlhFgOeP++YPE1yrb13gpLv77CnlGNSX3iqaNUJm1W9INfPlF17TJ35/sg3qQ3eePpXxrUuUpiFVa0i/Mw53E1xv9sslgqslYCCK/fv3pypVqtBTDaACQJANEBEzmTlzJrVv396UQBnTf/TRRypRTpcunTFK58cOa7du3WjSpElkRkp1iRVPs2bNaPr06ZIIIQ+I79ixY9XL7Y3pzfzx4sWjefPmUdWqVc2iZZgWNwRiRziJok9vFKvpjPnc5V+2bBk1btzY0rh06tSJRo0aZbfq8I6HtuC1a9dS06ZN6b5FU+lly5aluXPnUsqUKbXFhHJr8fa39zlUYznAqwgwwfUq3H5V2bHDJ+nbenoLyFuOLKaEieOH2c52DXvRT/uOyXSfVS1Fg8f1kH5nHN4guD/0nUTLF6yXzapU81MaMOrdLjQTXAkLO5xAgOeP++YPE1wnXrwASXrg0h/0+dQJut5c6DeYEseKrQsz89SaOYV2/X5eRtVSSPFMhRy7Iu4muN7sV7gJLna/oFoMtWIzKVKkCB0+fDhUFHZ7FyxYECrcUQCI5NGjRwl1mglUkAsVKqSqOZvF2wvbsWOH3Mnds2ePurtrL6298KRJk9KFCxcoTpw49pJECBXlP/74gz788EN69iy02XGonUMtWCvVq1en1atXa4Ok2x3jIQr77rvvaMIE/WQXcY6e2NHduXOn2id76bQE15/eZ3vt5XDvIcAE13tY+1tN2zbspV7thslmpU6XklbtniX9jhwj+0+mZfPWySSFS+SnifNtZ3llhAWHpwnuhbOXqMHn7QhncCExYkWnVbtmSyLPBNfCIHGSUAjw/Hn3Icwd84cJbqjXK+ADVp04Tk0XzpP9zKBoiR7r1kf6HTm6rVlJ0w/uk0k+yZKNVjV3zdCUuwmuN/sVboIrEfzPAdVVqP3eunVLJRaFCxem3bt365Jt3LhR3fHVBuLMLXaCkR7nPLHrO2PGDJo9e7Y2GdWrV48WLlyoCxOeiRMnUrt27YRXfeLMbcOGDQk7wCBoOK85Z84c9eymSIjyUC5kxYoV9OWXX4oo9aytyI/d49evXxPUqqH+jPPCWunevTsNG2ZbEGnj4NYSKfj9cQcXOCxevBjNUwV9HjNmDH322WeqKvLNmzdp3bp16g45cPjqq6906UU+PN0xHigHauLG3XGMJdqKDyjQErh+/Tr9/PPPKtn+66+/kE0KdmWhIm1PjOOiTefL91nbDnb7BgEmuL7B3R9qxbU/owZMlU2Bui7Udq2IMS/Os4ZsmGgla6g0RoLbsXcLihRJ+dioEFK8n0mV64BSp0tBqdOmVO/kDVVAGAHGBTjKr9e0psxljGcjUxIadjhAwDgHeP68A8uV+cME18GLFqBR0w7spe5rV8neFU6bnra07SD9jhzGvHlTpqI9HfR2IRzl18YZCe6QqtUp8vvK78//Kb8/yn8p48ajjImTUIaEiSiqhWOkxrZ5sl9uJbiNGjWiKVOmEM7OQt68eaOqCUeNGlXihR3APHnyqERTBEK9edGiRRQ7duitd5DcFi1aiKSqUScQS5zN1crDhw8pc+bMOvVVGKnasmULpU2bVptU3YXE+douXbqoZzi1O7g4S5w/f34qWLCgeja4UqVKurzCg93JMmXK0P79+0WQmgc7zPbESKT8keBmzJiRLl++LLuAs9EFChSQfuHAOG7YsIGQHsadjOKu8UA9efPmVc9Bizpg5GvJkiVUuXJlESSfIODly5enc+fOyTA4Nm/eTBUqVNCFCY9xXES4L99n0QZ++hYBJri+xd+XtU8eNZfmTFwim/Bx6YI0bs5g6Xfk2LBiOw3oOkomSZ4yCa07MF/6nXEYCa6jvGnSp6RGrepQ5VplLRlA3Lx2F/Xt8IMsEtahF26arBJoEcgEVyDBT2cQ4PnzDi13zB8muM68eYGRdvCWDTRq53bZmbLZstPypt9KvyPH4l9+ptZLF8kkqRVNxt969pd+ZxxGgmsv73tKRIZEialTmXL0VYFCdn9/vNkvtxHcGjVqqLuf77//vr3+q+FGwho3blzVYBV2be1JsWLF6NChQzK6devW6g6iDFAc2D0dMWKEDIoUKZJK1FKnTi3DjA5Ye962bRuByGhJ+D/K3VNWDFphZxokVwj6AIvL9sRIpPyN4GJ3WnycQB+wuMdHCmDprLhrPLDb3qRJE1312g8Suoj/PDijmyNHDrpz546Mhtr18ePHpV/rMI4L4nz9Pmvbx27fIcAE13fY+7rmwd3H0NqlW2UzylUpSUMn9JR+R44dm/ZTjza2u2+jx4hG+86scZTFbpwzBFcUkjFrOurStxUV/DivCAr1fP7sBdUqo9g0uPtQxk1eOJwKfZxP+uFwxwKd78HVQRoUHp4/74bZHfOHCW5QTBldJ9svX0LzjxyWYTXyfkizv24k/Y4ca5TrhRqHzJVJYiqGdW8OGSn9zjisElxtmTmSJafh1WtRiYyZtcGq25v9cgvBBYk8deoUgayGJZ9//rm68yfSQS0ZVpQdyfLly1WruCJNuXLlVGIq/HhiFxFXAQn54osvCPk8KU+ePAnVZ4SZ7USjHUYi5W8EF20EScd1QEKgsl2rVi3htfx013iUKFGCDhw4IOvFGesjR2x3fMkIg+P777+nkSP1Exrnis2uhzKOiz+8z4busNdHCDDB9RHwflBtlxb9ae/2n2RLqtYuT31GdJJ+R47dWw/S998OkklAcPeeXi2NGcoIC46JP8ymeVOWWUipT4I7e0M2TKK0GVLpI/7zjRs6g0JmrJRxn1YqQcMn9ZJ+4XDHAp0JrkAzeJ48f96NtTvmDxPc4Jk3oqf1586kTWdOCS81KFSExteuK/2OHBtOnaQG823HO0Fwbwz+waXfnwGb1tPY3fp73R3VLeJwZ+/ejl0pk6K+rBVv9sstBBdqwDijaUWgNow7VYXs3buXSpYsKbymT6gkYwdOCM5F4l5aIVCHBTHTWk3eunWrqqoq0njqCaNSWuvRUJG1Z7XXSKT8keDi/LT2vCp2tmGRGrvcOPdqRdw5HsmTJ6e///5bVhsSEkL169eXfnsOvGN417SCK6yMqu2IN46Lr99nbZvZ7VsEmOD6Fn9f1t7124G0Z6tNc8gZgrtzywHq3sqmzvzBB+/T4YsbXVpgvH71hk4dP0eRo0SiOPFiU+w4sZS/WdEU445P6d7t+/TXzdu0btlWOnpIbxMC2GXLlZnmrBpDkSLrtXCu/HGd6lZsRf++/VeFOGq0qLRi5wxKlkK/GEGkOxboTHBVmIPqH54/74bbHfOHCW5QTR21sw3mzaINp3+THf+6UGGaUPudrSAZaMex7rcT1HDBHBkbSdGsvTN8tGu/P4pG65HrVymKsv5PECMmxVGOoMaIEpUevXxBfysbetce3KOQIz/T3j8uyPqEI59y9ndbu04UWcMdvNkvtxBce0RNdFI8cZ4Sd8dC7VUIdgdh6daRQOVUa6kXKrOvXr2ShMtIgFEW1I9hIMkdgrpAsmA4C//DYrSwOIm7VoUbdUV0ggsDU8Lglha7LFmyECwZg1zCmrUjcdd4YMfVuBuOXXqoH1sR5NVag16zZg1Vq1YtVFYjwfX1+xyqgRzgMwSY4PoMep9XbFSxrFDtExo0Vn9tkL1GGndwEyaOR1uOLLGX3C3hZ07+Tt816k1PHj3VlddrWHuq/lVFXVibBj3oyIFfZVirLg2pSRvz3QF3LNCZ4Eqog8bB8+fdULtj/jDBDZppIztqVOX98sOCNL1eAxnvyGHcwU2irIV/72v74Ooor6txx29cpy9nTKEHCvHVyrgv6tA3hT+WQd7sl1cJLkgndl/dIc+fP1fJMsoynoXFohSkNIqyLe+q4P5WGL7CnbAoH0alrEhEJ7joI+7Axf2xZgIy2EjZzcX9t/aua3LXeMDgV758+vNg2C2HkSkrAlJ+8eJFmRT39aLdRnGV4HrqfTa2j/2+Q4AJru+w93XNE0bMpvlTbarBpcoVoR+n97fUrC1rd1OfDjabEJmypafFm6dYyhueRAf3HKUOjfvoiqhRrxL1HPKdDNu15SB1a2VTn06VNgUt3TqNokSNLNNoHe5YoDPB1SIaHG6eP+/G2R3zhwlucMwZbS/7b1pH43bvlEGVcuamhY2aSb8jx4pff6HmixbIJDmVM7EHOneXfk85dpw/S7VnTaP/01TQqMjHNKZWHRnizX55leBCHbl06dKyo646QFy0as7YmYNRICHYucNZWFfl2rVrajuvXr3qdBGBQHCh6j1+/Hjq2bMngeibCT4eDBo0SLVEbTQs5q7xwHVE2h1XGMB6+fKlWXNMw7JmzareTSwi3U1wPfU+i/by0/cIMMH1/Rj4qgULZqyg8UNnyupz5M1K89aMk35HjgXTl9P4YbNkkkLFPqTJIcOk35OORjXa05kTtmNAOfNlpbmr37Ubf9trlm5CN6/fkk0YM2sgFS/zkfQbHe5YoDPBNaIa+H6eP+/G2B3zhwlu4M8XYw8n7NlJfTeuk8H5U6ehnd91ln5HjvEKMe6nEGQhpTNnpdUtWguvR59lx4+iY8purpACSrt3aNrtzX55leDiblvjGUjsqFndkQNgIFbVq1dX7z4VAOLMKM6OCgHhgkVgV6z/4g5VnAnWnvFFuSgTV+LgTGiSJElk2biuRiuBQHBFf2ARGnfZ4kol7TlYEY9nr169aPBgveqDu8Zjz549hDtstQKCq7X0rI0zunFt1B9//CGDYcG7WbPQX8Bc3cH11PssG8wOnyPABNfnQ+CzBuBc66BuY2T9iZMmpE0/LZR+R45hvSfQqoUbZZLPqpWmwWM9/wUdFRpVQ5MmT0QbDoWobbly8TrVLt9CtguOGLGi6/xGz4tnoT8qijwJEyWguQrpjxPXXKumUPoKanFMcI2oBr6f58+7MXbH/GGCG/jzxdjDhUd/orbLFsvg5IoR37O9B0q/I0enVctozuGDMskX+QrQjPrfSL8nHUYV5JTKkcbTvQbIKr3ZL68SXOwGGq3Y4r5SozEgiYRFB+5tBfnUCnZh06RJow2y5MaZ4FWrbJcrY4HbuXNnwllb4326KDBRokS6u3cDieAKwKCejd3UYcOGEe7F1QqI/7Fjx3SqxO4aj+vXr4fC3Jmz1UbiCsJcqlQpbfNVtzGd1TO4nnqfQzWQA3yGABNcn0Hv84r37fyJOjfrr2vHjuPLKG78OLowM0+LOl3o1yOnZVTdpjWoU++W0u9Jx48DptDSuWtlFVpiDmNVTWp1lHHucCxYP1ExZpXJtCgmuKawBEUgzx9rw2xl/jDBtYZlIKXacuY01Z07Q9elSwOGqoaedIEmnsqTx9OhK5dkTOsSpWlI1RrS70lH97UradqBfbIKIzH3Zr+8SnDRY6NVXNxDi2t/wiMgYNjVgxErITgHWtpJdWiob2F3VnuX7dChQ6lHjx6i2FDPYCC42k6PHTtWJfxaw1pG1V93jQfqAPnUGiXDxwetOrq2bVo3zt5ClV0r9j4+uEpwUbYn3mdtm9ntWwSY4PoWf1/W/sf5K6qlYW0bwlLnRdqnj59RuQK1ld+j/8msVvLJxOF0tK7fXWdRudgnhWjs7Hdnbi+cvUT1K7cJZw367PPWjqccefR/a0UKJrgCieB78vyxNuZW5g8TXGtYBlKqs7f+omKjbXYc0LelTVpQ+ew5HXbzsaLlmKl/T3qrrJ+FWMkn0ob3WX3aJJ1FZbQX9QvxZr+8TnCLFy9OBw/ats6hMgrV0fAKLCZj11ZIgwYNaP78+cJr6Xn+/HnKnj27TIvF7ePHj0NZ8pUJFEewEVz0/ZtvvqEFC2wH2Fu1akWTJ0/WwkLuGA8UaDQUValSJdq40ab6p6tU42nfvr16jlgEwXo3LCoLwiLC8QwPwfXU+6xtH7t9h4B4X1jF0ndj4Kua8cGzbP7aOqvEFat/QgPHdHPYpPXLt9HA70fLNPETxlVUmxcpx1o+kGGecrx+9ZoqFqmvkmxRR+O2X1Hrzo1ULz4CT1SMZz1+ZN1Gxc7NB0irZpnrw2yUPlNqtbyEiRNQyw4NQl1DJOpmgiuQCL4nz593Y+6O+cMENzjnT6Z+PXVWiWsrlpSnhWFJedHRn6nNskUSsEQxY9G5PgMpkuaqHhnpZserf95QjkH96KHGknLnT8tR7wpVZE34u+Ctfnmd4OKqmQkTJsjORo4cWT3vmjr1ux9MGeGkA8aIoEYrBOXCSFSKFClEUKgnrpxZuHChajUY5zWN1n9RBs582rv/dfv27VS5cmX6R7knSoi9XULEWyVSVtOJOr39xK42zt4KadmyJU2dOlV41ac7xgMFGck0VKIxbo7U2rEDnz59et0VQd9++y1NmTJF10bhCQ/ennqfRdv46VsEmOD6Fn9f1969zRDauWm/bAYsDc9cPpqy584sw7SOF89fUu1yzen2rXsy+KsmNahzH3P1ZOxy/XnzbzVtluwZKHnKpDKfK45B3UYrd+Ju02UdPqU3fVqhuC7MGY87jOTwByJnEA+ctDx/3HOPNBPcwJkTzvSksXKX7RrlTlshUZUrUre06UD5UpnzpeeK7aHCPw6lPx89ElmoVYlSNLRqTenXOrCbeu3BAzUod8qUlCpefG200+7vlDPDC5Szw1qZ16AxVc2TTxtEnu6XqMzrBBdGnLArh2t+hBQsWJBgrMl4jlbE4wnWv2/fPoJhnxYtWhDIp1YOHTpExYoV0wZR3rx5VdJrPIsLQjpp0iRV9RjXCcHdunVrunPnDiVNql9grFy5kmrWDP1yzJo1i0CajNcHRWSCu2PHDtVgFK4BArEEmTQKsMM51sOHD8so7N5iF1cr7hgPlAcjUdhV1+KMMdq8eTN9+OGH2ipVN1STq1SporOejHPfKCdZsmSh0iMgPATXU++zaUM50OsIMMH1OuR+VeEvh05Sq/r6HdsEieLRrJVjKFWa5Lq2gtwO6DqKdik7nloJ2TCJsubMqA1S3cbzsFGjRaUNB+dTvARx1Xgc0cB52cRJEtDXLb6kvAXs3//96uUrmqtcaTRrvO3LPQpJmyEV4Yxf9BjR1DJd+YcJriuocR4gwPOHCS7PBNcR2H/pIlWdOlFXQGLlmsxt7TpSugSJdOEgt22WLqK1p2yEGAn2dfieQF6NcvTaVSo/0WZEMbrCqU716k8JlR1fCH5/EJ8sTlz6rvSn9FG69MYipP/lmzc0dvcO+mHHVhkGR6bEiWlvh64UI0pUXbgn+6WtyOsEF5UPGDCA+vfvr22HqgbcrVs3KlCggGohOZ5ieQuE88KFCwTitXr1aoKBIQiMGuXPn1+XH56KFSvSli1bdOEgQ7jXNWfOnKrlY5QH1WWtleS5c+dSw4YN1XwplRcBpEVIggQJaMyYMVSnTh31jC8MFa1YsYLmzJkjkuieEZngYkwwNhDskGJntnz58urdxXjZgTuuBsLOtVY8OR6oBx8fjLuvceLEofr161PhwoWZtR1vAAA//0lEQVRVAozd+qNHj9Ls2bPpwX9fpEQb+/TpQwMHDhTeUM/wEFwU5qn3OVRDOcDrCDDB9Trkfldh45od6PSv53XtguGmMhWLU75CuShOnFh06eJVWjZ3ne76HWTIXyQPTVv8gy6v8KxatImG9RovvOpzxc6ZKimF5/HDJ6qKtEgAslqyXFHKlDUdJUmaiCJHiUS3/rpDVy/doNVKWQ/u2b7aI0+kyJFozqqxdg1AiXLDejLBDQshjneEAM+fznTylzMSomGTelHZSiWk35FDqPjzDq4jlAI7rtyE0fTLddvxS/QWhpuq5s5LRdJloHjK8bvzt2/R9AP76Mr9+zowimfIROtbtdOFCc/cnw5Sx5W2e94RfvT7XgopTaImefDiOWVUVKSFgKxWypmHcio3ySSPG4+iKCrPNx8+pAt3btMcpay7yhFArURW4ne060R5UqbSBku3p/olK1AcPiG4sD6bK1cuSVi1DbLixu5hkSJFQiUF0cIuLq4IckawewwCC4ERpY4dQ1uZFLuZIHqOJCIT3CFDhlDv3r0ddS9UnKMz1O4YD1SIK4rw4UP74SFUQ+wE4JqhtWvXOjxHHV6C66n32U6XONiLCDDB9SLYflrVjWt/UcOq39HTJ/of8LCaCxKM3dOEic3VvlaGbKDhffRf5xesn6AQ0nfqz08ePaVPP/wyrGrsxnfq04LqNgmtfWQ3g50IJrh2gOFgSwjw/GGCa+lF4USmCFy5f4/KjP2RHr16aRpvLxAkGLuniWPFNk0y+/AB6rxquS5uT/sulPc/9eeHCsHNoCG4uoQWPEMVq82tSpS2m9JT/dJW6BOCiwbAeFOXLl1o5syZ2vaE6Y6rDBrUTWHcyUxOnDhBtWvXJqiqWpHmzZuru4Pac7bG86P2yoHBozx58tDw4cNlkohMcKECDkIYFokXnS1RooS6mxs1ql79QMTj6Y7xQDnYlcWOMnbPrQjuQMbOavfu3U1VrbVlhJfgoixPvc/adrLb+wgwwfU+5v5Y44mjp6lH26F0786780phtTGzcp522MSecjfWLL0Zwd16dAlBBVpInfIt6fJF/dd7EWfvmS5jamrXoymV/DT0R2B7eRyFM8F1hA7HWUGA5w/v4Fp5TziNOQI/XblMjUPm0N9PnpgnMITmSp6C5ihnX8VurCFa9ZoR3Av9BusIcdEfhym7w+9sRJiVYRaWWdkBHli5GlXImcssWhfmiX5pK3CJ4GrVeGGdFjtssWObfyXQVmbmhvpxv3791LO1T+wMHs7b4pwurofB+dDEyla5I3n69Kl6lQ3OaYJwGgWEBqq3UIkuWrSoMVoleFBj7tu3L924cUMXj51cqDtD7blDhw6qqnLTpk3VNFGiRKFbt24R1JrNxCpuVtOZ1RHeMKj5jh49mtavX687J60tF7vvwOaLL74wtUqsTQt3eMdDWx7GBWemYWhKe45bpMG7UrJkSfUssdkuv0infboTb0+8z9q2stu7CDDB9S7e/lwbVIanjwuh7Rv20sP7j02bCnJZ5YtyVLdxDYJBKkfyQ7/JtHz+Opkko6J6vGTLVOmH4/WrN7Rl7S7aum4P/abcYQsryWYCdeU06VLRF19Xpup1K7nVYnPn5v1p3w6b4ZBJIcPoo2Kh7R+YtUuoWLKRKTN0giuM58+78XZl/rCKcnDNFbPeQmV4xLYttOrEcbr33FybCOSyXsHC1LpkaYqibPI4ku/XrKAZB/fLJDmSJaeDnbtLPxyvFZs7y379hVb+epyOXLtCLzUGdbUJoa6cMVFialasBH3zUVGnLDa7u1/adrlEcGFoCKQWgp1UEEZ3CFRQz507p6ou415blA3DQDAy5GiX0FHd9xWd9JMnT6pnbrH7C6vKUHe10mZcqXD9+nV1NxhXEMFYFUgTytEKzgrD2jLaC4NG9sQqblbT2avHHeEw6oTdVxB8YIgPGRkyZFD/x13Brkp4xkNbJ4yO4dwtiC7em/jx46sGwmBYzDg+2nxmbk/h7Yn32az9HOY5BJjgeg7biFry27f/0h/nL9Pd2w+Uc68PVdsOUEdOmiKxwx1bbX/v331IVUs0pDev38jggWO/p4rVyki/0YF6L1+4Sndu31fP5yIvrC6nSZ+SkqVMEqamirE8q35o9GDnGvXHjRubYsaOYTUrMcG1DFXQJOT54/z8YYIbNNMjzI6+VXjJGcX6MXZz7zx7QpHf/4CSKZwEFpAd7dhqC7777CnlGTKAXr39RwZPr9uAvsxfUPqNDtSL3dxbTx7TA4Vgv1I4Qur4CdQ6UylncsUxTmM+q3539MtYl0sE11gI+xkBRoARCEQEmOAG4qj6vk/jh8+iBdNs558KfZyPJi+0HXXxfQvd0wImuO7BkUvRIxBs84cJrn782Rc+BPptXEfj9+yUhZTKlIXWtGwj/YHiYIIbKCPJ/WAEGAG3I8AE1+2QBn2BMB5VpVgDevnilYoFrvBZsnUapUilv6IuEIBighsIo+hffQjG+cME17/ewYjcGhiPyj2kPz1XrvaBxFSOVh7u0kPdjY3I/TJrOxNcM1Q4jBFgBBgBBQEmuPwauBuBqWPm6+6r7T6oLdX6uoq7q/GL8pjg+sUwBFQjgnH+MMENqFfYp50ZtnWT7r7aUTW/pCZFi/u0TZ6qnAmup5D1QLkw1jRu3DjCtTTuFJxfxdVIsDzMwggwAjYEmODasGBX+BF4/vQFVSnegJ49ea4WVrBoXlU1Wbxn4a/Bv0pggutf4xHRWxOs84cJbkR/c/2j/U9fvVJ2b/vRY+UJKQnV5Bat5Yd8/2il+1rBBNd9WHq8JFyR8+WXrt+L6KiBMMSFK49YGAFGwIaAIB5sBdaGCbtcR2DXloPUrdUgtYDYcWNRiHJPborUyVwv0M9zMsH18wGKYM0L1vnDBDeCvah+2tz1p07SN/Nnq62LHz0G7enYldIohqICVZjgRqCRnTt3rno9kSeafPr0afX6I0+UzWUyAhEVASa4EXXk/LPduPYHFpgVI/CEK4VixbFvdd8/e+Bcq5jgOocXp3aMQLDOHya4jt8LjrWGAK79Oa1YYFZ+fiiLchtKnGjuuQHHWu3eT8UE1/uYu1zjxYsXqU6dOuqVRC4XYpIRKsqbNm2iePHimcRyECMQvAgwwQ3eseeehx8BJrjhx5BLCF4ExPxhghu87wD33HUEmOC6jh3nZAQYgQBHgAlugA8wd8+jCIgFOqv4exRmLjxAERDzhwlugA4wd8ujCDDB9Si8XDgjwAhEZASY4Ebk0eO2+xoBsUBnguvrkeD6IyICYv4wwY2Io8dt9jUCTHB9PQJcPyPACPgtAkxw/XZouGERAAGxQGeCGwEGi5vodwiI+cME1++GhhsUARBgghsBBombyAgwAr5BgAmub3DnWgMDAbFAZ4IbGOPJvfAuAmL+MMH1Lu5cW2AgwAQ3MMaRe8EIMAIeQIAJrgdA5SKDBgGxQGeCGzRDzh11IwJi/jDBdSOoXFTQIMAEN2iGmjvKCDACziLABNdZxDg9I2BDQCzQmeDaMGEXI2AVATF/mOBaRYzTMQI2BEIRXCUKVySxMAKMACPACDACjAAjwAgwAowAI8AIMAIREoHTp0+r7X5P+ZcJboQcQm40I8AIMAKMACPACDACjAAjwAgwAowAEJAE9/8UYUgYAUaAEWAEiISKMv9Z5LeBEXAeATF/WEXZeew4ByPAKsr8DjACriMQSkWZCa7rYHJORoARCCwExAKdCW5gjSv3xjsIiPnDBNc7eHMtgYUAE9zAGk/ujXcRYILrXby5NkaAEYhACIgFOhPcCDRo3FS/QUDMHya4fjMk3JAIhAAT3Ag0WNxUv0OACa7fDQk3iBFgBPwFAbFAZ4LrLyPC7YhICIj5wwQ3Io0at9VfEGCC6y8jwe2IiAgwwY2Io8ZtZgQYAa8gIBboTHC9AjdXEmAIiPnDBDfABpa74xUEmOB6BWauJEARYIIboAPL3WIEGIHwIyAW6Exww48llxB8CIj5wwQ3+Maeexx+BJjghh9DLiF4EWCCG7xjzz1nBBiBMBAQC3QmuGEAxdGMgAkCYv4wwTUBh4MYgTAQYIIbBkAczQg4QIAJrgNwOIoRYASCGwGxQGeCG9zvAffeNQTE/GGC6xp+nCu4EWCCG9zjz70PHwJMcMOHH+dmBBiBAEZALNCZ4AbwIHPXPIaAmD9McD0GMRccwAgwwQ3gweWueRwBJrgeh5grYAQYgYiKgFigM8GNqCPI7fYlAmL+MMH15Shw3REVASa4EXXkuN3+gAATXH8YBW4DI8AI+CUCYoHOBNcvh4cb5ecIiPnDBNfPB4qb55cIMMH1y2HhRkUQBJjgRpCB4mYyAoyA9xEQC3QmuN7HnmuM+AiI+cMEN+KPJffA+wgwwfU+5lxj4CDABDdwxpJ7wggwAm5GQCzQmeC6GVguLigQEPOHCW5QDDd30s0IMMF1M6BcXFAh4BaCe/XqVfr111/p3Llz9Ndff1H8+PEpS5YsVLlyZUqQIEFQAcqdZQQYgcBBQCzQmeAGzphyT7yHgJg/THC9hznXFDgIMMENnLHknngfgXAR3Ldv39KQIUNo8ODBBLdRkiRJQjdu3KAoUaIYo9jPCDACjIDfIyAW6Exw/X6ouIF+iICYP0xw/XBwuEl+jwATXL8fIm6gHyMQLoL7zTff0IIFC+x274MPPlB3dEF0w5KffvqJdu7cSf/88w/Fjh2bUHbixInDysbxjAAjwAh4DAGxQGeC6zGII1zBDx8+pFWrVkmNpUePHqmaSsmTJ6f8+fNT1apVKWbMmB7v15MnT9Q2nD9/nn7//Xe6ePEi4T2NFy8eZc6cmQoWLEglS5akyJEjm7blf//7Hx08eJAePHhgGm8vEOWXKlXKXrQuXMwfJrg6WILa8+TxM9q95QBduXSD7t2+R0+fPKc4cWNToiQJKGuuTFSqbFGKHiOaxzF6/vQFXfnjOl1V2nHtyk26fuVPdf7EjhOT0qRPRdlzZ6b8H+WmSJEjWWrLxXOX6bJS3s1rf6llPbz/SOlXLEqbMQ2ly5ia8uTPTkmTO7emZYJrCfqgSvTo5Qtaf+okXbh9m249eUyPX72k+NFjUrI4cShvylRUMWcuihElqtswwe/Ez9eu0MPnL5wqM26M6FQsQya7eTxVrrZClwnuhQsXKHv27IRGaiVGjBj077//0uvXr9XgW7duUbJkybRJdO7Hjx/T999/TzNmzFD/uIjIefPmqSRX+PnJCDACjIC3ERALdCa43kbe/+oDoezUqROFhITI3zezVuI3EOn69etHkSJZWxyblWMv7Pnz5/TDDz/QyJEj6eXLl/aSqeH47cWH4xw5coRKB+2r3r17hwq3EoDjSNmyZQszqZg/THDDhCrgE4BQjh48lTav2UX/vAmt8ScAiBotKtVvVpOat/9amT8fiGC3PV++eEXzpi2jBdNW0JvXbxyWmzBxPJq8cARlyJzWbrozJ3+nCSNm0bHDv9lNg4jIUSLRFw0+p6Zt6lLc+HEcphWRTHAFEvx8+uoV9Vq3mpYeP0pvFI5lT6IrHzTblPyEupWrQJGUTcbwyqgd22jw1o0uFXOka0/KnCSpaV5PlautzGWC26pVK5o6daosC+duV65cSaVLl1Z3YXfs2EFnzpyhLl26kPiRk4n/c6xevZratm2r7vIa45jgGhFhPyPACHgbAfG3iwmut5H3r/qwQwqbEpcuXbLcsGLFitH27dspevTolvOElRC/se3bt6c///wzrKQyfsKECervrAz4z1G7dm1avny5MdiSf/fu3epvfViJxfxhghsWUoEdj13Sjk360s3rtyx3NE+BHDQ5ZBiB8LpLdio7x6P6T6G7t+9bLrJr/1ZUu2E10/TTxi6gmeMWmsbZC4wTLzYtWD+RUqQyX/hr8zHB1aIRvO6Ld+5QndlT6cp96+9t4bTpaU3L1hQtcviOiDZeMIfW/HbCJfDXf9uOimc038X1VLnahrpMcIsXL66qN4nC8DW4Z8+ewuvwiV1dEFuoedkTJrj2kOFwRoAR8BYCYoHOBNdbiPtfPdAy+uijjwhaS0bBcRoQ2DvKAsRMvv76a4fHeMzy2Avbtm0bVapUSdWQMqZJmjSpqin1SvnKD/L77NkzmWTs2LEqKZYB/znCQ3AvX75M6dOnNxYZyi/mDxPcUNAETcAzRQW5YfXvVLVdY6djxIyuENgo9PD+Y2OU6q9Y/RMaOKabaZyzgT/tO0btG/cJpXWIchIkikcJEydQd3Tv/H2PsMsrpFPfllS3cQ3hlc+jh05Q6/rdpV84sDubKm1yVXvj1s2/6c7foUkJyPv0pSMJx/gcCRNcR+gER9wTRQW5zLhRdOne3VAdjqWoIkdTdmzvPbf9vdcmqv1hQZpWr4E2yGl3eIjoiR59KW2ChKZ1eqpcbWUuE9x06dLRtWvXZFmwopwvXz7pt+eAKjJUknFuyZEwwXWEDscxAoyANxAQC3QmuN5A2z/raN26NU2ZMkXXuE8++YR+/PFH9cwtIp4+fUrjxo2jYcOG0YsX+rNKUBEuU6aMLr+zHpyvBck2/m62aNGCOnTooB4XEmXiiNDJkydp7dq1dOzYMerbt6+aV8SLp5HgDh06lOIo57jCklSpUlG1auY7Wsa8Yv4wwTUiEzz+4X0m0sqQDboOFyiahzr0bE7ZcmVWw58/e0FL5q6hOZOW0utX7463iQyTFw6nQh+HvbYU6c2eOF8Lkg2yrZUadSsp5LU6pc+cRgZj/uA87Z7th+n8qYvU/Lv6lDOfXh3/7T9vqWqJhrqdYOzMduzVgirV/JTef/99Wd6Rg7/SqAFT6fJF23oZkcMm9aKylUrIdGYOJrhmqARXWOdVy2j24YO6TpfImJkGValGeVOlVsOfvX5FU/fvpdG7ttNLxY6RVta2bEMlM2XRBjnlNhLRPhWqUJzoYWtVpIgTnyrlym23Lk+Vq63QJYKLxV7UqFFVVWRRGK4HgpENRzJ//nxq2LChLgn+EDRv3pzWrFlDt5VD00KY4Aok+MkIMAK+QkAs0Jng+moEfFsvdkRxjhW7uEJge+Lo0aOmhqTWrVsXivx99tlntGXLFpHdpScMRoGsamXUqFHqWV9tmDNuI8GF8SwYkHKniPnDBNedqEacsl6/ekOfffQV4fytkHSZUtP8tRNMDUnt3XGYujQfIJKqzyIlC9CEeUN0Yc56Gnzejs6fvqjL1qFXc+Wsby1dmFXPhbOXqH7lNrrkY2YNpOJlPtKFCc9fN28r6VvrCHbDVrWp7fdNRBLTJxNcU1iCJvC1QlazDOhNTxQCKySLYrR3d/supoakNp85TfXmzhBJ1WeZrNloZbNWujBnPEYienXgcIrrhmM3nipX2zeXCC6MXMSKFUtbDiEMxjUcCb4kDxo0SCYpUqQITZw4kQoUKEA5c+aks2fPyjgmuBIKdjACjICPEBALdCa4PhoAH1e7bNkyqlOnjmwFrCMfOXLE1GiTSNSoUSPC75cQvEP4eOvqrQD79+9XrSGL8vCcOXMmNW3aVBvktJsJrtOQcQYnEdi+cR/1bDtU5oqm7PzMWzveodGm/l1+pI0rd8g8cGz7ZSnFTxhXF2bV8+uRU9SiTldd8t7DO1C1OhV0Yc541i/fRgO/Hy2zpEqbglbvmS39Zo5B3UbTumXbZNTHpQvSuDmDpd/MwQTXDJXgCVt98ldqEjJXdjiGcp52V/vOlDVpMhlmdLRespAWHzsig99TXBf6D6FEMfWcTSYIw+EpIuqpcrXdcRvBhTXHaNEcm3aH+hbO6eKHfvjw4dS4cWNpgMrfCS4WuLjTF8ZGcK1CwoQJKUuWLJQmjU21RQusFTfKgyEu3CGMXQLsDLhyvYSqUqOosOEDAT485MqVi1KkSGGlCbo06CPGEQsyo2GUX375ha5cuaKeGUE78b9Vwe7HiRMn6O7du2o+WN8M6+yJ1bI5HSPgSQSY4HoSXf8vG4alNm3aJBvasmVLnXFFGaFx7Nu3L9Q1OjDm9MUXX2hSWXd+9dVXtHTpUpmhaNGidOjQIel31cEE11XkOJ9VBDo06UMHdx+VyWvUq0Q9h3wn/WaO4z+fopZf6QnpsMmKOm9Fx+q8ZmUhrGe7obR9wz4ZnVu5rmf2yjHS74pj8qi5NGfiEpkVZ2pnrbARXhmhcfzQbzItn79OhhQtVYDGz3W8M80EV8IVlI7as6bR9vO2jb9GRT6mMbVsH1zNQDl0+RJVnjJeFzW3QWOqlsc1NX9PEVFPlavtuGWCC2uQ+EHEtUAgVNix1QqIlfbcQcaMGen48ePaJPT3338TvkZDZct41sdfCS4MdvTo0UO1EG08W4XOZciQQVWx7tixo6q2reuwiWfXrl00cOBA9YyU8TxVlChRCGe7unbtSp9++qlJblsQ2jV48GBVbe306dOhrouAVWtgijGDQS+xULeVENqVKVMmaSW0QYMGBJVynOXCncS//aY3gY9ytYsuY2m4mxHXZAhirN0Bw4eQ3LlzU8WKFdVrKuzd02gsk/2MgLcREPNG+/56uw1cn28QgOGolClTqh8gRQuWLFmi29EV4don3hV8YMTvnRD8Powe7XgBLNJqn/iYio+fuB9eyKJFi6hu3brC6/KTCa7L0HFGCwg8uPeIKhWpp6wXbVdJDpnQg8pXcXyHMuZPxcJ16f5dm52Wuk1rUKfeLS3Uqk/y5NFTKl/oK/r37b8yYtC4blSh6ifS74pjxYL1NKLvJJkV52+3/LxIuQoosgwzOrq2HEB7th2WwfWUq5BwZteRMMF1hE5gx9199pRyDOpLbzVXsc6q35Bq5svvsOOYP9kG9aE7il0IIa1LlKYhVUMbShPxjp6eIqKeKlfbF8sEF+d9cOWPMwLDG0ZVZnv5/ZHgQj0Nu8xmxNbYD9x7CIzsCcro1q0bTZo0SXffr730zZo1o+nTp5sSUxgPgXrafYsmw8uWLUtz585VF2v26kM4dm1x5gwCot2/f3+qUqWKakBFDdT8g/ECsTYTqM/hKgsruMFwCohyunTpzIriMEbApwgwwfUp/D6tfM+ePerfQW0jQFphsTgsqVChAm3dulUmAyEFMXVW8GG5fPnyMhvI7vXr18kdHwWZ4EpY2eEBBI4dPknf1uumK3nLkcWKteL4ujAzT7uGvQhWj4V8VrUUDR7XQ3gtP3/ef5zafmO73QP32m44GEKRIofvfmqzXeam7erRt52+MW3b6V/PU5NaHXVrv5HT+1HpckVN04tAJrgCieB7Hrj0B30+dYKu4xf6DabEsWLrwsw8tWZOoV2/n5dRtRRSPFMhx66Ip4iop8rV9tEywQVpgTEoq4JdOlxVYFUV1d8I7h9//EEffvih7roF0Xf0CbvYWqlevTrhXl8zgQpyoUKFVDVds3h7YbhL2LiT+9133xHuNXRWsKMLa57okz3RElzs5kK1GGrFZoLz04cP275GijTY7V2wYIHwWnrCsAmMtqBOFkbAnxBggutPo+HdtuDDG9SDhWTOnNn0qiARr30a/06DpGoJrzatI/eIESOoe/fuMgnOA2MX2R3CBNcdKHIZ9hDYtmEv9Wo3TEanTpeSVu2eJf2OHCP7T6Zl82zqvIVL5KeJ84c6ymIaN2/qMpo4wnY2tlyVkjR0go3wmmayEPhW2RGuW+Fbwv2+QvBb0a57E2rQ4ksRpD5hwbltgx5060/bVWI58maleWvG6dKZeZjgmqESHGGrThynpgvnyc5mSJSIjnXrI/2OHN3WrKTpB21q+Z9kyUarmrtmaMpTRNRT5WpxsUxw7927R5MnT1ZVpbDLhysStIKrf6BiKwTnLOvXry+8YT79jeDWq1ePFi9eLNuNHcYxY8ao6tWwIH3z5k2CxUzsyEIdFwshbXqZUXHAkFa7du20QaraGSxKYwcThBnnZ+fMmUO4DkLIwoULCe0Qsn79eqpatarwqk/kRRoQTmCIr/s///yzSrZh2Vor2JWFirQ90RJcYxqoYoNs4w5jEOXChQvT7t27dck2btyo7vhqA3FWFzvBSI9zy9j1xVVRs2fbfnSQHn1Af1kYAX9CgAmuP42Gd9syfvx43f2xxYoVowMHDlhqhDFv/vz5Q1lBtlIQCC00iYTguAyu83nz5o16/APHgKBK/eTJE1VbCkc/cF0fyLj2yJDIr30aCS5UqLEzjI+3eO9Tp06tloMPj2HZ19CWq3WL+cNWlLWoBIcb1/7gehwhVs6pirTGvFlzZqKQDRNFtOVnj7ZDaMfG/TJ9o9Z1qE3XxvTPm3/orHIF0O+KZeUHyh28uKYoesxolClresqSPQOlSZ8yzPlzYNcR6ti0ryxbOEqVK0Kd+nxLKVInI1iFHtxtDD168EREU6w4MWnqoh8oa86MMsyegwmuPWQCP3zagb3Ufe0q2dHCadPTlrYdpN+Rw5g3b8pUtKeD/ly7o/zaOCMRHVK1OkV+X9nk+7//0XvKfynjxqOMiZNQhoSJKKry+2FVPFWutn7LBFebycyKshUjU9oyjG5/I7g4Q4zL7IXgLCmsPRsFi4ENGzYQ0sO4k1Fw9QIWG1p1YpB/XBuRNm1aXXKUNW3aNFUVHHhqd3ARlzdvXtUolcgE9W98zYchFKOAgGPX4Ny5c7qozZs3E9TnzMQewYVVUNwDKRY5WFxBzx9EXwjalydPHp0lbKg3Qy0vduzQKhUgubjDUQgWYzBEhQUaCyPgLwiIBTred5bgQqB37940ZMgQ2WnYDNAanJIRJg5YUcbfTSH4W3/16lXhtfzEB1BotwjBzjCOfmB3GUeA7AlUmfFbYvwgqk1vJLjaOK0bcwC/YSDX0NAJizgb88LPBFeLSnC4jYaYrFgNFshsWLGdBnQdJbyUPGUSWndgvvRbdTSs9h2d/e2CTF6nUTV69fKVanTqxfOXMtzogCpzj6HtqVRZxyrExrO4opwoUSNT+kxp6Pczl0SQ+gS5nbRgGOXIk0UXbs/DBNceMoEfPnjLBhq1c7vsaNls2Wl502+l35Fj8S8/U+uli2SS1IoG5289+0u/Mw4jEbWX9z0lIkOixNSpTDn6qkChMH8nPFWutn1McLVo/Od+/fq1JHMIwg88SF2kSM6f24B6GdTMhKAMEGd8HbcnsFa8bds2dYEkSCR2d5s00d+ZpiXAZmWBVOfIkUP9wi/ioaJsNP4l4swIbo0aNWjFihVhvqxGwho3blzVYBV2be0JdkS01kBbt26t7ojbS8/hjIC3EWCC623E/ac+HMnB0RwhzqgHw2oyCKQQfIx0REhFOuMTGjDQEHJVoCUEoit+R7TlWCW42jz4ADlu3LhQZ5O1abRuMX+Y4GpRCQ734O5jaO1S2zl0Z9SDd2zaTz3a2D4uRY8RjfadWeM0cF+Wba5TI3a2gMq1yipWn9sTCKs9gSr2iD4TCQatHAnu8+2hWJBOkSrsM/yiHCa4Aonge7ZfvoTmHzksO14j74c0++tG0u/IsUa5XqhxyFyZJKaiXXtzyEjpd8ZhlYhqy8yRLDkNr16LSmTMrA3WuT1VrrYSJrhaNDRuEDNYsBQCklerVi3htfzEri6uAhKCqyKw+HFWSpQooVOPw5le3McYlkB1fORI/YuNs9Fm1xEZCS5I+KlTpwhkNSz5/PPP1Z1skQ5qybCi7EiMi8By5cqpxN5RHo5jBLyJgFig8w6uN1H3j7pgVwEG/YTAsJ+W8IpwsyfsMdSsWVNGgeBCjVi8TzIiDAesOBuPmmizYDcVf59RNrRozATGD2EE0SjYkcV1fc4KfjvwkRTX5IUlor9McMNCKvDiu7ToT3u3/yQ7VrV2eeozIvR7KBNoHLu3HqTvvx0kQ0Bw955e7fT8qVi4Ht27Y1vHyQL/c+D9jBU7pqqijBtCzKRDr+ZUv5njtd+tP29T1eINzbLLMJRTp2E1pwxcMcGV8AWdo/7cmbTpzCnZ7waFitD42nWl35Fjw6mT1GD+bJkEBPfG4B+cnj8oYMCm9TR2t/5ealmwAwfu7N3bsStlUtSXzcRT5WrrYoKrRUPjxnlT7XlVfAHHeVuonVk1nAX1ZBBl7eIYhka0VjE1VTp0Jk+eXHftREhIiKUzzri3FyrRWsGVP2aqwEaCCzVqXOlkRVAH6hKyd+9eKlmypPCaPqGSrDV6hXO+ly7pVXpMM3IgI+AlBMQCXTuHvVQ1V+NjBEBQtYYDoUEza9YsS61auXKl7t5baO5AC0i8T5YKURLhOj3jzi8ILVSF0T7ciYvfJmgdXbhwQdUWMtoywG8QtIaMV/PBlgYMBcJ2BtKgXJBX/G6BVEOTCLYSYHPBKDiug7xhWXMW/WWCa0Qw8P1dvx1Ie7Yekh11huDu3HKAurcaLPN+8MH7dPjiRqfnT6lcNcioihwzdgyqXLMslfmsGOXOn0PdnX3z+h+6fuUmwSjVlrW7Zb1w4AqgdfvmEfKZydb1e2j80Bl05+/7ZtG6MBja6v9jZ8J5ZCvCBNcKSoGZpsG8WbTh9G+yc18XKkwTatts8sgIE8e6305QwwVzZEwk5UPoneGjnZ4/KOC1ckXdketXKcoHH1CCGDEpjmJAOEaUqPTo5Qv6W/mweu3BPQo58jPt/cN2FEBUnE85+7utXSeKrOQ1iqfK1dbDBFeLhsYNg1FaA08iCl+tcQ4KBrRg/deRGAkc0mLR8P/tXQecFEX2fnecoogkSYvAIaDILVlQSbJEBQkSFkQJgh4ZJSw5LhkOyUdOkkTCShYVlENABAWReKACoiCgRJFV+Yf6GqunuqanJ+zO7oT3fj/o6qrq6qqvt6frq3qhkHBY5Y9gx1W3Y8WuMNSPfRFcizakrFu3jho1aiRPzaNOcC9evEi5c9uvvpgXiQR2DjJlymRM4GQ+drvhudlJoEKtTiAxCcSky9cFBKe2uYwRSA0E5ASdCW5qoBlebegqyvjNx8KiL6Lv4MImFg76/BV8Y+DNXgq+SVhodfr2jBw5koYOHSovMY64BiYggQhsgGF/rPqRQDswS0E4OyeR7w8TXCeUIrNMV1F+rlF1GjnFGjbI08j1HVzYxG7dt9JTdY/5caWa0K2bv5rlzzaKo36J3ejBrJnNPD0xf/pymjNpqSW7b2JXim/TwJKHeQ+caK0WMXFVgVbFcy9UF46lrtOeHZ+rRUb6nnv/RsMmJtCzDeLcyvQMJrg6ItFzrqsox5ctT3Nfau0TAPoObm7BAf471LVg5FMjflY6cO47ip83i64I4qvK1GYtqM1TldQsv9IpaZcJrgPUiIGL+LF2AjKI3VyofnkKbwMvwzVq1DAvx8ceBE71Nm0WOiQOHTpkeMZUq/gTYxikXPXO7EllLVCCC9KO3dfUEDgwA1lmYQRCAQE5QWeCGwpPI237oPtPwKIgFgd9ETjXU6MIwAEffsf9lfz589MPP/xgXgbnUqptr1mgJOCECouoaoi3Hj16GFEAlGp+JeGcEM4M1fegY8eONHu2y0uuXYPy/WGCa4dOZOdNF+F5logdUSnwLjxx7nB56njELuqQHi7fJUUff4Tefm+W4zV2hfWefpkuX3TtrI6ZMZBqP++sWQYnVA2qtLF4Pn6xfWPqPaSjeQu8B32xQ/2By0YShaXLx9LAMa9T4Uf/btQ9uO8wTUycRSePfWteKxMT5w3z6sSKCa5EK/qOw7dsoKkfu7Rn6sWWpOWvOC8oSpTWHPyc/rnCtUgTK2xid/V2hZuT9VL7uO3EMWq+YA79n9LwK09XoslNWyg5/icDbZcJrgPW+BFDuIeBAwcanivtqoKsYsU8ISHBzRETJkNw0iQFO6mwlfJXEI5I3XGFN2N4WfZVihUrZonfmNoEF+rIcXFxvnbHYz0QcVXN2WNFLmAE0ggBOUFXJ/ZpdGu+TTojgFB4ffq4QivAozFCsPki8HsA/wdSatWqRR9+6PKIKfO9HfXfbjgbxMKqN9HjkftDzj21jVB06vgR+m3vXpeNpd118v1hgmuHTmTnLZ23Rqjuupy0+Rr7Fagsnbuapo11mQNUqFyWZi4b6zdgTWu8KlSPXQtEQyf0ogbxdby2M6zXBNry7kdmPZ2cr1v5Ho0eMNUsR6Jxy3rUN7GLm40t1J+njZtP7yxeb6mfK89DtHrbPHogs+cFfSa4Fsii6mT6ju00dPMGc8zlChSk7a/3Ns+dEtMEMR4mCLKUuEeL0bsdAtPgkW34eqw17U36QuzmSnlC9Hubj/2W19gdA2mXCa4dkloeYgAjli28Uf74449a6d3TQYMG0ahRVhUA2PDCllcKVFdgK+WvN+YdO3a4ea30JywTQjx8/fXXshseVcsC3cFFbFvdphc723Cs4qtgoQBOXRAuioURCBUE5ASdCW6oPJG064fuuR4OnxB+zRfp3LmzZXcz0DjfsHVVvd4jbBEWXL2J7lwQ3yF43U+J6CrbcEKIuOtOIt8fJrhOKEVm2YZV79NIEQNWCgjdlr3L5anjcezg6ZS0fLNZB6rFo6b4vwPVqn43EarHNffpnNCW2nf17qhn6tj5tGzuGvP+FSqVoZnLxxnnt39NpucrtaKb111mX5WrV6ApC0ea9e0S2MnVSS68Kjd5qZ5ddSOPCa5HaCK+YPn+vdRt1dvmOGOEj4Rjg0eY506JXkmraNGnu80qzco8QfNebmOeBzOhq1Y/LMxsjgxKTPEtA2mXCa4fsN+5c4ewmzp27FhCXFxVQF6/+OILiyoxHHsgPq4qZ8+epYIFC6pZXtOYROgxc/2x5dWJKwhztWrV3O6r1/PVBhcqcbpXZsTf1Z1bud2QMxiBEEdATtCZ4Ib4gwpC9zZu3OgWRxaLnXDI5E3w+7pz506zWs+ePWnSpEnmua8J3dGVr56cu3btSjNnzjRvkxoE94033jA0mmSjvhB++f4wwZWoRc9x5/a91Pu14ZYBbzuwirJmz2LJszvp0CKBDu47Yha1fLUx9RrsUhE2C7wkAnV0NX7oDFqzdJPZukpwv/riGL3arJdZhsT6T97yGv4HO7lNqrejixd+Mq9t8vLzNGBUd/NcTzDB1RGJnvOtR49Qy8XzLAP+JnGM4ejJkmlz8vzMabTn9DdmSZeqcTS6oUub1CwIQqL/+rU0Z5fr2+cPMXfqTiDtMsF1QtShbMqUKdS7d29SXcvrqr8gxFAnVsM3wC43Li7OoWX3ItwD5BNeOKUkJSVZ1J9lvn6E7a0ezgG7EJic6BIowUU7updnxPFF2B8WRiCcEZATdCa44fwUA+s7QqTBdlaVTZs2Gbaoap6evnbtGuXKlYvw+y/Fl+tkXfWIUGsjRrhW7bHQicVN+Xep1lXTeoxbEF5oIaVEoGatelSGTS7G5SSyn0xwnVCKzLKvT5ymlnU7WwY3ecEIqlLjSUuefoKd0dpPNBfzpv81i3y5zqysJGZPXkILpq0wc2Iezm2QUfl3aRZoif4iBu92EYtXSnzrBtR3RFfjFDvL2GGWkjN3DnrvM9c9ZL7dUQ+dVP25yjRh1hC7qkYeE1yP0ER8wbEL56nyJJcdOgb8TvsOVKe4s5bjdWG+WHT4QLqjhL3y5brUAvSFOf+2eFRGf3H/lEog7TLBTQHqup0T1NLUVXM0DWcf2LWV0rp1a1qyZIk89fmoO4qqV68ebd7sUuHx1JC+6g4HTvCobPcDnxKCW6VKFdq926USAe+a8LLJwgiEMwLyPWGCG85PMbC+45mDqKreg1u1akVLly51bBCOCeGgUAo80cNRlL+mKbge8dfj4+NlU8Zxz549RnggS6Zygt/3Rx55hLDbLAXkFiQ3UIFJDBxeqbHh7cxy9Pbl+8MEV0cm8s/x/tQq15xuXLtpDrau8C48YrKzJ+WNqz+gEX1d2g7ZH8oqVJtXiPcng9mOr4lt731CA7qMtlRfsGaSY5gehBVqWLUtXb/q8pfSR9jWNm/T0GgHoYRmCAdaUrAjjZ1pX6RPx0SLY6r6zWrRsH8leLyUCa5HaCK+AO9P0WEDLV6JmwtPynO8eFJesf8z6rrKteCS84HMdHzICPpbBv/fH39BTv7jd/rHyGF0VfGk3LtmbRr8XH1/m7LUD7RdJrgWGP07GTNmDOEjL8XOqySce0CtWQriBp45c4by5csns9yOCAGEWIaYJMF+FqKTaahEo56TGjAmOJjoqCGCOnXqRLNm2XsjTAnBReik6dNdq5oYJ2Lawk6LhREIVwTkBJ0Jbrg+wZT1W98JhUbOrl27CLaxdoLfWoRvO3funFns5MEYu8TYkYWUKVPGzXwFPh/wG6ruBnvbjR0/fjzBA7QqcAYFp1CBChYs9RjAIN8IB+ck8v1hguuEUuSW6Tuh92a8h+avnkTFS96d1+gjB7lsXvufFjVe3YOxeg12iX/4/q5flMeKF6aYh/OoxfTTpStUX9jLqrvB6m6spfKfJzqBRfaipClUouzjRg2E/nmj3eA/a989rNgykx4V93eS35J/p2Y1X6Ufz182q/UZ3pmat3UP2SgrMMGVSETnsZ2IZbtOxLSVklGE0tzatQeVyW8/r74lfPw8NXEM/SC0iKR0rlqNxjRsIk8tR+wSn71yxcgrKbQ682fLbin39+R1YTO8VNgOq/JW63bUsFQZNcvvdKDtMsG1gRrOOOAwCt4qQSxBJnX5QwQ/hp0Vgt1Lwe4tdnFVwWp75cqV1SwqXbq0QXp1W1y0iXiFAwYMMMIJqbEL4SSqePHilolOnjx5COEbypYta2kfJ1BNrl+/vsV7Muxk0Q5iMtpJSgju+fPnDVVohPmRUr58eVq5cqWbHbIsxxHEAbZqcFTVoUMHAjFmYQRCBQE5QWeCGypPJG37oYd6w93xu4vfdT00GsgtFiVB/FQ5ePCgxTeDLAPprFixojw1wqNB2ydnzpxmHhK6HS6+R1ikxO+lLojf3r59e+P7Ict0VWKYvFSqVMkwK4GXaKQ9CfwrgDCratKoC+/O8Dmh+17Q25HvDxNcHZnoOP98zyHq/LJ1xzZHzmy0YO1kyl8wxgICyG1inzfpo/d2WfKXbfo3FYstYsnDyeEDx6l9055mfsb7MtKm3UsoW46sZh4Suh0u/ib7C7tXO+dOWzd8TCPF7jHsZaXoDqSws4udaVUKFS1Ai9ZOocxZHlCzzTS+HyP7TaKNqz8085DwtpvMBNcCV9SdfPLNKWo422pakks4b/2ge08qlMP6nQC57frOClp/2EWIAdjOHn0J5FWX/WfPUJ0ZLidw94u59+FBw+khseMLwXcC5XmzZKXX42rSk4Ue0Zswz28L88kpH2+jCdveN/OQKCo0oP7Tow9lujejmR+sds0bKIk0Jbj4WIIEgsjpAsdNiO0qBeRM//BC1QtONoItw4cPp8TEROM22CHFzmydOnWMCQ0eDj7sCA2kh31Afrly5dy6V7duXdq6daslH5MkTIbgNRiqaydPnjRUl7HrKWXx4sXUtm1beUpdunRx233NkiWLEW8Rq/MgwNgd3r9/Py1cuNCiToZGhgwZ4jZRMRsXiZQQXLQDzICdKgiN1K9fP2PHA2PNJjyqXbp0yRgvFhLeffddcwfDE35qe5xmBNISATlBZ4KblqiH1r1AQvVwOPBhgN1LmGZkz57d0KaBBov6+41RxMXFEUiyncydO9f4tqhlCJOm+0zAdwbfH13wXapevbrxXTpx4oThJVk3f8GCIXaJQUilQOVaJdEog6YRPOFjXPBoD8eGaBORA+BsUBWUAw+7hVW1HtLy/WGCqyMTPeftmvSgIwdPWAYMj8o16lahMhVKUJYsmembU2do1eIN9P13Fyz1yj1diua8PcGSJ0+SVmyhsYOmyVPjuGb7fPp74fyWvM8+OUDd2rh7Hm8svBeXr1iaHi6Ql858c4727T5IW5K2W67NINSiV26dTYWKWHfM4GQKzqZUyZLtQWrZ/gWqVK0C5YnJRffdn1HsRF+m44dPiXjAq+nbUy5TNVyHsc9aMd5R9ZoJropwdKZrT59En39n/duB46aGJUvT04UKUzZhdnji4gWau2snnRa/7apUKVyUNna2d2K2eO9u6rnWqlq/v+8gQUpzG01c+fUWFREq0lJAVuvFlqLYmBiKyZqN7hUqz99fvUonL12kRaKty2KBV5V7RPm27r2o1MPW9zFY7ar3luk0JbgIUv/iiy/Kewd0hOoXbIGCKQjFMHjwYL9u4WRzCuKGXVyECPJHsPvZokUL8xKoq0E1Drul/gomQuvXrycQTk+SUoKLBYwSJUqYhNXTfTzlYzccsRZZGIFQQUBO0JnghsoTSft+gLRWqFCBroqPuT8Csojffixm2sns2bPdNH48LfLpJiB27el5+NuFJpIeVgh2tL54gtbbk+eTJ08mqF37IvL9YYLrC1qRWefc2fPUtuHrdPOGdQLsbbQgwUs3zqCHctmrTa5dtonGDbHubi3dOJ0eL+Gu/vyv4TNp1VsuUzFv95blnsIKXb74M7Vp2N1QgZZ1/TliTNiZhoMqJ2GC64ROdJSd/vknqjFlIl1Lvu3XgEGCsXuaK7P9nH/hp7uod9JqS5s73kig0n+qP18VBLewQnAtFX04GSO8NneuGudWM1jtut1IZKQpwbVbsbbrlKc8fCzhAdjJftXTtf7kQ2UWhBC7tb5I1apVjd3cjBld2/D6dV9++SXBnguqw74IYg5CDS2DWAVRBZMTrNzranBqHTWN3WHsrMImy07VWq2bUoKLtq5fv04JCQk0f/58tWmv6aziZYT6tLqz4PUirsAIBBkBOUFnghtkoEO8edjdYrHR18VFmKGsWrXKbTdWHaYdwfUUmg2e+Js1a0br1q1Tm/CYhhkKNICeffZZ2zpYiIQPB38E2kwTJkygBg0a+HyZfH+Y4PoMWURW/HL/ERrQbYzPhBD2rGNnDHTbjVXBsSO47+9fSVCB1gXvT/8uoywOnvQ66vlDubIZzp8qViuvZlvSx746SbAxvvC9VcPBUsnmJCZ/HhozbYBp02tTxcxigmtCEdWJvae/pXbLFtGPN274hEOJmHy0SNi+yt1Yu4vsCO7JYaMshLjixLFid/iujbtdG3Z5j4od4BHPN6LnYkvYFRt5wWpXv2FABBfhaqAuDDIDATmBQyNvXiKhOoudTDsVZb1jdufwaAkVXHgCDragr4hbiFiIql2pel9MEoYOHWpMPOSHXC3X01DBRmgh2M2CqOsCgglVNKj0qrZZej2cQxUNNrqYpNj1D6ppzzzzjLGC7+uuKHYc5AQOGGPH2GnH165fMg/qxwhxAdvaGx5eSvQRdrqNGzemV4S9M54vCyMQSgjI95oJbig9lfTpC1R7sVgITSSYWdgJSCB+y7DD6bTgiWu7d+9uCd0DFeGvvvrKrlkzb8uWLYZjQyyY6oLvL9SN8Y2FFpLTYmFycrLhyBA2u9CcgfaNnWAMcHQI8xgsunr7xuttyPeHCa6OTPSdw3Z17tRl9OGm/9DVn+/OHXUUoApcv1ltatmuMcEhlZNMGDaTVi9x7coWKVbIUCd2umbXx/to1sTFdPLYt27VMmT4qyDUBah0+VjqktDWzZbX7QKRAeL84eadtGzuGvrvUZd5mV4XmwuPlyhKL73WhGrWreqolqxeywRXRSO601DtHf/BVkr68gD9dMteGwLk8qXyT1GXZ+LoXvE9cJK+69bQvN2fmFX+kTeGdvfub54j8ZswJ1118HNae/AA7Tt7mm7bmJeiHtSVi+TMRa9Vrkptnqzo1WNzsNpFX1QJiOCiAXwg8ZHHBwxk19vHXL1pOKXhvRKTCahGY4ID4gfnIviHcQcqaOvQoUOGzRYWCLArDfVjkFx/BBNvkH4QXZBT2INBJQ47CGjXH8HCA0gtBJMjf/vi6V7o1/Hjxw3VZXghRdvYYYDNcKT+3XjCgvPDCwE5QWeCG17PLZi9xTcBRBS/a9hxxUIdfr/hNFC3n/XUD1wHD/cIvyNl2bJlhj8Fee50xPcDGi9Qn8bvNhZb8S+Q31OMB98PhDJCu/i2I94uxoIxedP8ceqnfH+Y4DqhFF1ld+78D3194lu6fPEKXfnpqrFoAnXkPPlyOe7Yqij9fPmqEcrn999+N7NHTOlLdRvVMM+dEiDb586cN2x+7/xxh0COizxWyCupdmoz+Xay4SH5ovCSDNtb2O/G5MtNeUXs3dzCJjeQMEdMcJ0Qj86yO2JR5ajwfozd3Eu/3KB7/pqB8oq5PjwgO+3Yqmhd/uUmlRqdSMl3XP6Q5rZsTfHlPGss4L7Yzb1w4zpdEQQ7WXw3CmTPYdwzv7DJDfQ7Eax2Md6ACa4KFqcZAUaAEYhEBOQEnQluJD7d9BsTtHSg7iulZs2ahpMoeR4pR/n+MMGNlCcaGuOYNm4BLZ3jsh+sUKkMzVw+LjQ6l4q9YIKbimByUyYCwzZvoGk7XA7VqhV9jNZ17GqWR0qCCW6kPEkeByPACKQ6AnKCzgQ31aGN2gbhRwE7pDI+eWYR9gGmHMiLNJHvDxPcSHuy6TeeG9duUv3Kren2r8lGJ+7PdB+tfH8O5RO2rZEmTHAj7Ymm/3jg5Knk6OF0S5iaQh4QXvE/TRhg7Mamf+9StwdMcFMXT26NEWAEIggBOUFnghtBDzWdhwLfBGpcWTgT7NSpUzr3Kji3l+8PE9zg4BuNrc6evIQWTFthDr3/yG7UtFV98zySEkxwI+lphsZYxr6/xRKv9s0m8dS+YpXQ6Fwq9yIsCS6cNU2dOtWjY4xAMYL9as+ePf12pBHo/fg6RoARCG0E5ASdCW5oP6dw6R0c7mGn9tq1a0aXa9SoYagmy7+zcBmHr/2U42KC6ytiXM8JgVs3f6X6VVrTLzduGdUQxxaqyfLvzOnacCxjghuOTy10+3xT+FcoOXoYXRdHyDNQTe7QJWLfn7AkuAiREx8fH5S/Ijh+KlWqVFDa5kYZAUYgvBCQEycmuOH13EK1t0lJSdS0aVOjezly5DDi5BYqVChUu5vifsn3hwluiqHkBgQCH23dTf06jzSweDBrZlom4uTmK5A3YrFhghuxjzZdBrbx8CFqs2Shce/s92eiHT37UEHhKCpSJSwJLuL7tWvXLijPBLZQsbGxQWmbG2UEGIHwQkBO0JnghtdzC9XewkMxPDDj7wkhhfz1dB+q4/LUL/n+MMH1hBDn+4PAb8m/Gx6YxetDCCmUOcsD/lwednWZ4IbdIwvpDiM8zxHhgVm8PvSYiAKT5T7/oraE9OBsOheWBPfUqVPUokULS4gFm7H5nQUVZcQZzJbNPVC4343xBYwAIxD2CMgJOhPcsH+UPIB0QEC+P0xw0wF8vmXYI8AEN+wfIQ8gHREIS4KbjnjxrRkBRiCKEJATdCa4UfTQeaiphoB8f5jgphqk3FAUIcAEN4oeNg811RFggpvqkHKDjAAjECkIyAk6E9xIeaI8jrREQL4/THDTEnW+V6QgwAQ3Up4kjyM9EGCCmx6o8z0ZAUYgLBCQE3QmuGHxuLiTIYaAfH+Y4IbYg+HuhAUCTHDD4jFxJ0MUASa4IfpguFuMACOQ/gjICToT3PR/FtyD8ENAvj9McMPv2XGP0x8BJrjp/wy4B+GLABPc8H123HNGgBEIMgJygs4EN8hAc/MRiYB8f5jgRuTj5UEFGQEmuEEGmJuPaASY4Eb04+XBMQKMQEoQkBN0JrgpQZGvjVYE5PvDBDda/wJ43ClBgAluStDja6MdATeCKwBBiCQWRoARYAQYAUaAEWAEGAFGgBFgBBgBRiAsEThy5IjR77+I/5nghuUj5E4zAowAI8AIMAKMACPACDACjAAjwAgAAZPgClU8Jrj8N8EIMAKMgEDg6NGjBg6xsbGMByPACPiJAL8/fgLG1RkBBQF+fxQwOMkI+ImA/v78hQmunwhydUaAEYhYBPQfyIgdKA+MEQgCAvz+BAFUbjJqEOD3J2oeNQ80CAjo78//A2+k/my4KdIYAAAAAElFTkSuQmCC)"
      ],
      "metadata": {
        "id": "sEQzTyUmEebO"
      },
      "id": "sEQzTyUmEebO"
    },
    {
      "cell_type": "markdown",
      "source": [
        "Чем ближе к 1 тем лучше, чем ближе к 0 тем хуже"
      ],
      "metadata": {
        "id": "DvsZXqJOMeSJ"
      },
      "id": "DvsZXqJOMeSJ"
    },
    {
      "cell_type": "markdown",
      "source": [
        "\n",
        "\n",
        "*   **accuracy_score** - доля объектов, для которых мы правильно предсказали класс\n",
        "*   **precision_score** - доля правильно предсказанных положительных объектов среди всех объектов, предсказанных положительным классом\n",
        "*   **recall_score** - доля правильно найденных положительных объектов среди всех объектов положительного класса\n",
        "*   **f1_score** - среднее гармоническое precision и recall\n",
        "\n",
        "\n"
      ],
      "metadata": {
        "id": "xowfZPv3Miw3"
      },
      "id": "xowfZPv3Miw3"
    },
    {
      "cell_type": "markdown",
      "source": [
        "# Кривые\n"
      ],
      "metadata": {
        "id": "gcadSti9x0OI"
      },
      "id": "gcadSti9x0OI"
    },
    {
      "cell_type": "markdown",
      "source": [
        "## Roc curve"
      ],
      "metadata": {
        "id": "Jt1swYIaW-p7"
      },
      "id": "Jt1swYIaW-p7"
    },
    {
      "cell_type": "markdown",
      "source": [
        "* **TPR (true positive rate)** – доля положительных объектов, правильно предсказанных положительными.\n",
        "* **FPR (false positive rate)** – это доля отрицательных объектов, неправильно предсказанных положительными."
      ],
      "metadata": {
        "id": "SyK6tFwwPh7t"
      },
      "id": "SyK6tFwwPh7t"
    },
    {
      "cell_type": "markdown",
      "source": [
        "* **ROC-кривая** - кривая в осях TPR/FPR, которая получается при варьировании порога отсечения.\n",
        "* **AUC (area under curve)** - площадь под ROC-кривой. Чем больше тем лучше классификатор разделяет два класса."
      ],
      "metadata": {
        "id": "RzcE0QiEP_96"
      },
      "id": "RzcE0QiEP_96"
    },
    {
      "cell_type": "code",
      "source": [
        "from sklearn.metrics import roc_curve, auc\n",
        "\n",
        "lp = logreg.predict_proba(X_test)\n",
        "fprL, tprL, thresholdsL = roc_curve(logreg_labels, lp[:,1])\n",
        "roc_aucL = auc(fprL, tprL)\n",
        "\n",
        "svmp = SVMmodel.decision_function(X_test)\n",
        "fprS, tprS, thresholdsS = roc_curve(SVMlabels, svmp)\n",
        "roc_aucS = auc(fprS, tprS)\n",
        "\n",
        "dtp = DTmodel.predict_proba(X_test)\n",
        "fprD, tprD, thresholdsD = roc_curve(DTlabels, dtp[:,1])\n",
        "roc_aucD = auc(fprD, tprD)\n",
        "\n",
        "plt.figure()\n",
        "lw = 2\n",
        "\n",
        "plt.plot(\n",
        "    fprL,\n",
        "    tprL,\n",
        "    color=\"darkorange\",\n",
        "    lw=lw,\n",
        "    label=\"ROC curve (area = %0.2f)\" % roc_aucL,\n",
        ")\n",
        "\n",
        "plt.plot(\n",
        "    fprS,\n",
        "    tprS,\n",
        "    color=\"darkred\",\n",
        "    lw=lw,\n",
        "    label=\"ROC curve (area = %0.2f)\" % roc_aucS,\n",
        ")\n",
        "\n",
        "plt.plot(\n",
        "    fprD,\n",
        "    tprD,\n",
        "    color=\"darkblue\",\n",
        "    lw=lw,\n",
        "    label=\"ROC curve (area = %0.2f)\" % roc_aucD,\n",
        ")\n",
        "\n",
        "plt.xlabel(\"False Positive Rate\")\n",
        "plt.ylabel(\"True Positive Rate\")\n",
        "plt.legend(loc=\"lower right\")\n",
        "plt.show()"
      ],
      "metadata": {
        "colab": {
          "base_uri": "https://localhost:8080/",
          "height": 278
        },
        "id": "8tWUa1MfXaOi",
        "outputId": "a3ae259f-9e4a-4917-b854-4e91c67922cb"
      },
      "id": "8tWUa1MfXaOi",
      "execution_count": null,
      "outputs": [
        {
          "output_type": "display_data",
          "data": {
            "text/plain": [
              "<Figure size 432x288 with 1 Axes>"
            ],
            "image/png": "[encoded data removed]"
          },
          "metadata": {
            "needs_background": "light"
          }
        }
      ]
    },
    {
      "cell_type": "markdown",
      "source": [
        "\n",
        "\n",
        "* Оранжевый - logreg\n",
        "* Красный - SVM\n",
        "* Синий - дерево\n",
        "\n"
      ],
      "metadata": {
        "id": "8ItO-OD_atGv"
      },
      "id": "8ItO-OD_atGv"
    },
    {
      "cell_type": "markdown",
      "source": [
        "Чем больше кривая охватывает верхний левый угол графика, тем лучше модель классифицирует данные по категориям."
      ],
      "metadata": {
        "id": "msWed8CCSEbW"
      },
      "id": "msWed8CCSEbW"
    },
    {
      "cell_type": "markdown",
      "source": [
        "## PR curve"
      ],
      "metadata": {
        "id": "GJ6WezR7XCUA"
      },
      "id": "GJ6WezR7XCUA"
    },
    {
      "cell_type": "markdown",
      "source": [
        "* **AP (Average Precision)** - показатель эфффективности, среднее значение точности. Равно площади под кривой точность-полнота. Чем ближе к 1, тем лучше."
      ],
      "metadata": {
        "id": "pXwxsAxfcAGO"
      },
      "id": "pXwxsAxfcAGO"
    },
    {
      "cell_type": "code",
      "source": [
        "from sklearn.metrics import plot_precision_recall_curve\n",
        "ax = plt.subplot()\n",
        "plot_precision_recall_curve(logreg, X_test, y_test, name=\"logreg\",ax=ax)\n",
        "plot_precision_recall_curve(SVMmodel, X_test, y_test, name=\"SVM\",ax=ax)\n",
        "plot_precision_recall_curve(DTmodel, X_test, y_test, name=\"DT\",ax=ax)\n"
      ],
      "metadata": {
        "colab": {
          "base_uri": "https://localhost:8080/",
          "height": 414
        },
        "id": "h9QwTWZobS49",
        "outputId": "653466c9-1b44-49ab-a5f7-a199b323a099"
      },
      "id": "h9QwTWZobS49",
      "execution_count": null,
      "outputs": [
        {
          "output_type": "stream",
          "name": "stderr",
          "text": [
            "/usr/local/lib/python3.8/dist-packages/sklearn/utils/deprecation.py:87: FutureWarning: Function plot_precision_recall_curve is deprecated; Function `plot_precision_recall_curve` is deprecated in 1.0 and will be removed in 1.2. Use one of the class methods: PrecisionRecallDisplay.from_predictions or PrecisionRecallDisplay.from_estimator.\n",
            "  warnings.warn(msg, category=FutureWarning)\n",
            "/usr/local/lib/python3.8/dist-packages/sklearn/utils/deprecation.py:87: FutureWarning: Function plot_precision_recall_curve is deprecated; Function `plot_precision_recall_curve` is deprecated in 1.0 and will be removed in 1.2. Use one of the class methods: PrecisionRecallDisplay.from_predictions or PrecisionRecallDisplay.from_estimator.\n",
            "  warnings.warn(msg, category=FutureWarning)\n",
            "/usr/local/lib/python3.8/dist-packages/sklearn/utils/deprecation.py:87: FutureWarning: Function plot_precision_recall_curve is deprecated; Function `plot_precision_recall_curve` is deprecated in 1.0 and will be removed in 1.2. Use one of the class methods: PrecisionRecallDisplay.from_predictions or PrecisionRecallDisplay.from_estimator.\n",
            "  warnings.warn(msg, category=FutureWarning)\n"
          ]
        },
        {
          "output_type": "execute_result",
          "data": {
            "text/plain": [
              "<sklearn.metrics._plot.precision_recall_curve.PrecisionRecallDisplay at 0x7fc858deaf40>"
            ]
          },
          "metadata": {},
          "execution_count": 34
        },
        {
          "output_type": "display_data",
          "data": {
            "text/plain": [
              "<Figure size 432x288 with 1 Axes>"
            ],
            "image/png": "[encoded data removed]"
          },
          "metadata": {
            "needs_background": "light"
          }
        }
      ]
    },
    {
      "cell_type": "markdown",
      "source": [
        "Выборка несбалансирована поэтому меньше 0,5"
      ],
      "metadata": {
        "id": "pvZ2qavfdpiV"
      },
      "id": "pvZ2qavfdpiV"
    }
  ],
  "metadata": {
    "kernelspec": {
      "display_name": "Python 3 (ipykernel)",
      "language": "python",
      "name": "python3"
    },
    "language_info": {
      "codemirror_mode": {
        "name": "ipython",
        "version": 3
      },
      "file_extension": ".py",
      "mimetype": "text/x-python",
      "name": "python",
      "nbconvert_exporter": "python",
      "pygments_lexer": "ipython3",
      "version": "3.10.6"
    },
    "colab": {
      "provenance": []
    }
  },
  "nbformat": 4,
  "nbformat_minor": 5
}