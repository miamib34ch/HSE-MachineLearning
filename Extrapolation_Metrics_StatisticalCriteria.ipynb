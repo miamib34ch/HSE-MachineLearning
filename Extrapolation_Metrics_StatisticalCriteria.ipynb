{
  "nbformat": 4,
  "nbformat_minor": 0,
  "metadata": {
    "colab": {
      "provenance": [],
      "collapsed_sections": []
    },
    "kernelspec": {
      "name": "python3",
      "display_name": "Python 3"
    },
    "language_info": {
      "name": "python"
    }
  },
  "cells": [
    {
      "cell_type": "code",
      "execution_count": null,
      "metadata": {
        "id": "TwBxbfWCg6a-"
      },
      "outputs": [],
      "source": [
        "import numpy as np #инструмент для работы с многомерными массивами с возможностью векторизации вычислений\n",
        "import pandas as pd #удобные методы реляционного взаимодействия с данными, аналогичные, например, возможностям SQL для слияния и конкатенации таблиц\n",
        "import matplotlib.pyplot as plt #графики"
      ]
    },
    {
      "cell_type": "code",
      "source": [
        "df2 = pd.read_csv(\"/content/DataSet1_3.csv\", sep=\",\")\n",
        "df2['Date'] = pd.to_datetime(df2['Date'])\n",
        "df2"
      ],
      "metadata": {
        "colab": {
          "base_uri": "https://localhost:8080/",
          "height": 411
        },
        "id": "3MN5PNDJkts4",
        "outputId": "c90f16ac-f655-457a-f9e9-976ff53b9b9b"
      },
      "execution_count": null,
      "outputs": [
        {
          "output_type": "execute_result",
          "data": {
            "text/plain": [
              "           Date     Open     High      Low    Close    Volume   Name\n",
              "0    2006-01-03   211.47   218.05   209.32   217.83  13137450  GOOGL\n",
              "1    2006-01-04   222.17   224.70   220.09   222.84  15292353  GOOGL\n",
              "2    2006-01-05   223.22   226.00   220.97   225.85  10815661  GOOGL\n",
              "3    2006-01-06   228.66   235.49   226.85   233.06  17759521  GOOGL\n",
              "4    2006-01-09   233.44   236.94   230.70   233.68  12795837  GOOGL\n",
              "...         ...      ...      ...      ...      ...       ...    ...\n",
              "3014 2017-12-22  1070.00  1071.72  1067.64  1068.86    889446  GOOGL\n",
              "3015 2017-12-26  1068.64  1068.86  1058.64  1065.85    918767  GOOGL\n",
              "3016 2017-12-27  1066.60  1068.27  1058.38  1060.20   1116203  GOOGL\n",
              "3017 2017-12-28  1062.25  1064.84  1053.38  1055.95    994249  GOOGL\n",
              "3018 2017-12-29  1055.49  1058.05  1052.70  1053.40   1180340  GOOGL\n",
              "\n",
              "[3019 rows x 7 columns]"
            ],
            "text/html": [
              "\n",
              "  <div id=\"df-85205836-e5c7-46e1-881b-f4720e383c96\">\n",
              "    <div class=\"colab-df-container\">\n",
              "      <div>\n",
              "<style scoped>\n",
              "    .dataframe tbody tr th:only-of-type {\n",
              "        vertical-align: middle;\n",
              "    }\n",
              "\n",
              "    .dataframe tbody tr th {\n",
              "        vertical-align: top;\n",
              "    }\n",
              "\n",
              "    .dataframe thead th {\n",
              "        text-align: right;\n",
              "    }\n",
              "</style>\n",
              "<table border=\"1\" class=\"dataframe\">\n",
              "  <thead>\n",
              "    <tr style=\"text-align: right;\">\n",
              "      <th></th>\n",
              "      <th>Date</th>\n",
              "      <th>Open</th>\n",
              "      <th>High</th>\n",
              "      <th>Low</th>\n",
              "      <th>Close</th>\n",
              "      <th>Volume</th>\n",
              "      <th>Name</th>\n",
              "    </tr>\n",
              "  </thead>\n",
              "  <tbody>\n",
              "    <tr>\n",
              "      <th>0</th>\n",
              "      <td>2006-01-03</td>\n",
              "      <td>211.47</td>\n",
              "      <td>218.05</td>\n",
              "      <td>209.32</td>\n",
              "      <td>217.83</td>\n",
              "      <td>13137450</td>\n",
              "      <td>GOOGL</td>\n",
              "    </tr>\n",
              "    <tr>\n",
              "      <th>1</th>\n",
              "      <td>2006-01-04</td>\n",
              "      <td>222.17</td>\n",
              "      <td>224.70</td>\n",
              "      <td>220.09</td>\n",
              "      <td>222.84</td>\n",
              "      <td>15292353</td>\n",
              "      <td>GOOGL</td>\n",
              "    </tr>\n",
              "    <tr>\n",
              "      <th>2</th>\n",
              "      <td>2006-01-05</td>\n",
              "      <td>223.22</td>\n",
              "      <td>226.00</td>\n",
              "      <td>220.97</td>\n",
              "      <td>225.85</td>\n",
              "      <td>10815661</td>\n",
              "      <td>GOOGL</td>\n",
              "    </tr>\n",
              "    <tr>\n",
              "      <th>3</th>\n",
              "      <td>2006-01-06</td>\n",
              "      <td>228.66</td>\n",
              "      <td>235.49</td>\n",
              "      <td>226.85</td>\n",
              "      <td>233.06</td>\n",
              "      <td>17759521</td>\n",
              "      <td>GOOGL</td>\n",
              "    </tr>\n",
              "    <tr>\n",
              "      <th>4</th>\n",
              "      <td>2006-01-09</td>\n",
              "      <td>233.44</td>\n",
              "      <td>236.94</td>\n",
              "      <td>230.70</td>\n",
              "      <td>233.68</td>\n",
              "      <td>12795837</td>\n",
              "      <td>GOOGL</td>\n",
              "    </tr>\n",
              "    <tr>\n",
              "      <th>...</th>\n",
              "      <td>...</td>\n",
              "      <td>...</td>\n",
              "      <td>...</td>\n",
              "      <td>...</td>\n",
              "      <td>...</td>\n",
              "      <td>...</td>\n",
              "      <td>...</td>\n",
              "    </tr>\n",
              "    <tr>\n",
              "      <th>3014</th>\n",
              "      <td>2017-12-22</td>\n",
              "      <td>1070.00</td>\n",
              "      <td>1071.72</td>\n",
              "      <td>1067.64</td>\n",
              "      <td>1068.86</td>\n",
              "      <td>889446</td>\n",
              "      <td>GOOGL</td>\n",
              "    </tr>\n",
              "    <tr>\n",
              "      <th>3015</th>\n",
              "      <td>2017-12-26</td>\n",
              "      <td>1068.64</td>\n",
              "      <td>1068.86</td>\n",
              "      <td>1058.64</td>\n",
              "      <td>1065.85</td>\n",
              "      <td>918767</td>\n",
              "      <td>GOOGL</td>\n",
              "    </tr>\n",
              "    <tr>\n",
              "      <th>3016</th>\n",
              "      <td>2017-12-27</td>\n",
              "      <td>1066.60</td>\n",
              "      <td>1068.27</td>\n",
              "      <td>1058.38</td>\n",
              "      <td>1060.20</td>\n",
              "      <td>1116203</td>\n",
              "      <td>GOOGL</td>\n",
              "    </tr>\n",
              "    <tr>\n",
              "      <th>3017</th>\n",
              "      <td>2017-12-28</td>\n",
              "      <td>1062.25</td>\n",
              "      <td>1064.84</td>\n",
              "      <td>1053.38</td>\n",
              "      <td>1055.95</td>\n",
              "      <td>994249</td>\n",
              "      <td>GOOGL</td>\n",
              "    </tr>\n",
              "    <tr>\n",
              "      <th>3018</th>\n",
              "      <td>2017-12-29</td>\n",
              "      <td>1055.49</td>\n",
              "      <td>1058.05</td>\n",
              "      <td>1052.70</td>\n",
              "      <td>1053.40</td>\n",
              "      <td>1180340</td>\n",
              "      <td>GOOGL</td>\n",
              "    </tr>\n",
              "  </tbody>\n",
              "</table>\n",
              "<p>3019 rows × 7 columns</p>\n",
              "</div>\n",
              "      <button class=\"colab-df-convert\" onclick=\"convertToInteractive('df-85205836-e5c7-46e1-881b-f4720e383c96')\"\n",
              "              title=\"Convert this dataframe to an interactive table.\"\n",
              "              style=\"display:none;\">\n",
              "        \n",
              "  <svg xmlns=\"http://www.w3.org/2000/svg\" height=\"24px\"viewBox=\"0 0 24 24\"\n",
              "       width=\"24px\">\n",
              "    <path d=\"M0 0h24v24H0V0z\" fill=\"none\"/>\n",
              "    <path d=\"M18.56 5.44l.94 2.06.94-2.06 2.06-.94-2.06-.94-.94-2.06-.94 2.06-2.06.94zm-11 1L8.5 8.5l.94-2.06 2.06-.94-2.06-.94L8.5 2.5l-.94 2.06-2.06.94zm10 10l.94 2.06.94-2.06 2.06-.94-2.06-.94-.94-2.06-.94 2.06-2.06.94z\"/><path d=\"M17.41 7.96l-1.37-1.37c-.4-.4-.92-.59-1.43-.59-.52 0-1.04.2-1.43.59L10.3 9.45l-7.72 7.72c-.78.78-.78 2.05 0 2.83L4 21.41c.39.39.9.59 1.41.59.51 0 1.02-.2 1.41-.59l7.78-7.78 2.81-2.81c.8-.78.8-2.07 0-2.86zM5.41 20L4 18.59l7.72-7.72 1.47 1.35L5.41 20z\"/>\n",
              "  </svg>\n",
              "      </button>\n",
              "      \n",
              "  <style>\n",
              "    .colab-df-container {\n",
              "      display:flex;\n",
              "      flex-wrap:wrap;\n",
              "      gap: 12px;\n",
              "    }\n",
              "\n",
              "    .colab-df-convert {\n",
              "      background-color: #E8F0FE;\n",
              "      border: none;\n",
              "      border-radius: 50%;\n",
              "      cursor: pointer;\n",
              "      display: none;\n",
              "      fill: #1967D2;\n",
              "      height: 32px;\n",
              "      padding: 0 0 0 0;\n",
              "      width: 32px;\n",
              "    }\n",
              "\n",
              "    .colab-df-convert:hover {\n",
              "      background-color: #E2EBFA;\n",
              "      box-shadow: 0px 1px 2px rgba(60, 64, 67, 0.3), 0px 1px 3px 1px rgba(60, 64, 67, 0.15);\n",
              "      fill: #174EA6;\n",
              "    }\n",
              "\n",
              "    [theme=dark] .colab-df-convert {\n",
              "      background-color: #3B4455;\n",
              "      fill: #D2E3FC;\n",
              "    }\n",
              "\n",
              "    [theme=dark] .colab-df-convert:hover {\n",
              "      background-color: #434B5C;\n",
              "      box-shadow: 0px 1px 3px 1px rgba(0, 0, 0, 0.15);\n",
              "      filter: drop-shadow(0px 1px 2px rgba(0, 0, 0, 0.3));\n",
              "      fill: #FFFFFF;\n",
              "    }\n",
              "  </style>\n",
              "\n",
              "      <script>\n",
              "        const buttonEl =\n",
              "          document.querySelector('#df-85205836-e5c7-46e1-881b-f4720e383c96 button.colab-df-convert');\n",
              "        buttonEl.style.display =\n",
              "          google.colab.kernel.accessAllowed ? 'block' : 'none';\n",
              "\n",
              "        async function convertToInteractive(key) {\n",
              "          const element = document.querySelector('#df-85205836-e5c7-46e1-881b-f4720e383c96');\n",
              "          const dataTable =\n",
              "            await google.colab.kernel.invokeFunction('convertToInteractive',\n",
              "                                                     [key], {});\n",
              "          if (!dataTable) return;\n",
              "\n",
              "          const docLinkHtml = 'Like what you see? Visit the ' +\n",
              "            '<a target=\"_blank\" href=https://colab.research.google.com/notebooks/data_table.ipynb>data table notebook</a>'\n",
              "            + ' to learn more about interactive tables.';\n",
              "          element.innerHTML = '';\n",
              "          dataTable['output_type'] = 'display_data';\n",
              "          await google.colab.output.renderOutput(dataTable, element);\n",
              "          const docLink = document.createElement('div');\n",
              "          docLink.innerHTML = docLinkHtml;\n",
              "          element.appendChild(docLink);\n",
              "        }\n",
              "      </script>\n",
              "    </div>\n",
              "  </div>\n",
              "  "
            ]
          },
          "metadata": {},
          "execution_count": 2
        }
      ]
    },
    {
      "cell_type": "code",
      "source": [
        "n1=150\n",
        "n2=300\n",
        "n3 = 350\n",
        "sdvig = 1 #количество строк для сдвига \n",
        "\n",
        "#предсказываем параметр Close следующего дня по параметрам Date Open Volume High предшествующего дня \n",
        "#делю на тестовую и тренировучную выборки\n",
        "X_train = df2[['Date','Open','Volume','High']][n1:n2] #много параметров\n",
        "X_train['Date'] = pd.to_numeric(X_train['Date'])\n",
        "y_train = df2[['Close']].shift(sdvig)[n1:n2] #делаем сдвиг всех значений колонки на 1 строку назад\n",
        "\n",
        "X_test = df2[['Date','Open','Volume','High']][n2:n3] #много параметров\n",
        "X_test['Date'] = pd.to_numeric(X_test['Date'])\n",
        "y_test = df2[['Close']].shift(sdvig)[n2:n3] #делаем сдвиг всех значений колонки на 1 строку назад"
      ],
      "metadata": {
        "id": "looT7r3olGsV"
      },
      "execution_count": null,
      "outputs": []
    },
    {
      "cell_type": "markdown",
      "source": [
        "# МНК"
      ],
      "metadata": {
        "id": "MVb3wnAEYCHU"
      }
    },
    {
      "cell_type": "code",
      "source": [
        "#создаю модель, учу \n",
        "from sklearn import linear_model \n",
        "reg = linear_model.LinearRegression()\n",
        "reg.fit(X_train,y_train) "
      ],
      "metadata": {
        "colab": {
          "base_uri": "https://localhost:8080/"
        },
        "id": "JhWBpwNeYBgp",
        "outputId": "c2066f17-b3e1-42f5-efa7-77b7c125e67c"
      },
      "execution_count": null,
      "outputs": [
        {
          "output_type": "execute_result",
          "data": {
            "text/plain": [
              "LinearRegression()"
            ]
          },
          "metadata": {},
          "execution_count": 420
        }
      ]
    },
    {
      "cell_type": "code",
      "source": [
        "#получаю предсказанные значения\n",
        "y_pred = reg.predict(X_test)"
      ],
      "metadata": {
        "id": "GmVLgjwVgD1Q"
      },
      "execution_count": null,
      "outputs": []
    },
    {
      "cell_type": "code",
      "source": [
        "#сравниваем визуально предсказанные и реальные данные\n",
        "plt.plot(X_train['Date'],y_train,'o')\n",
        "plt.plot(X_test['Date'],y_test,'o',color = 'red')\n",
        "plt.plot(X_test['Date'],y_pred, color ='black')\n",
        "plt.show()"
      ],
      "metadata": {
        "colab": {
          "base_uri": "https://localhost:8080/",
          "height": 277
        },
        "id": "bWo9__jqgH8W",
        "outputId": "8d3744a8-4d2d-424f-dfc2-c1da161a1542"
      },
      "execution_count": null,
      "outputs": [
        {
          "output_type": "display_data",
          "data": {
            "text/plain": [
              "<Figure size 432x288 with 1 Axes>"
            ],
            "image/png": "[encoded data removed]"
          },
          "metadata": {
            "needs_background": "light"
          }
        }
      ]
    },
    {
      "cell_type": "code",
      "source": [
        "#оцениваем\n",
        "from sklearn import metrics \n",
        "metrics.mean_squared_error(y_test,y_pred) #MSE метрика, чем меньше, тем лучше"
      ],
      "metadata": {
        "colab": {
          "base_uri": "https://localhost:8080/"
        },
        "id": "Ww2vb_rE2Wnd",
        "outputId": "3a83c6b4-22a4-482b-8f20-68830f0092b6"
      },
      "execution_count": null,
      "outputs": [
        {
          "output_type": "execute_result",
          "data": {
            "text/plain": [
              "2.4446028862856135"
            ]
          },
          "metadata": {},
          "execution_count": 423
        }
      ]
    },
    {
      "cell_type": "markdown",
      "source": [
        "**Хи квадрат**, проверяет:\n",
        "*   h0: данные ожидаемые данные не протеворечат реальным \n",
        "*   h1: протеворечат\n",
        "<br>Если p-value больше 0,05 то H0, если меньше H1\n",
        "\n",
        "Чем меньше само число критерия хи квадрат, тем ближе ожидание к реальным"
      ],
      "metadata": {
        "id": "GAS7dOXip33i"
      }
    },
    {
      "cell_type": "code",
      "source": [
        "from  scipy.stats import chi2_contingency #хи квадрат\n",
        "chi2, p, dof, ex = chi2_contingency([y_test,y_pred])\n",
        "print(chi2,p)"
      ],
      "metadata": {
        "colab": {
          "base_uri": "https://localhost:8080/"
        },
        "id": "ssW2p25-xxAH",
        "outputId": "6e614955-d1c2-4204-ad6f-eb8108f2c5ba"
      },
      "execution_count": null,
      "outputs": [
        {
          "output_type": "stream",
          "name": "stdout",
          "text": [
            "0.2006946788291653 1.0\n"
          ]
        }
      ]
    },
    {
      "cell_type": "markdown",
      "source": [
        "**T-критерий Стьюдента**\n",
        "<br>Это тест на нулевую гипотезу о том, что 2 независимых образца имеют одинаковые средние значения."
      ],
      "metadata": {
        "id": "mOEKAjSMp8EU"
      }
    },
    {
      "cell_type": "code",
      "source": [
        "from scipy.stats import ttest_ind #t критерий Стьюдента\n",
        "stat, p = ttest_ind(y_test,y_pred)\n",
        "print(p)"
      ],
      "metadata": {
        "colab": {
          "base_uri": "https://localhost:8080/"
        },
        "id": "y7tQvpWP6BOl",
        "outputId": "7b773ece-3a83-496b-f391-a6aac0924788"
      },
      "execution_count": null,
      "outputs": [
        {
          "output_type": "stream",
          "name": "stdout",
          "text": [
            "[0.45093362]\n"
          ]
        }
      ]
    },
    {
      "cell_type": "markdown",
      "source": [
        "**Z-тест Фишера**\n",
        "<br>H0: средние равны\n",
        "<br> H1: неравны"
      ],
      "metadata": {
        "id": "hZ4dgh77p_yC"
      }
    },
    {
      "cell_type": "code",
      "source": [
        "from statsmodels.stats import weightstats #z-тест Фишера\n",
        "stat, p = weightstats.ztest(y_test,y_pred)\n",
        "print(p)"
      ],
      "metadata": {
        "colab": {
          "base_uri": "https://localhost:8080/"
        },
        "id": "PGcaA-DBajN9",
        "outputId": "fe6a0f0c-08b7-429b-a091-f5ce4526d0da"
      },
      "execution_count": null,
      "outputs": [
        {
          "output_type": "stream",
          "name": "stdout",
          "text": [
            "[0.44911775]\n"
          ]
        }
      ]
    },
    {
      "cell_type": "markdown",
      "source": [
        "# LASSO"
      ],
      "metadata": {
        "id": "C34eobArZ70A"
      }
    },
    {
      "cell_type": "code",
      "source": [
        "from sklearn import linear_model\n",
        "clf = linear_model.Lasso(alpha=0.5)\n",
        "clf.fit(X_train,y_train)"
      ],
      "metadata": {
        "colab": {
          "base_uri": "https://localhost:8080/"
        },
        "id": "zBgEMU42Z7Pf",
        "outputId": "45657812-eac3-443e-bd11-c36bf29989ac"
      },
      "execution_count": null,
      "outputs": [
        {
          "output_type": "stream",
          "name": "stderr",
          "text": [
            "/usr/local/lib/python3.7/dist-packages/sklearn/linear_model/_coordinate_descent.py:648: ConvergenceWarning: Objective did not converge. You might want to increase the number of iterations, check the scale of the features or consider increasing regularisation. Duality gap: 2.970e+02, tolerance: 6.590e+00\n",
            "  coef_, l1_reg, l2_reg, X, y, max_iter, tol, rng, random, positive\n"
          ]
        },
        {
          "output_type": "execute_result",
          "data": {
            "text/plain": [
              "Lasso(alpha=0.5)"
            ]
          },
          "metadata": {},
          "execution_count": 429
        }
      ]
    },
    {
      "cell_type": "code",
      "source": [
        "y_pred = pd.DataFrame()\n",
        "y_pred['y_pred'] = pd.DataFrame(clf.predict(X_test))"
      ],
      "metadata": {
        "id": "wmUqxQJoh3sk"
      },
      "execution_count": null,
      "outputs": []
    },
    {
      "cell_type": "code",
      "source": [
        "plt.plot(X_train['Date'],y_train,'o')\n",
        "plt.plot(X_test['Date'],y_test,'o',color = 'red')\n",
        "plt.plot(X_test['Date'],y_pred, color ='black')\n",
        "plt.show()"
      ],
      "metadata": {
        "colab": {
          "base_uri": "https://localhost:8080/",
          "height": 277
        },
        "id": "ieykv8H_h6Qd",
        "outputId": "012590c3-a2e4-4705-f92f-e6522d7deef8"
      },
      "execution_count": null,
      "outputs": [
        {
          "output_type": "display_data",
          "data": {
            "text/plain": [
              "<Figure size 432x288 with 1 Axes>"
            ],
            "image/png": "[encoded data removed]"
          },
          "metadata": {
            "needs_background": "light"
          }
        }
      ]
    },
    {
      "cell_type": "code",
      "source": [
        "from sklearn import metrics \n",
        "metrics.mean_squared_error(y_test,y_pred) #MSE метрика, чем меньше, тем лучше"
      ],
      "metadata": {
        "colab": {
          "base_uri": "https://localhost:8080/"
        },
        "id": "eYMp7agA2VvO",
        "outputId": "cd38e4bc-0cea-4eef-8732-715b9af7683d"
      },
      "execution_count": null,
      "outputs": [
        {
          "output_type": "execute_result",
          "data": {
            "text/plain": [
              "2.5363587003294286"
            ]
          },
          "metadata": {},
          "execution_count": 432
        }
      ]
    },
    {
      "cell_type": "code",
      "source": [
        "from  scipy.stats import chi2_contingency #Статистика хи квадрат\n",
        "chi2, p, dof, ex = chi2_contingency([y_test,y_pred])\n",
        "print(chi2,p)"
      ],
      "metadata": {
        "colab": {
          "base_uri": "https://localhost:8080/"
        },
        "id": "qzx2OYqrxx8j",
        "outputId": "df8d3bd2-a08d-4ee4-fd03-550cd37cf783"
      },
      "execution_count": null,
      "outputs": [
        {
          "output_type": "stream",
          "name": "stdout",
          "text": [
            "0.2006642431022123 1.0\n"
          ]
        }
      ]
    },
    {
      "cell_type": "code",
      "source": [
        "from scipy.stats import ttest_ind #t критерий Стьюдента\n",
        "stat, p = ttest_ind(y_test,y_pred)\n",
        "print(p)"
      ],
      "metadata": {
        "colab": {
          "base_uri": "https://localhost:8080/"
        },
        "id": "2gk_0Oga6CR_",
        "outputId": "c038ff07-c415-492f-c229-e991dd3dd48b"
      },
      "execution_count": null,
      "outputs": [
        {
          "output_type": "stream",
          "name": "stdout",
          "text": [
            "[0.41441288]\n"
          ]
        }
      ]
    },
    {
      "cell_type": "code",
      "source": [
        "from statsmodels.stats import weightstats #z-тест Фишера\n",
        "stat, p = weightstats.ztest(y_test,y_pred)\n",
        "print(p)"
      ],
      "metadata": {
        "colab": {
          "base_uri": "https://localhost:8080/"
        },
        "id": "ovh_9wltaoe6",
        "outputId": "3a37b753-ca77-44d3-e478-6518ea128000"
      },
      "execution_count": null,
      "outputs": [
        {
          "output_type": "stream",
          "name": "stdout",
          "text": [
            "[0.41242393]\n"
          ]
        }
      ]
    },
    {
      "cell_type": "markdown",
      "source": [
        "# Ridge"
      ],
      "metadata": {
        "id": "6FOc2dq5aelT"
      }
    },
    {
      "cell_type": "code",
      "source": [
        "from sklearn.linear_model import Ridge\n",
        "rdg = Ridge(alpha=1.0)\n",
        "rdg.fit(X_train,y_train)"
      ],
      "metadata": {
        "colab": {
          "base_uri": "https://localhost:8080/"
        },
        "id": "3xm8vTWbahDy",
        "outputId": "a3bdf913-8e08-4d36-e6b9-db647a37e303"
      },
      "execution_count": null,
      "outputs": [
        {
          "output_type": "stream",
          "name": "stderr",
          "text": [
            "/usr/local/lib/python3.7/dist-packages/sklearn/linear_model/_ridge.py:157: LinAlgWarning: Ill-conditioned matrix (rcond=6.38012e-32): result may not be accurate.\n",
            "  return linalg.solve(A, Xy, sym_pos=True, overwrite_a=True).T\n"
          ]
        },
        {
          "output_type": "execute_result",
          "data": {
            "text/plain": [
              "Ridge()"
            ]
          },
          "metadata": {},
          "execution_count": 438
        }
      ]
    },
    {
      "cell_type": "code",
      "source": [
        "y_pred = rdg.predict(X_test)"
      ],
      "metadata": {
        "id": "Azti5PGBiJXp"
      },
      "execution_count": null,
      "outputs": []
    },
    {
      "cell_type": "code",
      "source": [
        "plt.plot(X_train['Date'],y_train,'o')\n",
        "plt.plot(X_test['Date'],y_test,'o',color = 'red')\n",
        "plt.plot(X_test['Date'],y_pred, color ='black')\n",
        "plt.show()"
      ],
      "metadata": {
        "colab": {
          "base_uri": "https://localhost:8080/",
          "height": 277
        },
        "id": "6MuCYuPLiFvy",
        "outputId": "204cb413-fa3f-4105-96a5-498355bbdce9"
      },
      "execution_count": null,
      "outputs": [
        {
          "output_type": "display_data",
          "data": {
            "text/plain": [
              "<Figure size 432x288 with 1 Axes>"
            ],
            "image/png": "[encoded data removed]"
          },
          "metadata": {
            "needs_background": "light"
          }
        }
      ]
    },
    {
      "cell_type": "code",
      "source": [
        "from sklearn import metrics \n",
        "metrics.mean_squared_error(y_test,y_pred) #MSE метрика, чем меньше, тем лучше"
      ],
      "metadata": {
        "colab": {
          "base_uri": "https://localhost:8080/"
        },
        "id": "D3vpHwkX2OJk",
        "outputId": "4ec9a9c1-b194-475a-b30a-df5af189813a"
      },
      "execution_count": null,
      "outputs": [
        {
          "output_type": "execute_result",
          "data": {
            "text/plain": [
              "2.4445648210415887"
            ]
          },
          "metadata": {},
          "execution_count": 441
        }
      ]
    },
    {
      "cell_type": "code",
      "source": [
        "from  scipy.stats import chi2_contingency #хи квадрат\n",
        "chi2, p, dof, ex = chi2_contingency([y_test,y_pred])\n",
        "print(chi2, p)"
      ],
      "metadata": {
        "colab": {
          "base_uri": "https://localhost:8080/"
        },
        "id": "3SWKT3unxyrd",
        "outputId": "c0f4fdf9-65bf-4fb4-c3b5-b18e7d6fe137"
      },
      "execution_count": null,
      "outputs": [
        {
          "output_type": "stream",
          "name": "stdout",
          "text": [
            "0.20059656341125232 1.0\n"
          ]
        }
      ]
    },
    {
      "cell_type": "code",
      "source": [
        "from scipy.stats import ttest_ind #t критерий Стьюдента\n",
        "stat, p = ttest_ind(y_test,y_pred)\n",
        "print(p)"
      ],
      "metadata": {
        "colab": {
          "base_uri": "https://localhost:8080/"
        },
        "id": "HG9ID2eT6DGn",
        "outputId": "1230857e-5169-4bae-b11b-52c433f9c386"
      },
      "execution_count": null,
      "outputs": [
        {
          "output_type": "stream",
          "name": "stdout",
          "text": [
            "[0.45050961]\n"
          ]
        }
      ]
    },
    {
      "cell_type": "code",
      "source": [
        "from statsmodels.stats import weightstats #z-тест Фишера\n",
        "stat, p = weightstats.ztest(y_test,y_pred)\n",
        "print(p)"
      ],
      "metadata": {
        "colab": {
          "base_uri": "https://localhost:8080/"
        },
        "id": "DyzNZu7qap7q",
        "outputId": "fa91c171-d408-4702-cfa3-8b0f77078ccf"
      },
      "execution_count": null,
      "outputs": [
        {
          "output_type": "stream",
          "name": "stdout",
          "text": [
            "[0.44869177]\n"
          ]
        }
      ]
    }
  ]
}