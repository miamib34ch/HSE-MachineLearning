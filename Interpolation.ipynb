{
  "nbformat": 4,
  "nbformat_minor": 0,
  "metadata": {
    "colab": {
      "provenance": [],
      "collapsed_sections": []
    },
    "kernelspec": {
      "name": "python3",
      "display_name": "Python 3"
    },
    "language_info": {
      "name": "python"
    }
  },
  "cells": [
    {
      "cell_type": "markdown",
      "source": [
        "# Подготовка"
      ],
      "metadata": {
        "id": "feX7rY-T4wqC"
      }
    },
    {
      "cell_type": "code",
      "source": [
        "import numpy as np #инструмент для работы с многомерными массивами с возможностью векторизации вычислений\n",
        "import pandas as pd #удобные методы реляционного взаимодействия с данными, аналогичные, например, возможностям SQL для слияния и конкатенации таблиц\n",
        "import matplotlib.pyplot as plt #графики\n",
        "from scipy import interpolate #библиотека для интерполяции"
      ],
      "metadata": {
        "id": "3J-aU8FRpI9K"
      },
      "execution_count": null,
      "outputs": []
    },
    {
      "cell_type": "code",
      "source": [
        "df = pd.read_csv(\"/content/DataSet3_1.csv\", sep=\",\") #DataSet3_1 – Данные о частоте и потребляемой мощности электрической энергии офисным зданием (регулярный временной ряд)\n",
        "df['Timestamp'] = pd.to_datetime(df['Timestamp']) #переводим время в формат времени\n",
        "df"
      ],
      "metadata": {
        "colab": {
          "base_uri": "https://localhost:8080/",
          "height": 411
        },
        "id": "B1UE4yAwpPZ1",
        "outputId": "ab4964fc-b7e9-45cb-9d8a-84e2955e8f9b"
      },
      "execution_count": null,
      "outputs": [
        {
          "output_type": "execute_result",
          "data": {
            "text/plain": [
              "                Timestamp  OAT (F)  Power (kW)\n",
              "0     2010-01-01 01:15:00       51       165.1\n",
              "1     2010-01-01 01:30:00       51       151.6\n",
              "2     2010-01-01 01:45:00       51       146.9\n",
              "3     2010-01-01 02:00:00       51       153.7\n",
              "4     2010-01-01 02:15:00       51       153.8\n",
              "...                   ...      ...         ...\n",
              "34935 2010-12-30 23:00:00       47       285.8\n",
              "34936 2010-12-30 23:15:00       44       206.6\n",
              "34937 2010-12-30 23:30:00       44       205.9\n",
              "34938 2010-12-30 23:45:00       44       189.4\n",
              "34939 2010-12-31 00:00:00       44       177.9\n",
              "\n",
              "[34940 rows x 3 columns]"
            ],
            "text/html": [
              "\n",
              "  <div id=\"df-dda99297-bb16-4790-86bb-5b0b7771d5d7\">\n",
              "    <div class=\"colab-df-container\">\n",
              "      <div>\n",
              "<style scoped>\n",
              "    .dataframe tbody tr th:only-of-type {\n",
              "        vertical-align: middle;\n",
              "    }\n",
              "\n",
              "    .dataframe tbody tr th {\n",
              "        vertical-align: top;\n",
              "    }\n",
              "\n",
              "    .dataframe thead th {\n",
              "        text-align: right;\n",
              "    }\n",
              "</style>\n",
              "<table border=\"1\" class=\"dataframe\">\n",
              "  <thead>\n",
              "    <tr style=\"text-align: right;\">\n",
              "      <th></th>\n",
              "      <th>Timestamp</th>\n",
              "      <th>OAT (F)</th>\n",
              "      <th>Power (kW)</th>\n",
              "    </tr>\n",
              "  </thead>\n",
              "  <tbody>\n",
              "    <tr>\n",
              "      <th>0</th>\n",
              "      <td>2010-01-01 01:15:00</td>\n",
              "      <td>51</td>\n",
              "      <td>165.1</td>\n",
              "    </tr>\n",
              "    <tr>\n",
              "      <th>1</th>\n",
              "      <td>2010-01-01 01:30:00</td>\n",
              "      <td>51</td>\n",
              "      <td>151.6</td>\n",
              "    </tr>\n",
              "    <tr>\n",
              "      <th>2</th>\n",
              "      <td>2010-01-01 01:45:00</td>\n",
              "      <td>51</td>\n",
              "      <td>146.9</td>\n",
              "    </tr>\n",
              "    <tr>\n",
              "      <th>3</th>\n",
              "      <td>2010-01-01 02:00:00</td>\n",
              "      <td>51</td>\n",
              "      <td>153.7</td>\n",
              "    </tr>\n",
              "    <tr>\n",
              "      <th>4</th>\n",
              "      <td>2010-01-01 02:15:00</td>\n",
              "      <td>51</td>\n",
              "      <td>153.8</td>\n",
              "    </tr>\n",
              "    <tr>\n",
              "      <th>...</th>\n",
              "      <td>...</td>\n",
              "      <td>...</td>\n",
              "      <td>...</td>\n",
              "    </tr>\n",
              "    <tr>\n",
              "      <th>34935</th>\n",
              "      <td>2010-12-30 23:00:00</td>\n",
              "      <td>47</td>\n",
              "      <td>285.8</td>\n",
              "    </tr>\n",
              "    <tr>\n",
              "      <th>34936</th>\n",
              "      <td>2010-12-30 23:15:00</td>\n",
              "      <td>44</td>\n",
              "      <td>206.6</td>\n",
              "    </tr>\n",
              "    <tr>\n",
              "      <th>34937</th>\n",
              "      <td>2010-12-30 23:30:00</td>\n",
              "      <td>44</td>\n",
              "      <td>205.9</td>\n",
              "    </tr>\n",
              "    <tr>\n",
              "      <th>34938</th>\n",
              "      <td>2010-12-30 23:45:00</td>\n",
              "      <td>44</td>\n",
              "      <td>189.4</td>\n",
              "    </tr>\n",
              "    <tr>\n",
              "      <th>34939</th>\n",
              "      <td>2010-12-31 00:00:00</td>\n",
              "      <td>44</td>\n",
              "      <td>177.9</td>\n",
              "    </tr>\n",
              "  </tbody>\n",
              "</table>\n",
              "<p>34940 rows × 3 columns</p>\n",
              "</div>\n",
              "      <button class=\"colab-df-convert\" onclick=\"convertToInteractive('df-dda99297-bb16-4790-86bb-5b0b7771d5d7')\"\n",
              "              title=\"Convert this dataframe to an interactive table.\"\n",
              "              style=\"display:none;\">\n",
              "        \n",
              "  <svg xmlns=\"http://www.w3.org/2000/svg\" height=\"24px\"viewBox=\"0 0 24 24\"\n",
              "       width=\"24px\">\n",
              "    <path d=\"M0 0h24v24H0V0z\" fill=\"none\"/>\n",
              "    <path d=\"M18.56 5.44l.94 2.06.94-2.06 2.06-.94-2.06-.94-.94-2.06-.94 2.06-2.06.94zm-11 1L8.5 8.5l.94-2.06 2.06-.94-2.06-.94L8.5 2.5l-.94 2.06-2.06.94zm10 10l.94 2.06.94-2.06 2.06-.94-2.06-.94-.94-2.06-.94 2.06-2.06.94z\"/><path d=\"M17.41 7.96l-1.37-1.37c-.4-.4-.92-.59-1.43-.59-.52 0-1.04.2-1.43.59L10.3 9.45l-7.72 7.72c-.78.78-.78 2.05 0 2.83L4 21.41c.39.39.9.59 1.41.59.51 0 1.02-.2 1.41-.59l7.78-7.78 2.81-2.81c.8-.78.8-2.07 0-2.86zM5.41 20L4 18.59l7.72-7.72 1.47 1.35L5.41 20z\"/>\n",
              "  </svg>\n",
              "      </button>\n",
              "      \n",
              "  <style>\n",
              "    .colab-df-container {\n",
              "      display:flex;\n",
              "      flex-wrap:wrap;\n",
              "      gap: 12px;\n",
              "    }\n",
              "\n",
              "    .colab-df-convert {\n",
              "      background-color: #E8F0FE;\n",
              "      border: none;\n",
              "      border-radius: 50%;\n",
              "      cursor: pointer;\n",
              "      display: none;\n",
              "      fill: #1967D2;\n",
              "      height: 32px;\n",
              "      padding: 0 0 0 0;\n",
              "      width: 32px;\n",
              "    }\n",
              "\n",
              "    .colab-df-convert:hover {\n",
              "      background-color: #E2EBFA;\n",
              "      box-shadow: 0px 1px 2px rgba(60, 64, 67, 0.3), 0px 1px 3px 1px rgba(60, 64, 67, 0.15);\n",
              "      fill: #174EA6;\n",
              "    }\n",
              "\n",
              "    [theme=dark] .colab-df-convert {\n",
              "      background-color: #3B4455;\n",
              "      fill: #D2E3FC;\n",
              "    }\n",
              "\n",
              "    [theme=dark] .colab-df-convert:hover {\n",
              "      background-color: #434B5C;\n",
              "      box-shadow: 0px 1px 3px 1px rgba(0, 0, 0, 0.15);\n",
              "      filter: drop-shadow(0px 1px 2px rgba(0, 0, 0, 0.3));\n",
              "      fill: #FFFFFF;\n",
              "    }\n",
              "  </style>\n",
              "\n",
              "      <script>\n",
              "        const buttonEl =\n",
              "          document.querySelector('#df-dda99297-bb16-4790-86bb-5b0b7771d5d7 button.colab-df-convert');\n",
              "        buttonEl.style.display =\n",
              "          google.colab.kernel.accessAllowed ? 'block' : 'none';\n",
              "\n",
              "        async function convertToInteractive(key) {\n",
              "          const element = document.querySelector('#df-dda99297-bb16-4790-86bb-5b0b7771d5d7');\n",
              "          const dataTable =\n",
              "            await google.colab.kernel.invokeFunction('convertToInteractive',\n",
              "                                                     [key], {});\n",
              "          if (!dataTable) return;\n",
              "\n",
              "          const docLinkHtml = 'Like what you see? Visit the ' +\n",
              "            '<a target=\"_blank\" href=https://colab.research.google.com/notebooks/data_table.ipynb>data table notebook</a>'\n",
              "            + ' to learn more about interactive tables.';\n",
              "          element.innerHTML = '';\n",
              "          dataTable['output_type'] = 'display_data';\n",
              "          await google.colab.output.renderOutput(dataTable, element);\n",
              "          const docLink = document.createElement('div');\n",
              "          docLink.innerHTML = docLinkHtml;\n",
              "          element.appendChild(docLink);\n",
              "        }\n",
              "      </script>\n",
              "    </div>\n",
              "  </div>\n",
              "  "
            ]
          },
          "metadata": {},
          "execution_count": 2
        }
      ]
    },
    {
      "cell_type": "markdown",
      "source": [
        "# Интерполяция сплайном и многочленом"
      ],
      "metadata": {
        "id": "fqpM7uouoELM"
      }
    },
    {
      "cell_type": "code",
      "execution_count": null,
      "metadata": {
        "id": "JyIv9VvUoA49"
      },
      "outputs": [],
      "source": [
        "#берём первые 15 строк\n",
        "x = pd.to_numeric(df['Timestamp'][1:15])  #дату и время переводим в секунды\n",
        "y = df['Power (kW)'][1:15]\n",
        "\n",
        "xnew = np.linspace(x[1],x[14], 100)  #генерируем 100 чисел из интервала х"
      ]
    },
    {
      "cell_type": "code",
      "source": [
        "plt.plot(x, y, 'o') #диаграмма рассеивания \n",
        "plt.show()"
      ],
      "metadata": {
        "colab": {
          "base_uri": "https://localhost:8080/",
          "height": 277
        },
        "id": "V87mOlDq16m4",
        "outputId": "4f1fb323-0e02-44d5-83a9-ae47733db3ff"
      },
      "execution_count": null,
      "outputs": [
        {
          "output_type": "display_data",
          "data": {
            "text/plain": [
              "<Figure size 432x288 with 1 Axes>"
            ],
            "image/png": "[encoded data removed]"
          },
          "metadata": {
            "needs_background": "light"
          }
        }
      ]
    },
    {
      "cell_type": "code",
      "source": [
        "f1 = interpolate.interp1d(x.values, y.values, kind = 'cubic') #модель - интерполяция кубическим сплайном"
      ],
      "metadata": {
        "id": "yWR0a-Vv3U1s"
      },
      "execution_count": null,
      "outputs": []
    },
    {
      "cell_type": "code",
      "source": [
        "plt.plot(x, y, 'o', xnew, f1(xnew))"
      ],
      "metadata": {
        "colab": {
          "base_uri": "https://localhost:8080/",
          "height": 310
        },
        "id": "8guh-yS73zQV",
        "outputId": "e411bff5-0629-40ed-faed-450f329197c6"
      },
      "execution_count": null,
      "outputs": [
        {
          "output_type": "execute_result",
          "data": {
            "text/plain": [
              "[<matplotlib.lines.Line2D at 0x7fc29395d190>,\n",
              " <matplotlib.lines.Line2D at 0x7fc293984310>]"
            ]
          },
          "metadata": {},
          "execution_count": 7
        },
        {
          "output_type": "display_data",
          "data": {
            "text/plain": [
              "<Figure size 432x288 with 1 Axes>"
            ],
            "image/png": "[encoded data removed]"
          },
          "metadata": {
            "needs_background": "light"
          }
        }
      ]
    },
    {
      "cell_type": "code",
      "source": [
        "#функция для интерполяции Лагранжа\n",
        "def lagrange(x, y, xnew):\n",
        "    ynew = 0.0\n",
        "    for i in range(len(y)):\n",
        "        temp = y[i]\n",
        "        for j in range(len(y)):\n",
        "            if i != j:\n",
        "                temp *= (xnew - x[j]) / (x[i] - x[j])\n",
        "        ynew += temp\n",
        "    return ynew"
      ],
      "metadata": {
        "id": "1eW9AAWULWDM"
      },
      "execution_count": null,
      "outputs": []
    },
    {
      "cell_type": "code",
      "source": [
        "plt.plot(x,y, 'o', xnew, lagrange(x.values,y.values,xnew))"
      ],
      "metadata": {
        "colab": {
          "base_uri": "https://localhost:8080/",
          "height": 310
        },
        "id": "adyLUFNb_P8d",
        "outputId": "fccf952e-c500-49ea-f815-2b10b176df7d"
      },
      "execution_count": null,
      "outputs": [
        {
          "output_type": "execute_result",
          "data": {
            "text/plain": [
              "[<matplotlib.lines.Line2D at 0x7fc2939361d0>,\n",
              " <matplotlib.lines.Line2D at 0x7fc293903450>]"
            ]
          },
          "metadata": {},
          "execution_count": 9
        },
        {
          "output_type": "display_data",
          "data": {
            "text/plain": [
              "<Figure size 432x288 with 1 Axes>"
            ],
            "image/png": "[encoded data removed]"
          },
          "metadata": {
            "needs_background": "light"
          }
        }
      ]
    }
  ]
}